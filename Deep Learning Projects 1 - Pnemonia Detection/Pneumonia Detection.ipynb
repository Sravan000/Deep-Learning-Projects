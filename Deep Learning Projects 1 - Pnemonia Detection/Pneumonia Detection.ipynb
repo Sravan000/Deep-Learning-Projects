{
 "cells": [
  {
   "cell_type": "code",
   "execution_count": 1,
   "metadata": {
    "execution": {
     "iopub.execute_input": "2021-07-01T15:21:32.767012Z",
     "iopub.status.busy": "2021-07-01T15:21:32.766530Z",
     "iopub.status.idle": "2021-07-01T15:21:39.975971Z",
     "shell.execute_reply": "2021-07-01T15:21:39.974873Z",
     "shell.execute_reply.started": "2021-07-01T15:21:32.766926Z"
    }
   },
   "outputs": [],
   "source": [
    "import glob\n",
    "import os\n",
    "import numpy as np\n",
    "import pandas as pd\n",
    "import matplotlib.pyplot as plt\n",
    "%matplotlib inline\n",
    "\n",
    "import tensorflow as tf\n",
    "from tensorflow import keras\n",
    "from keras.applications import VGG16\n",
    "from tensorflow.keras.preprocessing.image import ImageDataGenerator"
   ]
  },
  {
   "cell_type": "code",
   "execution_count": 2,
   "metadata": {
    "execution": {
     "iopub.execute_input": "2021-07-01T15:21:39.980250Z",
     "iopub.status.busy": "2021-07-01T15:21:39.979941Z",
     "iopub.status.idle": "2021-07-01T15:21:39.988148Z",
     "shell.execute_reply": "2021-07-01T15:21:39.986693Z",
     "shell.execute_reply.started": "2021-07-01T15:21:39.980219Z"
    }
   },
   "outputs": [],
   "source": [
    "dir_path = \"../input/chest-xray-pneumonia/chest_xray/\""
   ]
  },
  {
   "cell_type": "code",
   "execution_count": 3,
   "metadata": {
    "execution": {
     "iopub.execute_input": "2021-07-01T15:21:39.993383Z",
     "iopub.status.busy": "2021-07-01T15:21:39.992986Z",
     "iopub.status.idle": "2021-07-01T15:21:40.001310Z",
     "shell.execute_reply": "2021-07-01T15:21:40.000140Z",
     "shell.execute_reply.started": "2021-07-01T15:21:39.993354Z"
    }
   },
   "outputs": [],
   "source": [
    "''' training path '''\n",
    "train_p = os.path.join(dir_path, \"train\")\n",
    "\n",
    "''' test path '''\n",
    "test_p =os.path.join(dir_path, \"test\")\n",
    "\n",
    "''' val path '''\n",
    "val_p = os.path.join(dir_path, \"val\")"
   ]
  },
  {
   "cell_type": "code",
   "execution_count": 4,
   "metadata": {
    "execution": {
     "iopub.execute_input": "2021-07-01T15:21:40.004091Z",
     "iopub.status.busy": "2021-07-01T15:21:40.003567Z",
     "iopub.status.idle": "2021-07-01T15:21:40.390532Z",
     "shell.execute_reply": "2021-07-01T15:21:40.389399Z",
     "shell.execute_reply.started": "2021-07-01T15:21:40.004024Z"
    }
   },
   "outputs": [],
   "source": [
    "''' PNEUMONIA images '''\n",
    "p_train_images = glob.glob(train_p + \"/PNEUMONIA/*.jpeg\")\n",
    "\n",
    "''' NORMAL  images '''\n",
    "n_train_images = glob.glob(train_p + \"/NORMAL/*.jpeg\")"
   ]
  },
  {
   "cell_type": "code",
   "execution_count": 5,
   "metadata": {
    "execution": {
     "iopub.execute_input": "2021-07-01T15:21:40.392476Z",
     "iopub.status.busy": "2021-07-01T15:21:40.392011Z",
     "iopub.status.idle": "2021-07-01T15:21:40.403881Z",
     "shell.execute_reply": "2021-07-01T15:21:40.402627Z",
     "shell.execute_reply.started": "2021-07-01T15:21:40.392432Z"
    }
   },
   "outputs": [],
   "source": [
    "df = pd.DataFrame(np.concatenate([[0]*len(n_train_images) , [1] *  len(p_train_images)]),columns=[\"class\"])"
   ]
  },
  {
   "cell_type": "code",
   "execution_count": 6,
   "metadata": {
    "execution": {
     "iopub.execute_input": "2021-07-01T15:21:40.406713Z",
     "iopub.status.busy": "2021-07-01T15:21:40.405986Z",
     "iopub.status.idle": "2021-07-01T15:21:40.596180Z",
     "shell.execute_reply": "2021-07-01T15:21:40.594731Z",
     "shell.execute_reply.started": "2021-07-01T15:21:40.406669Z"
    }
   },
   "outputs": [
    {
     "name": "stderr",
     "output_type": "stream",
     "text": [
      "/opt/conda/lib/python3.7/site-packages/seaborn/_decorators.py:43: FutureWarning: Pass the following variable as a keyword arg: x. From version 0.12, the only valid positional argument will be `data`, and passing other arguments without an explicit keyword will result in an error or misinterpretation.\n",
      "  FutureWarning\n"
     ]
    },
    {
     "data": {
      "text/plain": [
       "<AxesSubplot:xlabel='class', ylabel='count'>"
      ]
     },
     "execution_count": 6,
     "metadata": {},
     "output_type": "execute_result"
    },
    {
     "data": {
      "image/png": "[encoded data removed]",
      "text/plain": [
       "<Figure size 432x288 with 1 Axes>"
      ]
     },
     "metadata": {
      "needs_background": "light"
     },
     "output_type": "display_data"
    }
   ],
   "source": [
    "sns.countplot(df['class'],data=df)"
   ]
  },
  {
   "cell_type": "code",
   "execution_count": 7,
   "metadata": {
    "execution": {
     "iopub.execute_input": "2021-07-01T15:21:40.598276Z",
     "iopub.status.busy": "2021-07-01T15:21:40.597832Z",
     "iopub.status.idle": "2021-07-01T15:21:40.605568Z",
     "shell.execute_reply": "2021-07-01T15:21:40.603917Z",
     "shell.execute_reply.started": "2021-07-01T15:21:40.598234Z"
    }
   },
   "outputs": [],
   "source": [
    "''' Data Augmentation '''\n",
    "train_ds = ImageDataGenerator(rescale =1/255, shear_range=10, zoom_range = 0.2, horizontal_flip = True, \n",
    "                              width_shift_range=0.2, fill_mode = 'nearest')\n",
    "\n",
    "val_datagen = ImageDataGenerator(\n",
    "    rescale = 1/255\n",
    ")"
   ]
  },
  {
   "cell_type": "code",
   "execution_count": 8,
   "metadata": {
    "execution": {
     "iopub.execute_input": "2021-07-01T15:21:40.608071Z",
     "iopub.status.busy": "2021-07-01T15:21:40.607382Z",
     "iopub.status.idle": "2021-07-01T15:21:45.374019Z",
     "shell.execute_reply": "2021-07-01T15:21:45.372788Z",
     "shell.execute_reply.started": "2021-07-01T15:21:40.608006Z"
    }
   },
   "outputs": [
    {
     "name": "stdout",
     "output_type": "stream",
     "text": [
      "Downloading data from https://storage.googleapis.com/tensorflow/keras-applications/vgg16/vgg16_weights_tf_dim_ordering_tf_kernels_notop.h5\n",
      "58892288/58889256 [==============================] - 1s 0us/step\n"
     ]
    }
   ],
   "source": [
    "''' VGG16 Model '''\n",
    "\n",
    "model1 = VGG16(include_top = False,weights='imagenet')\n",
    "\n",
    "''' freezing layers '''\n",
    "for i in model1.layers:\n",
    "    i.trainable=False\n",
    "    \n",
    "out = model1.output\n",
    "\n",
    "''' GlobalAveragePooling Layer '''\n",
    "out = keras.layers.GlobalAveragePooling2D()(out)\n",
    "out = keras.layers.Dense(128, activation='relu')(out)\n",
    "\n",
    "''' Classification Layer '''\n",
    "pred = keras.layers.Dense(1, activation='sigmoid')(out)\n",
    "\n",
    "''' final model '''\n",
    "model= keras.Model(model1.input, pred)\n",
    "\n",
    "lr = 0.1\n",
    "lr_schedule = tf.keras.optimizers.schedules.ExponentialDecay(lr, decay_steps=100000, decay_rate=0.96, staircase=True)\n",
    "\n",
    "''' Compile the model '''\n",
    "model.compile(loss='binary_crossentropy', optimizer=tf.keras.optimizers.RMSprop(lr_schedule), metrics=['accuracy'])"
   ]
  },
  {
   "cell_type": "code",
   "execution_count": 9,
   "metadata": {
    "execution": {
     "iopub.execute_input": "2021-07-01T15:22:11.299459Z",
     "iopub.status.busy": "2021-07-01T15:22:11.298874Z",
     "iopub.status.idle": "2021-07-01T15:22:11.327424Z",
     "shell.execute_reply": "2021-07-01T15:22:11.326091Z",
     "shell.execute_reply.started": "2021-07-01T15:22:11.299413Z"
    }
   },
   "outputs": [
    {
     "name": "stdout",
     "output_type": "stream",
     "text": [
      "Model: \"model\"\n",
      "_________________________________________________________________\n",
      "Layer (type)                 Output Shape              Param #   \n",
      "=================================================================\n",
      "input_1 (InputLayer)         [(None, None, None, 3)]   0         \n",
      "_________________________________________________________________\n",
      "block1_conv1 (Conv2D)        (None, None, None, 64)    1792      \n",
      "_________________________________________________________________\n",
      "block1_conv2 (Conv2D)        (None, None, None, 64)    36928     \n",
      "_________________________________________________________________\n",
      "block1_pool (MaxPooling2D)   (None, None, None, 64)    0         \n",
      "_________________________________________________________________\n",
      "block2_conv1 (Conv2D)        (None, None, None, 128)   73856     \n",
      "_________________________________________________________________\n",
      "block2_conv2 (Conv2D)        (None, None, None, 128)   147584    \n",
      "_________________________________________________________________\n",
      "block2_pool (MaxPooling2D)   (None, None, None, 128)   0         \n",
      "_________________________________________________________________\n",
      "block3_conv1 (Conv2D)        (None, None, None, 256)   295168    \n",
      "_________________________________________________________________\n",
      "block3_conv2 (Conv2D)        (None, None, None, 256)   590080    \n",
      "_________________________________________________________________\n",
      "block3_conv3 (Conv2D)        (None, None, None, 256)   590080    \n",
      "_________________________________________________________________\n",
      "block3_pool (MaxPooling2D)   (None, None, None, 256)   0         \n",
      "_________________________________________________________________\n",
      "block4_conv1 (Conv2D)        (None, None, None, 512)   1180160   \n",
      "_________________________________________________________________\n",
      "block4_conv2 (Conv2D)        (None, None, None, 512)   2359808   \n",
      "_________________________________________________________________\n",
      "block4_conv3 (Conv2D)        (None, None, None, 512)   2359808   \n",
      "_________________________________________________________________\n",
      "block4_pool (MaxPooling2D)   (None, None, None, 512)   0         \n",
      "_________________________________________________________________\n",
      "block5_conv1 (Conv2D)        (None, None, None, 512)   2359808   \n",
      "_________________________________________________________________\n",
      "block5_conv2 (Conv2D)        (None, None, None, 512)   2359808   \n",
      "_________________________________________________________________\n",
      "block5_conv3 (Conv2D)        (None, None, None, 512)   2359808   \n",
      "_________________________________________________________________\n",
      "block5_pool (MaxPooling2D)   (None, None, None, 512)   0         \n",
      "_________________________________________________________________\n",
      "global_average_pooling2d (Gl (None, 512)               0         \n",
      "_________________________________________________________________\n",
      "dense (Dense)                (None, 128)               65664     \n",
      "_________________________________________________________________\n",
      "dense_1 (Dense)              (None, 1)                 129       \n",
      "=================================================================\n",
      "Total params: 14,780,481\n",
      "Trainable params: 65,793\n",
      "Non-trainable params: 14,714,688\n",
      "_________________________________________________________________\n"
     ]
    }
   ],
   "source": [
    "''' lets see how model looks like '''\n",
    "model.summary()"
   ]
  },
  {
   "cell_type": "code",
   "execution_count": 10,
   "metadata": {
    "execution": {
     "iopub.execute_input": "2021-07-01T15:22:16.287697Z",
     "iopub.status.busy": "2021-07-01T15:22:16.287328Z",
     "iopub.status.idle": "2021-07-01T15:22:19.655831Z",
     "shell.execute_reply": "2021-07-01T15:22:19.654472Z",
     "shell.execute_reply.started": "2021-07-01T15:22:16.287666Z"
    }
   },
   "outputs": [
    {
     "name": "stdout",
     "output_type": "stream",
     "text": [
      "Found 5216 images belonging to 2 classes.\n",
      "Found 16 images belonging to 2 classes.\n",
      "Found 624 images belonging to 2 classes.\n"
     ]
    }
   ],
   "source": [
    "''' flow from directory '''\n",
    "train_ds = train_ds.flow_from_directory(train_p, target_size=(150,150), batch_size= 16, class_mode='binary')\n",
    "\n",
    "val_ds = val_ds.flow_from_directory(val_p, target_size=(150,150),batch_size=8, class_mode='binary')\n",
    "\n",
    "tes_ds = val_datagen.flow_from_directory(test_p, target_size=(150,150), batch_size=32, class_mode='binary')"
   ]
  },
  {
   "cell_type": "code",
   "execution_count": 11,
   "metadata": {
    "execution": {
     "iopub.execute_input": "2021-07-01T15:22:19.658232Z",
     "iopub.status.busy": "2021-07-01T15:22:19.657697Z",
     "iopub.status.idle": "2021-07-01T15:48:03.124949Z",
     "shell.execute_reply": "2021-07-01T15:48:03.123762Z",
     "shell.execute_reply.started": "2021-07-01T15:22:19.658189Z"
    }
   },
   "outputs": [
    {
     "name": "stdout",
     "output_type": "stream",
     "text": [
      "Epoch 1/20\n",
      "100/100 [==============================] - 88s 795ms/step - loss: 11.0467 - accuracy: 0.6619 - val_loss: 4.7346 - val_accuracy: 0.5625\n",
      "Epoch 2/20\n",
      "100/100 [==============================] - 77s 768ms/step - loss: 0.5649 - accuracy: 0.8174 - val_loss: 0.3958 - val_accuracy: 0.9375\n",
      "Epoch 3/20\n",
      "100/100 [==============================] - 77s 762ms/step - loss: 0.3410 - accuracy: 0.8526 - val_loss: 0.3275 - val_accuracy: 0.8750\n",
      "Epoch 4/20\n",
      "100/100 [==============================] - 77s 762ms/step - loss: 0.2956 - accuracy: 0.8783 - val_loss: 0.2661 - val_accuracy: 0.8750\n",
      "Epoch 5/20\n",
      "100/100 [==============================] - 76s 762ms/step - loss: 0.2822 - accuracy: 0.8827 - val_loss: 1.4129 - val_accuracy: 0.6875\n",
      "Epoch 6/20\n",
      "100/100 [==============================] - 76s 762ms/step - loss: 0.2953 - accuracy: 0.8982 - val_loss: 1.1822 - val_accuracy: 0.6875\n",
      "Epoch 7/20\n",
      "100/100 [==============================] - 77s 762ms/step - loss: 0.2428 - accuracy: 0.8996 - val_loss: 6.5223 - val_accuracy: 0.5000\n",
      "Epoch 8/20\n",
      "100/100 [==============================] - 76s 762ms/step - loss: 0.4359 - accuracy: 0.8898 - val_loss: 0.2641 - val_accuracy: 0.9375\n",
      "Epoch 9/20\n",
      "100/100 [==============================] - 76s 762ms/step - loss: 0.2939 - accuracy: 0.8822 - val_loss: 0.5322 - val_accuracy: 0.7500\n",
      "Epoch 10/20\n",
      "100/100 [==============================] - 76s 762ms/step - loss: 0.2537 - accuracy: 0.8964 - val_loss: 0.7996 - val_accuracy: 0.7500\n",
      "Epoch 11/20\n",
      "100/100 [==============================] - 76s 762ms/step - loss: 0.2677 - accuracy: 0.9057 - val_loss: 0.3738 - val_accuracy: 0.8125\n",
      "Epoch 12/20\n",
      "100/100 [==============================] - 77s 762ms/step - loss: 0.2967 - accuracy: 0.8886 - val_loss: 0.6941 - val_accuracy: 0.6875\n",
      "Epoch 13/20\n",
      "100/100 [==============================] - 76s 762ms/step - loss: 0.2044 - accuracy: 0.9294 - val_loss: 3.1224 - val_accuracy: 0.5000\n",
      "Epoch 14/20\n",
      "100/100 [==============================] - 76s 762ms/step - loss: 0.2759 - accuracy: 0.9063 - val_loss: 1.3499 - val_accuracy: 0.6875\n",
      "Epoch 15/20\n",
      "100/100 [==============================] - 76s 762ms/step - loss: 0.2434 - accuracy: 0.9051 - val_loss: 0.6096 - val_accuracy: 0.7500\n",
      "Epoch 16/20\n",
      "100/100 [==============================] - 77s 764ms/step - loss: 0.2036 - accuracy: 0.9335 - val_loss: 0.2444 - val_accuracy: 0.9375\n",
      "Epoch 17/20\n",
      "100/100 [==============================] - 77s 763ms/step - loss: 0.2992 - accuracy: 0.8823 - val_loss: 0.7098 - val_accuracy: 0.7500\n",
      "Epoch 18/20\n",
      "100/100 [==============================] - 76s 762ms/step - loss: 0.2699 - accuracy: 0.8927 - val_loss: 0.4214 - val_accuracy: 0.8125\n",
      "Epoch 19/20\n",
      "100/100 [==============================] - 76s 762ms/step - loss: 0.2533 - accuracy: 0.9039 - val_loss: 0.9276 - val_accuracy: 0.6875\n",
      "Epoch 20/20\n",
      "100/100 [==============================] - 76s 762ms/step - loss: 0.2168 - accuracy: 0.9060 - val_loss: 0.1807 - val_accuracy: 0.9375\n"
     ]
    }
   ],
   "source": [
    "''' training '''\n",
    "history = model.fit(train_ds, steps_per_epoch = 100, epochs=20, validation_data=val_ds)"
   ]
  },
  {
   "cell_type": "code",
   "execution_count": 13,
   "metadata": {
    "execution": {
     "iopub.execute_input": "2021-07-01T15:48:20.003723Z",
     "iopub.status.busy": "2021-07-01T15:48:20.003354Z",
     "iopub.status.idle": "2021-07-01T15:48:57.134603Z",
     "shell.execute_reply": "2021-07-01T15:48:57.133506Z",
     "shell.execute_reply.started": "2021-07-01T15:48:20.003691Z"
    }
   },
   "outputs": [
    {
     "name": "stderr",
     "output_type": "stream",
     "text": [
      "/opt/conda/lib/python3.7/site-packages/tensorflow/python/keras/engine/training.py:1877: UserWarning: `Model.evaluate_generator` is deprecated and will be removed in a future version. Please use `Model.evaluate`, which supports generators.\n",
      "  warnings.warn('`Model.evaluate_generator` is deprecated and '\n"
     ]
    }
   ],
   "source": [
    "''' evaluating model '''\n",
    "accuracy = model.evaluate_generator(test_ds,624)[1]"
   ]
  },
  {
   "cell_type": "code",
   "execution_count": 14,
   "metadata": {
    "execution": {
     "iopub.execute_input": "2021-07-01T15:49:00.273682Z",
     "iopub.status.busy": "2021-07-01T15:49:00.273329Z",
     "iopub.status.idle": "2021-07-01T15:49:00.280508Z",
     "shell.execute_reply": "2021-07-01T15:49:00.279145Z",
     "shell.execute_reply.started": "2021-07-01T15:49:00.273653Z"
    }
   },
   "outputs": [
    {
     "data": {
      "text/plain": [
       "0.8525640964508057"
      ]
     },
     "execution_count": 14,
     "metadata": {},
     "output_type": "execute_result"
    }
   ],
   "source": [
    "accuracy"
   ]
  },
  {
   "cell_type": "code",
   "execution_count": 15,
   "metadata": {
    "execution": {
     "iopub.execute_input": "2021-07-01T15:49:04.713569Z",
     "iopub.status.busy": "2021-07-01T15:49:04.713168Z",
     "iopub.status.idle": "2021-07-01T15:49:04.719645Z",
     "shell.execute_reply": "2021-07-01T15:49:04.718363Z",
     "shell.execute_reply.started": "2021-07-01T15:49:04.713538Z"
    }
   },
   "outputs": [],
   "source": [
    "''' unfreezing layers '''\n",
    "for layer in model1.layers:\n",
    "    layer.trainable = True"
   ]
  },
  {
   "cell_type": "code",
   "execution_count": 16,
   "metadata": {
    "execution": {
     "iopub.execute_input": "2021-07-01T15:52:28.684299Z",
     "iopub.status.busy": "2021-07-01T15:52:28.683860Z",
     "iopub.status.idle": "2021-07-01T15:52:28.713336Z",
     "shell.execute_reply": "2021-07-01T15:52:28.712036Z",
     "shell.execute_reply.started": "2021-07-01T15:52:28.684256Z"
    }
   },
   "outputs": [],
   "source": [
    "'''Finetuning the model'''\n",
    "lr = 1e-5\n",
    "lr_schedule = tf.keras.optimizers.schedules.ExponentialDecay(lr, decay_steps=100000, decay_rate=0.96, staircase=True)\n",
    "\n",
    "''' compile the model '''\n",
    "model.compile(optimizer=tf.keras.optimizers.RMSprop(lr_schedule), loss=keras.losses.BinaryCrossentropy(from_logits=True),\n",
    "              metrics=[keras.metrics.BinaryAccuracy()])"
   ]
  },
  {
   "cell_type": "code",
   "execution_count": 17,
   "metadata": {
    "execution": {
     "iopub.execute_input": "2021-07-01T15:52:37.813674Z",
     "iopub.status.busy": "2021-07-01T15:52:37.813230Z",
     "iopub.status.idle": "2021-07-01T17:01:00.258136Z",
     "shell.execute_reply": "2021-07-01T17:01:00.257136Z",
     "shell.execute_reply.started": "2021-07-01T15:52:37.813644Z"
    }
   },
   "outputs": [
    {
     "name": "stdout",
     "output_type": "stream",
     "text": [
      "Epoch 1/100\n",
      "50/50 [==============================] - 44s 827ms/step - loss: 0.5159 - binary_accuracy: 0.7825 - val_loss: 1.4864 - val_binary_accuracy: 0.7500\n",
      "Epoch 2/100\n",
      "50/50 [==============================] - 41s 816ms/step - loss: 0.3430 - binary_accuracy: 0.8716 - val_loss: 0.4182 - val_binary_accuracy: 0.8125\n",
      "Epoch 3/100\n",
      "50/50 [==============================] - 41s 815ms/step - loss: 0.2455 - binary_accuracy: 0.8981 - val_loss: 0.5760 - val_binary_accuracy: 0.7500\n",
      "Epoch 4/100\n",
      "50/50 [==============================] - 41s 814ms/step - loss: 0.1858 - binary_accuracy: 0.9303 - val_loss: 0.1656 - val_binary_accuracy: 1.0000\n",
      "Epoch 5/100\n",
      "50/50 [==============================] - 41s 816ms/step - loss: 0.1788 - binary_accuracy: 0.9367 - val_loss: 0.4396 - val_binary_accuracy: 0.8125\n",
      "Epoch 6/100\n",
      "50/50 [==============================] - 41s 816ms/step - loss: 0.1999 - binary_accuracy: 0.9193 - val_loss: 0.7695 - val_binary_accuracy: 0.8125\n",
      "Epoch 7/100\n",
      "50/50 [==============================] - 41s 815ms/step - loss: 0.1765 - binary_accuracy: 0.9323 - val_loss: 0.2864 - val_binary_accuracy: 0.8750\n",
      "Epoch 8/100\n",
      "50/50 [==============================] - 41s 816ms/step - loss: 0.1772 - binary_accuracy: 0.9284 - val_loss: 0.6520 - val_binary_accuracy: 0.8125\n",
      "Epoch 9/100\n",
      "50/50 [==============================] - 41s 816ms/step - loss: 0.1238 - binary_accuracy: 0.9518 - val_loss: 1.1317 - val_binary_accuracy: 0.7500\n",
      "Epoch 10/100\n",
      "50/50 [==============================] - 41s 816ms/step - loss: 0.1183 - binary_accuracy: 0.9524 - val_loss: 0.4537 - val_binary_accuracy: 0.7500\n",
      "Epoch 11/100\n",
      "50/50 [==============================] - 41s 816ms/step - loss: 0.1425 - binary_accuracy: 0.9488 - val_loss: 1.5229 - val_binary_accuracy: 0.6875\n",
      "Epoch 12/100\n",
      "50/50 [==============================] - 41s 815ms/step - loss: 0.1929 - binary_accuracy: 0.9336 - val_loss: 0.3234 - val_binary_accuracy: 0.8750\n",
      "Epoch 13/100\n",
      "50/50 [==============================] - 41s 815ms/step - loss: 0.1310 - binary_accuracy: 0.9624 - val_loss: 0.3637 - val_binary_accuracy: 0.8750\n",
      "Epoch 14/100\n",
      "50/50 [==============================] - 41s 816ms/step - loss: 0.1270 - binary_accuracy: 0.9525 - val_loss: 0.2551 - val_binary_accuracy: 0.8750\n",
      "Epoch 15/100\n",
      "50/50 [==============================] - 41s 815ms/step - loss: 0.1273 - binary_accuracy: 0.9559 - val_loss: 0.3520 - val_binary_accuracy: 0.8125\n",
      "Epoch 16/100\n",
      "50/50 [==============================] - 41s 816ms/step - loss: 0.1346 - binary_accuracy: 0.9547 - val_loss: 0.3367 - val_binary_accuracy: 0.8125\n",
      "Epoch 17/100\n",
      "50/50 [==============================] - 41s 816ms/step - loss: 0.1673 - binary_accuracy: 0.9319 - val_loss: 0.6885 - val_binary_accuracy: 0.7500\n",
      "Epoch 18/100\n",
      "50/50 [==============================] - 41s 816ms/step - loss: 0.1304 - binary_accuracy: 0.9586 - val_loss: 0.2867 - val_binary_accuracy: 0.8750\n",
      "Epoch 19/100\n",
      "50/50 [==============================] - 41s 816ms/step - loss: 0.1620 - binary_accuracy: 0.9325 - val_loss: 0.2981 - val_binary_accuracy: 0.8750\n",
      "Epoch 20/100\n",
      "50/50 [==============================] - 41s 817ms/step - loss: 0.1743 - binary_accuracy: 0.9414 - val_loss: 0.1735 - val_binary_accuracy: 0.9375\n",
      "Epoch 21/100\n",
      "50/50 [==============================] - 41s 816ms/step - loss: 0.1605 - binary_accuracy: 0.9464 - val_loss: 0.2192 - val_binary_accuracy: 0.9375\n",
      "Epoch 22/100\n",
      "50/50 [==============================] - 41s 816ms/step - loss: 0.1412 - binary_accuracy: 0.9463 - val_loss: 0.2939 - val_binary_accuracy: 0.8750\n",
      "Epoch 23/100\n",
      "50/50 [==============================] - 41s 815ms/step - loss: 0.1444 - binary_accuracy: 0.9505 - val_loss: 0.2079 - val_binary_accuracy: 0.9375\n",
      "Epoch 24/100\n",
      "50/50 [==============================] - 41s 816ms/step - loss: 0.1288 - binary_accuracy: 0.9536 - val_loss: 0.3257 - val_binary_accuracy: 0.8750\n",
      "Epoch 25/100\n",
      "50/50 [==============================] - 41s 814ms/step - loss: 0.1379 - binary_accuracy: 0.9375 - val_loss: 0.1474 - val_binary_accuracy: 0.9375\n",
      "Epoch 26/100\n",
      "50/50 [==============================] - 41s 816ms/step - loss: 0.1109 - binary_accuracy: 0.9648 - val_loss: 0.3153 - val_binary_accuracy: 0.8750\n",
      "Epoch 27/100\n",
      "50/50 [==============================] - 41s 816ms/step - loss: 0.0856 - binary_accuracy: 0.9664 - val_loss: 0.5284 - val_binary_accuracy: 0.8750\n",
      "Epoch 28/100\n",
      "50/50 [==============================] - 41s 815ms/step - loss: 0.0955 - binary_accuracy: 0.9586 - val_loss: 0.3131 - val_binary_accuracy: 0.9375\n",
      "Epoch 29/100\n",
      "50/50 [==============================] - 41s 816ms/step - loss: 0.1254 - binary_accuracy: 0.9553 - val_loss: 0.3496 - val_binary_accuracy: 0.8750\n",
      "Epoch 30/100\n",
      "50/50 [==============================] - 41s 815ms/step - loss: 0.0808 - binary_accuracy: 0.9672 - val_loss: 0.5987 - val_binary_accuracy: 0.7500\n",
      "Epoch 31/100\n",
      "50/50 [==============================] - 41s 817ms/step - loss: 0.0677 - binary_accuracy: 0.9775 - val_loss: 0.4733 - val_binary_accuracy: 0.8750\n",
      "Epoch 32/100\n",
      "50/50 [==============================] - 41s 815ms/step - loss: 0.0938 - binary_accuracy: 0.9714 - val_loss: 0.6934 - val_binary_accuracy: 0.7500\n",
      "Epoch 33/100\n",
      "50/50 [==============================] - 41s 815ms/step - loss: 0.1071 - binary_accuracy: 0.9603 - val_loss: 0.3838 - val_binary_accuracy: 0.9375\n",
      "Epoch 34/100\n",
      "50/50 [==============================] - 41s 816ms/step - loss: 0.0975 - binary_accuracy: 0.9684 - val_loss: 0.8062 - val_binary_accuracy: 0.6875\n",
      "Epoch 35/100\n",
      "50/50 [==============================] - 41s 814ms/step - loss: 0.1102 - binary_accuracy: 0.9622 - val_loss: 0.2694 - val_binary_accuracy: 0.9375\n",
      "Epoch 36/100\n",
      "50/50 [==============================] - 41s 815ms/step - loss: 0.0952 - binary_accuracy: 0.9638 - val_loss: 0.4184 - val_binary_accuracy: 0.8750\n",
      "Epoch 37/100\n",
      "50/50 [==============================] - 41s 816ms/step - loss: 0.0804 - binary_accuracy: 0.9736 - val_loss: 0.1731 - val_binary_accuracy: 0.9375\n",
      "Epoch 38/100\n",
      "50/50 [==============================] - 41s 816ms/step - loss: 0.0771 - binary_accuracy: 0.9705 - val_loss: 0.3323 - val_binary_accuracy: 0.9375\n",
      "Epoch 39/100\n",
      "50/50 [==============================] - 41s 815ms/step - loss: 0.0931 - binary_accuracy: 0.9653 - val_loss: 0.2044 - val_binary_accuracy: 0.9375\n",
      "Epoch 40/100\n",
      "50/50 [==============================] - 41s 815ms/step - loss: 0.1067 - binary_accuracy: 0.9662 - val_loss: 0.3835 - val_binary_accuracy: 0.8750\n",
      "Epoch 41/100\n",
      "50/50 [==============================] - 41s 815ms/step - loss: 0.0769 - binary_accuracy: 0.9741 - val_loss: 0.6526 - val_binary_accuracy: 0.8125\n",
      "Epoch 42/100\n",
      "50/50 [==============================] - 41s 816ms/step - loss: 0.0841 - binary_accuracy: 0.9703 - val_loss: 0.4182 - val_binary_accuracy: 0.8125\n",
      "Epoch 43/100\n",
      "50/50 [==============================] - 41s 815ms/step - loss: 0.0663 - binary_accuracy: 0.9749 - val_loss: 0.1251 - val_binary_accuracy: 0.9375\n",
      "Epoch 44/100\n",
      "50/50 [==============================] - 41s 814ms/step - loss: 0.0537 - binary_accuracy: 0.9808 - val_loss: 0.1904 - val_binary_accuracy: 0.9375\n",
      "Epoch 45/100\n",
      "50/50 [==============================] - 41s 815ms/step - loss: 0.0762 - binary_accuracy: 0.9653 - val_loss: 0.1518 - val_binary_accuracy: 0.9375\n",
      "Epoch 46/100\n",
      "50/50 [==============================] - 41s 815ms/step - loss: 0.0706 - binary_accuracy: 0.9822 - val_loss: 0.3464 - val_binary_accuracy: 0.8125\n",
      "Epoch 47/100\n",
      "50/50 [==============================] - 41s 815ms/step - loss: 0.1012 - binary_accuracy: 0.9656 - val_loss: 0.1324 - val_binary_accuracy: 0.9375\n",
      "Epoch 48/100\n",
      "50/50 [==============================] - 41s 815ms/step - loss: 0.1010 - binary_accuracy: 0.9628 - val_loss: 0.2932 - val_binary_accuracy: 0.9375\n",
      "Epoch 49/100\n",
      "50/50 [==============================] - 41s 815ms/step - loss: 0.0833 - binary_accuracy: 0.9692 - val_loss: 0.1424 - val_binary_accuracy: 0.9375\n",
      "Epoch 50/100\n",
      "50/50 [==============================] - 41s 817ms/step - loss: 0.1141 - binary_accuracy: 0.9516 - val_loss: 0.5365 - val_binary_accuracy: 0.9375\n",
      "Epoch 51/100\n",
      "50/50 [==============================] - 41s 815ms/step - loss: 0.1602 - binary_accuracy: 0.9503 - val_loss: 0.3031 - val_binary_accuracy: 0.9375\n",
      "Epoch 52/100\n",
      "50/50 [==============================] - 41s 815ms/step - loss: 0.0524 - binary_accuracy: 0.9834 - val_loss: 0.3528 - val_binary_accuracy: 0.9375\n",
      "Epoch 53/100\n",
      "50/50 [==============================] - 41s 816ms/step - loss: 0.0745 - binary_accuracy: 0.9667 - val_loss: 0.4330 - val_binary_accuracy: 0.9375\n",
      "Epoch 54/100\n",
      "50/50 [==============================] - 41s 814ms/step - loss: 0.0758 - binary_accuracy: 0.9624 - val_loss: 0.2744 - val_binary_accuracy: 0.9375\n",
      "Epoch 55/100\n",
      "50/50 [==============================] - 41s 814ms/step - loss: 0.0409 - binary_accuracy: 0.9877 - val_loss: 0.6229 - val_binary_accuracy: 0.8750\n",
      "Epoch 56/100\n",
      "50/50 [==============================] - 41s 815ms/step - loss: 0.0773 - binary_accuracy: 0.9829 - val_loss: 0.1906 - val_binary_accuracy: 0.9375\n",
      "Epoch 57/100\n",
      "50/50 [==============================] - 41s 814ms/step - loss: 0.0697 - binary_accuracy: 0.9753 - val_loss: 0.2969 - val_binary_accuracy: 0.8750\n",
      "Epoch 58/100\n",
      "50/50 [==============================] - 41s 815ms/step - loss: 0.1025 - binary_accuracy: 0.9647 - val_loss: 0.2507 - val_binary_accuracy: 0.9375\n",
      "Epoch 59/100\n",
      "50/50 [==============================] - 41s 815ms/step - loss: 0.0473 - binary_accuracy: 0.9874 - val_loss: 0.3425 - val_binary_accuracy: 0.9375\n",
      "Epoch 60/100\n",
      "50/50 [==============================] - 41s 815ms/step - loss: 0.1047 - binary_accuracy: 0.9677 - val_loss: 0.0866 - val_binary_accuracy: 0.9375\n",
      "Epoch 61/100\n",
      "50/50 [==============================] - 41s 815ms/step - loss: 0.1372 - binary_accuracy: 0.9560 - val_loss: 0.2279 - val_binary_accuracy: 0.9375\n",
      "Epoch 62/100\n",
      "50/50 [==============================] - 41s 814ms/step - loss: 0.0943 - binary_accuracy: 0.9679 - val_loss: 0.1012 - val_binary_accuracy: 0.9375\n",
      "Epoch 63/100\n",
      "50/50 [==============================] - 41s 814ms/step - loss: 0.0882 - binary_accuracy: 0.9675 - val_loss: 0.5421 - val_binary_accuracy: 0.8750\n",
      "Epoch 64/100\n",
      "50/50 [==============================] - 41s 816ms/step - loss: 0.0854 - binary_accuracy: 0.9735 - val_loss: 0.4837 - val_binary_accuracy: 0.8750\n",
      "Epoch 65/100\n",
      "50/50 [==============================] - 41s 814ms/step - loss: 0.0716 - binary_accuracy: 0.9768 - val_loss: 0.1044 - val_binary_accuracy: 0.9375\n",
      "Epoch 66/100\n",
      "50/50 [==============================] - 41s 815ms/step - loss: 0.0584 - binary_accuracy: 0.9786 - val_loss: 0.3283 - val_binary_accuracy: 0.8750\n",
      "Epoch 67/100\n",
      "50/50 [==============================] - 41s 815ms/step - loss: 0.0497 - binary_accuracy: 0.9836 - val_loss: 0.1230 - val_binary_accuracy: 0.9375\n",
      "Epoch 68/100\n",
      "50/50 [==============================] - 41s 814ms/step - loss: 0.1120 - binary_accuracy: 0.9547 - val_loss: 0.1449 - val_binary_accuracy: 0.9375\n",
      "Epoch 69/100\n",
      "50/50 [==============================] - 41s 814ms/step - loss: 0.0592 - binary_accuracy: 0.9814 - val_loss: 0.1707 - val_binary_accuracy: 0.9375\n",
      "Epoch 70/100\n",
      "50/50 [==============================] - 41s 815ms/step - loss: 0.0564 - binary_accuracy: 0.9820 - val_loss: 0.1183 - val_binary_accuracy: 0.9375\n",
      "Epoch 71/100\n",
      "50/50 [==============================] - 41s 815ms/step - loss: 0.0689 - binary_accuracy: 0.9706 - val_loss: 0.2574 - val_binary_accuracy: 0.8750\n",
      "Epoch 72/100\n",
      "50/50 [==============================] - 41s 815ms/step - loss: 0.0810 - binary_accuracy: 0.9709 - val_loss: 0.8137 - val_binary_accuracy: 0.8125\n",
      "Epoch 73/100\n",
      "50/50 [==============================] - 41s 814ms/step - loss: 0.0764 - binary_accuracy: 0.9661 - val_loss: 0.1661 - val_binary_accuracy: 0.9375\n",
      "Epoch 74/100\n",
      "50/50 [==============================] - 41s 815ms/step - loss: 0.0678 - binary_accuracy: 0.9783 - val_loss: 0.4635 - val_binary_accuracy: 0.8750\n",
      "Epoch 75/100\n",
      "50/50 [==============================] - 41s 814ms/step - loss: 0.0756 - binary_accuracy: 0.9786 - val_loss: 0.1965 - val_binary_accuracy: 0.9375\n",
      "Epoch 76/100\n",
      "50/50 [==============================] - 41s 815ms/step - loss: 0.0873 - binary_accuracy: 0.9695 - val_loss: 0.2165 - val_binary_accuracy: 0.9375\n",
      "Epoch 77/100\n",
      "50/50 [==============================] - 41s 814ms/step - loss: 0.0680 - binary_accuracy: 0.9784 - val_loss: 0.2828 - val_binary_accuracy: 0.9375\n",
      "Epoch 78/100\n",
      "50/50 [==============================] - 41s 816ms/step - loss: 0.0433 - binary_accuracy: 0.9839 - val_loss: 0.0900 - val_binary_accuracy: 1.0000\n",
      "Epoch 79/100\n",
      "50/50 [==============================] - 41s 816ms/step - loss: 0.0510 - binary_accuracy: 0.9782 - val_loss: 0.2803 - val_binary_accuracy: 0.9375\n",
      "Epoch 80/100\n",
      "50/50 [==============================] - 41s 815ms/step - loss: 0.0593 - binary_accuracy: 0.9806 - val_loss: 0.6391 - val_binary_accuracy: 0.8125\n",
      "Epoch 81/100\n",
      "50/50 [==============================] - 41s 814ms/step - loss: 0.0671 - binary_accuracy: 0.9805 - val_loss: 0.1304 - val_binary_accuracy: 0.9375\n",
      "Epoch 82/100\n",
      "50/50 [==============================] - 41s 816ms/step - loss: 0.0572 - binary_accuracy: 0.9802 - val_loss: 0.1199 - val_binary_accuracy: 0.9375\n",
      "Epoch 83/100\n",
      "50/50 [==============================] - 41s 814ms/step - loss: 0.0803 - binary_accuracy: 0.9749 - val_loss: 0.1393 - val_binary_accuracy: 0.9375\n",
      "Epoch 84/100\n",
      "50/50 [==============================] - 41s 815ms/step - loss: 0.0495 - binary_accuracy: 0.9821 - val_loss: 0.0883 - val_binary_accuracy: 1.0000\n",
      "Epoch 85/100\n",
      "50/50 [==============================] - 41s 814ms/step - loss: 0.0510 - binary_accuracy: 0.9856 - val_loss: 0.0572 - val_binary_accuracy: 1.0000\n",
      "Epoch 86/100\n",
      "50/50 [==============================] - 41s 815ms/step - loss: 0.0801 - binary_accuracy: 0.9707 - val_loss: 0.1043 - val_binary_accuracy: 0.9375\n",
      "Epoch 87/100\n",
      "50/50 [==============================] - 41s 814ms/step - loss: 0.0677 - binary_accuracy: 0.9764 - val_loss: 0.1055 - val_binary_accuracy: 0.9375\n",
      "Epoch 88/100\n",
      "50/50 [==============================] - 41s 815ms/step - loss: 0.0764 - binary_accuracy: 0.9696 - val_loss: 0.2762 - val_binary_accuracy: 0.9375\n",
      "Epoch 89/100\n",
      "50/50 [==============================] - 41s 814ms/step - loss: 0.0631 - binary_accuracy: 0.9767 - val_loss: 0.1633 - val_binary_accuracy: 0.9375\n",
      "Epoch 90/100\n",
      "50/50 [==============================] - 41s 815ms/step - loss: 0.0795 - binary_accuracy: 0.9731 - val_loss: 0.0827 - val_binary_accuracy: 1.0000\n",
      "Epoch 91/100\n",
      "50/50 [==============================] - 41s 815ms/step - loss: 0.0509 - binary_accuracy: 0.9826 - val_loss: 0.0866 - val_binary_accuracy: 0.9375\n",
      "Epoch 92/100\n",
      "50/50 [==============================] - 41s 815ms/step - loss: 0.0538 - binary_accuracy: 0.9746 - val_loss: 0.1488 - val_binary_accuracy: 0.9375\n",
      "Epoch 93/100\n",
      "50/50 [==============================] - 41s 814ms/step - loss: 0.0742 - binary_accuracy: 0.9751 - val_loss: 0.0568 - val_binary_accuracy: 1.0000\n",
      "Epoch 94/100\n",
      "50/50 [==============================] - 41s 815ms/step - loss: 0.0711 - binary_accuracy: 0.9705 - val_loss: 0.1394 - val_binary_accuracy: 0.9375\n",
      "Epoch 95/100\n",
      "50/50 [==============================] - 41s 814ms/step - loss: 0.0375 - binary_accuracy: 0.9864 - val_loss: 0.0660 - val_binary_accuracy: 1.0000\n",
      "Epoch 96/100\n",
      "50/50 [==============================] - 41s 815ms/step - loss: 0.0818 - binary_accuracy: 0.9649 - val_loss: 0.6476 - val_binary_accuracy: 0.8125\n",
      "Epoch 97/100\n",
      "50/50 [==============================] - 41s 815ms/step - loss: 0.0495 - binary_accuracy: 0.9726 - val_loss: 0.1004 - val_binary_accuracy: 0.9375\n",
      "Epoch 98/100\n",
      "50/50 [==============================] - 41s 815ms/step - loss: 0.0892 - binary_accuracy: 0.9685 - val_loss: 0.4588 - val_binary_accuracy: 0.8125\n",
      "Epoch 99/100\n",
      "50/50 [==============================] - 41s 815ms/step - loss: 0.0361 - binary_accuracy: 0.9881 - val_loss: 0.3990 - val_binary_accuracy: 0.8750\n",
      "Epoch 100/100\n",
      "50/50 [==============================] - 41s 815ms/step - loss: 0.0717 - binary_accuracy: 0.9724 - val_loss: 0.0850 - val_binary_accuracy: 0.9375\n"
     ]
    },
    {
     "data": {
      "text/plain": [
       "<tensorflow.python.keras.callbacks.History at 0x7fc2e022ca50>"
      ]
     },
     "execution_count": 17,
     "metadata": {},
     "output_type": "execute_result"
    }
   ],
   "source": [
    "''' training '''\n",
    "model.fit(train_ds, steps_per_epoch = 50, epochs=100, validation_data=val_s)"
   ]
  },
  {
   "cell_type": "code",
   "execution_count": 55,
   "metadata": {
    "execution": {
     "iopub.execute_input": "2021-07-01T17:21:37.402532Z",
     "iopub.status.busy": "2021-07-01T17:21:37.402174Z",
     "iopub.status.idle": "2021-07-01T17:22:06.965573Z",
     "shell.execute_reply": "2021-07-01T17:22:06.964398Z",
     "shell.execute_reply.started": "2021-07-01T17:21:37.402501Z"
    }
   },
   "outputs": [
    {
     "name": "stderr",
     "output_type": "stream",
     "text": [
      "/opt/conda/lib/python3.7/site-packages/tensorflow/python/keras/engine/training.py:1877: UserWarning: `Model.evaluate_generator` is deprecated and will be removed in a future version. Please use `Model.evaluate`, which supports generators.\n",
      "  warnings.warn('`Model.evaluate_generator` is deprecated and '\n"
     ]
    }
   ],
   "source": [
    "''' evaluating model '''\n",
    "final_acc = model.evaluate_generator(test_generator,624)[1]"
   ]
  },
  {
   "cell_type": "code",
   "execution_count": 56,
   "metadata": {
    "execution": {
     "iopub.execute_input": "2021-07-01T17:22:06.968025Z",
     "iopub.status.busy": "2021-07-01T17:22:06.967628Z",
     "iopub.status.idle": "2021-07-01T17:22:06.978503Z",
     "shell.execute_reply": "2021-07-01T17:22:06.976608Z",
     "shell.execute_reply.started": "2021-07-01T17:22:06.967981Z"
    }
   },
   "outputs": [
    {
     "data": {
      "text/plain": [
       "0.942307710647583"
      ]
     },
     "execution_count": 56,
     "metadata": {},
     "output_type": "execute_result"
    }
   ],
   "source": [
    "final_acc"
   ]
  },
  {
   "cell_type": "code",
   "execution_count": 22,
   "metadata": {
    "execution": {
     "iopub.execute_input": "2021-07-01T17:03:16.613557Z",
     "iopub.status.busy": "2021-07-01T17:03:16.613215Z",
     "iopub.status.idle": "2021-07-01T17:03:16.989739Z",
     "shell.execute_reply": "2021-07-01T17:03:16.988778Z",
     "shell.execute_reply.started": "2021-07-01T17:03:16.613514Z"
    }
   },
   "outputs": [
    {
     "data": {
      "image/png": "[encoded data removed]",
      "text/plain": [
       "<Figure size 1080x720 with 2 Axes>"
      ]
     },
     "metadata": {
      "needs_background": "light"
     },
     "output_type": "display_data"
    }
   ],
   "source": [
    "''' Training Accuracy and Validaion Accuracy graph '''\n",
    "plt.figure(figsize=(15,10))\n",
    "plt.subplot(2, 2, 1)\n",
    "plt.plot(history.history['accuracy'], label = \"Training accuracy\")\n",
    "plt.plot(history.history['val_accuracy'], label=\"Validation accuracy\")\n",
    "plt.legend()\n",
    "plt.title(\"Training vs validation accuracy\")\n",
    "\n",
    "''' Training Loss and Validation Loss graph '''\n",
    "plt.subplot(2,2,2)\n",
    "plt.plot(history.history['loss'], label = \"Training loss\")\n",
    "plt.plot(history.history['val_loss'], label=\"Validation loss\")\n",
    "plt.legend()\n",
    "plt.title(\"Training vs validation loss\")\n",
    "\n",
    "plt.show()"
   ]
  },
  {
   "cell_type": "code",
   "execution_count": null,
   "metadata": {},
   "outputs": [],
   "source": []
  },
  {
   "cell_type": "code",
   "execution_count": null,
   "metadata": {},
   "outputs": [],
   "source": []
  }
 ],
 "metadata": {
  "kernelspec": {
   "display_name": "Python 3",
   "language": "python",
   "name": "python3"
  },
  "language_info": {
   "codemirror_mode": {
    "name": "ipython",
    "version": 3
   },
   "file_extension": ".py",
   "mimetype": "text/x-python",
   "name": "python",
   "nbconvert_exporter": "python",
   "pygments_lexer": "ipython3",
   "version": "3.8.5"
  }
 },
 "nbformat": 4,
 "nbformat_minor": 4
}
