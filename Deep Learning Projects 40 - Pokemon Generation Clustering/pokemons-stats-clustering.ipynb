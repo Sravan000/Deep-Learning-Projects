{
 "cells": [
  {
   "cell_type": "code",
   "execution_count": 1,
   "metadata": {
    "_cell_guid": "b1076dfc-b9ad-4769-8c92-a6c4dae69d19",
    "_uuid": "8f2839f25d086af736a60e9eeb907d3b93b6e0e5",
    "execution": {
     "iopub.execute_input": "2021-06-21T02:28:15.366991Z",
     "iopub.status.busy": "2021-06-21T02:28:15.366342Z",
     "iopub.status.idle": "2021-06-21T02:28:16.802618Z",
     "shell.execute_reply": "2021-06-21T02:28:16.801459Z",
     "shell.execute_reply.started": "2021-06-21T02:27:47.051863Z"
    },
    "papermill": {
     "duration": 1.462742,
     "end_time": "2021-06-21T02:28:16.802921",
     "exception": false,
     "start_time": "2021-06-21T02:28:15.340179",
     "status": "completed"
    },
    "tags": []
   },
   "outputs": [],
   "source": [
    "import os\n",
    "import cv2\n",
    "import random\n",
    "import numpy as np\n",
    "import pandas as pd\n",
    "import seaborn as sns\n",
    "import matplotlib.pyplot as plt\n",
    "%matplotlib inline\n",
    "\n",
    "from scipy.cluster.hierarchy import linkage, dendrogram\n",
    "from sklearn.cluster import KMeans, AgglomerativeClustering, AffinityPropagation\n",
    "from sklearn.mixture import GaussianMixture "
   ]
  },
  {
   "cell_type": "code",
   "execution_count": 2,
   "metadata": {
    "_cell_guid": "79c7e3d0-c299-4dcb-8224-4455121ee9b0",
    "_uuid": "d629ff2d2480ee46fbb7e2d37f6b5fab8052498a",
    "execution": {
     "iopub.execute_input": "2021-06-21T02:28:16.853609Z",
     "iopub.status.busy": "2021-06-21T02:28:16.852705Z",
     "iopub.status.idle": "2021-06-21T02:28:16.898859Z",
     "shell.execute_reply": "2021-06-21T02:28:16.899397Z",
     "shell.execute_reply.started": "2021-06-21T02:27:47.059389Z"
    },
    "papermill": {
     "duration": 0.074159,
     "end_time": "2021-06-21T02:28:16.899566",
     "exception": false,
     "start_time": "2021-06-21T02:28:16.825407",
     "status": "completed"
    },
    "tags": []
   },
   "outputs": [
    {
     "data": {
      "text/html": [
       "<div>\n",
       "<style scoped>\n",
       "    .dataframe tbody tr th:only-of-type {\n",
       "        vertical-align: middle;\n",
       "    }\n",
       "\n",
       "    .dataframe tbody tr th {\n",
       "        vertical-align: top;\n",
       "    }\n",
       "\n",
       "    .dataframe thead th {\n",
       "        text-align: right;\n",
       "    }\n",
       "</style>\n",
       "<table border=\"1\" class=\"dataframe\">\n",
       "  <thead>\n",
       "    <tr style=\"text-align: right;\">\n",
       "      <th></th>\n",
       "      <th>Name</th>\n",
       "      <th>Total</th>\n",
       "      <th>HP</th>\n",
       "      <th>Attack</th>\n",
       "      <th>Defence</th>\n",
       "      <th>Sp_attack</th>\n",
       "      <th>Sp_defence</th>\n",
       "      <th>Speed</th>\n",
       "    </tr>\n",
       "  </thead>\n",
       "  <tbody>\n",
       "    <tr>\n",
       "      <th>0</th>\n",
       "      <td>Bulbasaur</td>\n",
       "      <td>318</td>\n",
       "      <td>45</td>\n",
       "      <td>49</td>\n",
       "      <td>49</td>\n",
       "      <td>65</td>\n",
       "      <td>65</td>\n",
       "      <td>45</td>\n",
       "    </tr>\n",
       "    <tr>\n",
       "      <th>1</th>\n",
       "      <td>Ivysaur</td>\n",
       "      <td>405</td>\n",
       "      <td>60</td>\n",
       "      <td>62</td>\n",
       "      <td>63</td>\n",
       "      <td>80</td>\n",
       "      <td>80</td>\n",
       "      <td>60</td>\n",
       "    </tr>\n",
       "    <tr>\n",
       "      <th>2</th>\n",
       "      <td>Venusaur</td>\n",
       "      <td>525</td>\n",
       "      <td>80</td>\n",
       "      <td>82</td>\n",
       "      <td>83</td>\n",
       "      <td>100</td>\n",
       "      <td>100</td>\n",
       "      <td>80</td>\n",
       "    </tr>\n",
       "    <tr>\n",
       "      <th>3</th>\n",
       "      <td>Venusaur</td>\n",
       "      <td>625</td>\n",
       "      <td>80</td>\n",
       "      <td>100</td>\n",
       "      <td>123</td>\n",
       "      <td>122</td>\n",
       "      <td>120</td>\n",
       "      <td>80</td>\n",
       "    </tr>\n",
       "    <tr>\n",
       "      <th>4</th>\n",
       "      <td>Charmander</td>\n",
       "      <td>309</td>\n",
       "      <td>39</td>\n",
       "      <td>52</td>\n",
       "      <td>43</td>\n",
       "      <td>60</td>\n",
       "      <td>50</td>\n",
       "      <td>65</td>\n",
       "    </tr>\n",
       "    <tr>\n",
       "      <th>5</th>\n",
       "      <td>Charmeleon</td>\n",
       "      <td>405</td>\n",
       "      <td>58</td>\n",
       "      <td>64</td>\n",
       "      <td>58</td>\n",
       "      <td>80</td>\n",
       "      <td>65</td>\n",
       "      <td>80</td>\n",
       "    </tr>\n",
       "    <tr>\n",
       "      <th>6</th>\n",
       "      <td>Charizard</td>\n",
       "      <td>534</td>\n",
       "      <td>78</td>\n",
       "      <td>84</td>\n",
       "      <td>78</td>\n",
       "      <td>109</td>\n",
       "      <td>85</td>\n",
       "      <td>100</td>\n",
       "    </tr>\n",
       "    <tr>\n",
       "      <th>7</th>\n",
       "      <td>Charizard</td>\n",
       "      <td>634</td>\n",
       "      <td>78</td>\n",
       "      <td>130</td>\n",
       "      <td>111</td>\n",
       "      <td>130</td>\n",
       "      <td>85</td>\n",
       "      <td>100</td>\n",
       "    </tr>\n",
       "    <tr>\n",
       "      <th>8</th>\n",
       "      <td>Charizard</td>\n",
       "      <td>634</td>\n",
       "      <td>78</td>\n",
       "      <td>104</td>\n",
       "      <td>78</td>\n",
       "      <td>159</td>\n",
       "      <td>115</td>\n",
       "      <td>100</td>\n",
       "    </tr>\n",
       "    <tr>\n",
       "      <th>9</th>\n",
       "      <td>Squirtle</td>\n",
       "      <td>314</td>\n",
       "      <td>44</td>\n",
       "      <td>48</td>\n",
       "      <td>65</td>\n",
       "      <td>50</td>\n",
       "      <td>64</td>\n",
       "      <td>43</td>\n",
       "    </tr>\n",
       "  </tbody>\n",
       "</table>\n",
       "</div>"
      ],
      "text/plain": [
       "         Name  Total  HP  Attack  Defence  Sp_attack  Sp_defence  Speed\n",
       "0   Bulbasaur    318  45      49       49         65          65     45\n",
       "1     Ivysaur    405  60      62       63         80          80     60\n",
       "2    Venusaur    525  80      82       83        100         100     80\n",
       "3    Venusaur    625  80     100      123        122         120     80\n",
       "4  Charmander    309  39      52       43         60          50     65\n",
       "5  Charmeleon    405  58      64       58         80          65     80\n",
       "6   Charizard    534  78      84       78        109          85    100\n",
       "7   Charizard    634  78     130      111        130          85    100\n",
       "8   Charizard    634  78     104       78        159         115    100\n",
       "9    Squirtle    314  44      48       65         50          64     43"
      ]
     },
     "execution_count": 2,
     "metadata": {},
     "output_type": "execute_result"
    }
   ],
   "source": [
    "''' reading dataset '''\n",
    "df = pd.read_csv(\"../input/pokemons-and-there-stats/pokemon_df.csv\")\n",
    "\n",
    "''' displaying first 10 rows of dataset '''\n",
    "df.head(10)"
   ]
  },
  {
   "cell_type": "code",
   "execution_count": 3,
   "metadata": {
    "execution": {
     "iopub.execute_input": "2021-06-21T02:28:16.933084Z",
     "iopub.status.busy": "2021-06-21T02:28:16.932466Z",
     "iopub.status.idle": "2021-06-21T02:28:16.952211Z",
     "shell.execute_reply": "2021-06-21T02:28:16.952693Z",
     "shell.execute_reply.started": "2021-06-21T02:27:47.089037Z"
    },
    "papermill": {
     "duration": 0.037871,
     "end_time": "2021-06-21T02:28:16.952859",
     "exception": false,
     "start_time": "2021-06-21T02:28:16.914988",
     "status": "completed"
    },
    "tags": []
   },
   "outputs": [
    {
     "name": "stdout",
     "output_type": "stream",
     "text": [
      "<class 'pandas.core.frame.DataFrame'>\n",
      "RangeIndex: 1045 entries, 0 to 1044\n",
      "Data columns (total 8 columns):\n",
      " #   Column      Non-Null Count  Dtype \n",
      "---  ------      --------------  ----- \n",
      " 0   Name        1045 non-null   object\n",
      " 1   Total       1045 non-null   int64 \n",
      " 2   HP          1045 non-null   int64 \n",
      " 3   Attack      1045 non-null   int64 \n",
      " 4   Defence     1045 non-null   int64 \n",
      " 5   Sp_attack   1045 non-null   int64 \n",
      " 6   Sp_defence  1045 non-null   int64 \n",
      " 7   Speed       1045 non-null   int64 \n",
      "dtypes: int64(7), object(1)\n",
      "memory usage: 65.4+ KB\n"
     ]
    }
   ],
   "source": [
    "''' checking info of data '''\n",
    "df.info()"
   ]
  },
  {
   "cell_type": "code",
   "execution_count": 4,
   "metadata": {
    "execution": {
     "iopub.execute_input": "2021-06-21T02:28:16.987686Z",
     "iopub.status.busy": "2021-06-21T02:28:16.987082Z",
     "iopub.status.idle": "2021-06-21T02:28:16.991674Z",
     "shell.execute_reply": "2021-06-21T02:28:16.992271Z",
     "shell.execute_reply.started": "2021-06-21T02:27:47.104899Z"
    },
    "papermill": {
     "duration": 0.023482,
     "end_time": "2021-06-21T02:28:16.992447",
     "exception": false,
     "start_time": "2021-06-21T02:28:16.968965",
     "status": "completed"
    },
    "tags": []
   },
   "outputs": [],
   "source": [
    "''' taking two rows only '''\n",
    "df_ = df[['Attack','Defence']]"
   ]
  },
  {
   "cell_type": "code",
   "execution_count": 5,
   "metadata": {
    "execution": {
     "iopub.execute_input": "2021-06-21T02:28:17.026918Z",
     "iopub.status.busy": "2021-06-21T02:28:17.026258Z",
     "iopub.status.idle": "2021-06-21T02:28:17.064401Z",
     "shell.execute_reply": "2021-06-21T02:28:17.064901Z",
     "shell.execute_reply.started": "2021-06-21T02:27:47.117314Z"
    },
    "papermill": {
     "duration": 0.056811,
     "end_time": "2021-06-21T02:28:17.065085",
     "exception": false,
     "start_time": "2021-06-21T02:28:17.008274",
     "status": "completed"
    },
    "tags": []
   },
   "outputs": [],
   "source": [
    "def do_agglomerative(X, nclust=2):\n",
    "    m = AgglomerativeClustering(n_clusters=nclust,affinity='euclidean',linkage='ward')\n",
    "    cluster_labels = m.fit_predict(X)\n",
    "    return (cluster_labels)\n",
    "\n",
    "''' calling do_agglomeratve function '''\n",
    "cluster_labels = do_agglomerative(df_, 20)\n",
    "agg = pd.DataFrame(clust_labels)\n",
    "df_.insert((df_.shape[1]), 'agglomerative', agg)"
   ]
  },
  {
   "cell_type": "code",
   "execution_count": 6,
   "metadata": {
    "execution": {
     "iopub.execute_input": "2021-06-21T02:28:17.100309Z",
     "iopub.status.busy": "2021-06-21T02:28:17.099677Z",
     "iopub.status.idle": "2021-06-21T02:28:17.115381Z",
     "shell.execute_reply": "2021-06-21T02:28:17.116000Z",
     "shell.execute_reply.started": "2021-06-21T02:27:47.161647Z"
    },
    "papermill": {
     "duration": 0.03517,
     "end_time": "2021-06-21T02:28:17.116181",
     "exception": false,
     "start_time": "2021-06-21T02:28:17.081011",
     "status": "completed"
    },
    "tags": []
   },
   "outputs": [
    {
     "name": "stderr",
     "output_type": "stream",
     "text": [
      "/opt/conda/lib/python3.7/site-packages/ipykernel_launcher.py:2: SettingWithCopyWarning: \n",
      "A value is trying to be set on a copy of a slice from a DataFrame.\n",
      "Try using .loc[row_indexer,col_indexer] = value instead\n",
      "\n",
      "See the caveats in the documentation: https://pandas.pydata.org/pandas-docs/stable/user_guide/indexing.html#returning-a-view-versus-a-copy\n",
      "  \n"
     ]
    },
    {
     "data": {
      "text/html": [
       "<div>\n",
       "<style scoped>\n",
       "    .dataframe tbody tr th:only-of-type {\n",
       "        vertical-align: middle;\n",
       "    }\n",
       "\n",
       "    .dataframe tbody tr th {\n",
       "        vertical-align: top;\n",
       "    }\n",
       "\n",
       "    .dataframe thead th {\n",
       "        text-align: right;\n",
       "    }\n",
       "</style>\n",
       "<table border=\"1\" class=\"dataframe\">\n",
       "  <thead>\n",
       "    <tr style=\"text-align: right;\">\n",
       "      <th></th>\n",
       "      <th>Attack</th>\n",
       "      <th>Defence</th>\n",
       "      <th>agglomerative</th>\n",
       "      <th>Name</th>\n",
       "    </tr>\n",
       "  </thead>\n",
       "  <tbody>\n",
       "    <tr>\n",
       "      <th>0</th>\n",
       "      <td>49</td>\n",
       "      <td>49</td>\n",
       "      <td>2</td>\n",
       "      <td>Bulbasaur</td>\n",
       "    </tr>\n",
       "    <tr>\n",
       "      <th>1</th>\n",
       "      <td>62</td>\n",
       "      <td>63</td>\n",
       "      <td>13</td>\n",
       "      <td>Ivysaur</td>\n",
       "    </tr>\n",
       "    <tr>\n",
       "      <th>2</th>\n",
       "      <td>82</td>\n",
       "      <td>83</td>\n",
       "      <td>12</td>\n",
       "      <td>Venusaur</td>\n",
       "    </tr>\n",
       "    <tr>\n",
       "      <th>3</th>\n",
       "      <td>100</td>\n",
       "      <td>123</td>\n",
       "      <td>8</td>\n",
       "      <td>Venusaur</td>\n",
       "    </tr>\n",
       "    <tr>\n",
       "      <th>4</th>\n",
       "      <td>52</td>\n",
       "      <td>43</td>\n",
       "      <td>2</td>\n",
       "      <td>Charmander</td>\n",
       "    </tr>\n",
       "    <tr>\n",
       "      <th>...</th>\n",
       "      <td>...</td>\n",
       "      <td>...</td>\n",
       "      <td>...</td>\n",
       "      <td>...</td>\n",
       "    </tr>\n",
       "    <tr>\n",
       "      <th>1040</th>\n",
       "      <td>145</td>\n",
       "      <td>130</td>\n",
       "      <td>10</td>\n",
       "      <td>Glastrier</td>\n",
       "    </tr>\n",
       "    <tr>\n",
       "      <th>1041</th>\n",
       "      <td>65</td>\n",
       "      <td>60</td>\n",
       "      <td>13</td>\n",
       "      <td>Spectrier</td>\n",
       "    </tr>\n",
       "    <tr>\n",
       "      <th>1042</th>\n",
       "      <td>80</td>\n",
       "      <td>80</td>\n",
       "      <td>12</td>\n",
       "      <td>Calyrex</td>\n",
       "    </tr>\n",
       "    <tr>\n",
       "      <th>1043</th>\n",
       "      <td>165</td>\n",
       "      <td>150</td>\n",
       "      <td>10</td>\n",
       "      <td>Calyrex</td>\n",
       "    </tr>\n",
       "    <tr>\n",
       "      <th>1044</th>\n",
       "      <td>85</td>\n",
       "      <td>80</td>\n",
       "      <td>12</td>\n",
       "      <td>Calyrex</td>\n",
       "    </tr>\n",
       "  </tbody>\n",
       "</table>\n",
       "<p>1045 rows × 4 columns</p>\n",
       "</div>"
      ],
      "text/plain": [
       "      Attack  Defence  agglomerative        Name\n",
       "0         49       49              2   Bulbasaur\n",
       "1         62       63             13     Ivysaur\n",
       "2         82       83             12    Venusaur\n",
       "3        100      123              8    Venusaur\n",
       "4         52       43              2  Charmander\n",
       "...      ...      ...            ...         ...\n",
       "1040     145      130             10   Glastrier\n",
       "1041      65       60             13   Spectrier\n",
       "1042      80       80             12     Calyrex\n",
       "1043     165      150             10     Calyrex\n",
       "1044      85       80             12     Calyrex\n",
       "\n",
       "[1045 rows x 4 columns]"
      ]
     },
     "execution_count": 6,
     "metadata": {},
     "output_type": "execute_result"
    }
   ],
   "source": [
    "df__ = df_\n",
    "df__['Name'] = df['Name']\n",
    "df__"
   ]
  },
  {
   "cell_type": "code",
   "execution_count": 7,
   "metadata": {
    "execution": {
     "iopub.execute_input": "2021-06-21T02:28:17.151942Z",
     "iopub.status.busy": "2021-06-21T02:28:17.151306Z",
     "iopub.status.idle": "2021-06-21T02:28:17.196140Z",
     "shell.execute_reply": "2021-06-21T02:28:17.195435Z",
     "shell.execute_reply.started": "2021-06-21T02:27:47.184720Z"
    },
    "papermill": {
     "duration": 0.063697,
     "end_time": "2021-06-21T02:28:17.196292",
     "exception": false,
     "start_time": "2021-06-21T02:28:17.132595",
     "status": "completed"
    },
    "tags": []
   },
   "outputs": [
    {
     "name": "stdout",
     "output_type": "stream",
     "text": [
      "[ Agglomerative 0 ]\n",
      "['Onix', 'Deoxys', 'Carbink', 'Probopass', 'Aegislash', 'Shuckle', 'Registeel', 'Cofagrigus', 'Nosepass', 'Bastiodon', 'Toxapex', 'Cosmoem']\n",
      "\n",
      "[ Agglomerative 1 ]\n",
      "['Wurmple', 'Tentacool', 'Drifloon', 'Fennekin', 'Wishiwashi', 'Slugma', 'Snom', 'Noibat', 'Cosmog', 'Hoothoot', 'Sobble', 'Mime Jr.', 'Nickit', 'Scatterbug', 'Milcery', 'Electrike', 'Treecko', 'Spoink', 'Surskit', 'Rookidee', 'Kadabra', 'Goomy', 'Pidgey', 'Happiny', 'Impidimp', 'Blissey', 'Purrloin', 'Igglybuff', 'Azurill', 'Burmy', 'Lotad', 'Tyrogue', 'Zubat', 'Chansey', 'Sinistea', 'Flabébé', 'Helioptile', 'Pichu', 'Smeargle', 'Jynx', 'Sentret', 'Smoochum', 'Jigglypuff', 'Bounsweet', 'Solosis', 'Gastly', 'Clefairy', 'Combee', 'Wimpod', 'Ralts', 'Bidoof', 'Weedle', 'Abra', 'Wooper', 'Zigzagoon', 'Sunkern', 'Hoppip', 'Vulpix', 'Mareep', 'Woobat', 'Caterpie', 'Hatenna', 'Bunnelby', 'Ledyba', 'Salandit', 'Budew', 'Cleffa', 'Skitty', 'Feebas', 'Cutiefly', 'Munna', 'Wingull', 'Blipbug', 'Meowth', 'Kirlia', 'Floette', 'Toxel', 'Kricketot', 'Chinchou']\n",
      "\n",
      "[ Agglomerative 2 ]\n",
      "['Venonat', 'Makuhita', 'Wigglytuff', 'Taillow', 'Arrokuda', 'Carvanha', 'Oddish', 'Pansage', 'Drowzee', 'Dratini', 'Snorunt', 'Natu', 'Numel', 'Amaura', 'Remoraid', 'Pikipek', 'Poochyena', 'Deerling', 'Shinx', 'Finneon', 'Froakie', 'Pansear', 'Espurr', 'Grubbin', 'Buizel', 'Croagunk', 'Frogadier', 'Snover', 'Spearow', 'Mankey', 'Cubchoo', 'Ekans', 'Magby', 'Vivillon', 'Torchic', 'Swinub', 'Loudred', 'Starly', 'Lombre', 'Buneary', 'Pikachu', 'Yanma', 'Deino', 'Patrat', 'Pidove', 'Morgrem', 'Delibird', 'Blitzle', 'Shuppet', 'Lillipup', 'Joltik', 'Fletchling', 'Chimchar', 'Tepig', 'Oshawott', 'Poliwag', 'Nidoran♀', 'Cyndaquil', 'Growlithe', 'Grookey', 'Skiploom', 'Glameow', 'Rockruff', 'Nihilego', 'Dreepy', 'Ditto', 'Ducklett', 'Whismur', 'Yamper', 'Chewtle', 'Gible', 'Alakazam', 'Roselia', 'Sandile', 'Plusle', 'Bulbasaur', 'Piplup', 'Tympole', 'Rattata', 'Shellos', 'Noctowl', 'Karrablast', 'Wailmer', 'Foongus', 'Eevee', 'Houndour', 'Charmander', 'Tynamo', 'Larvitar', 'Nidoran♂', 'Scorbunny', 'Riolu', 'Accelgor', 'Yungoos', 'Minccino', 'Haunter', 'Nuzleaf', 'Diglett', 'Chatot', 'Fomantis', 'Vanillite', 'Barboach', 'Butterfree', 'Panpour', 'Cryogonal', 'Zorua', 'Elekid', 'Psyduck', 'Skiddo', 'Stunky', 'Spinarak', 'Litten', 'Bellsprout', 'Grovyle', 'Sizzlipede']\n",
      "\n",
      "[ Agglomerative 3 ]\n",
      "['Aggron', 'Avalugg', 'Regirock', 'Steelix', 'Cloyster', 'Eternatus', 'Slowbro', 'Stakataka']\n",
      "\n",
      "[ Agglomerative 4 ]\n",
      "['Infernape', 'Latios', 'Empoleon', 'Goodra', 'Tyrunt', 'Gurdurr', 'Medicham', 'Carnivine', 'Mawile', 'Krabby', 'Leavanny', 'Lurantis', 'Parasect', 'Scolipede', 'Moltres', 'Camerupt', 'Hawlucha', 'Sceptile', 'Kyogre', 'Exeggutor', 'Crobat', 'Qwilfish', 'Bruxish', 'Garbodor', 'Rapidash', 'Piloswine', 'Tornadus', 'Darkrai', 'Snorlax', 'Sawsbuck', 'Arcanine', 'Nidoqueen', 'Grotle', 'Deoxys', 'Kangaskhan', 'Octillery', 'Thundurus', 'Shaymin', 'Trevenant', 'Hydreigon', 'Scyther', 'Decidueye', 'Vanilluxe', 'Seismitoad', 'Zapdos', 'Quagsire', 'Lucario', 'Machoke', 'Throh', 'Flygon', 'Malamar', 'Hitmonchan', 'Zygarde', 'Mudbray', 'Zeraora', 'Toxtricity', 'Victreebel', 'Samurott', 'Aerodactyl', 'Arctozolt', 'Solrock', 'Charizard', 'Houndoom', 'Toxicroak', 'Articuno', 'Dodrio', 'Nidoking', 'Flapple', 'Abomasnow', 'Dracozolt', 'Mimikyu', 'Muk']\n",
      "\n",
      "[ Agglomerative 5 ]\n",
      "['Salamence', 'Absol', 'Unfezant', 'Glalie', 'Marshadow', 'Dragapult', 'Lunala', 'Blaziken', 'Tapu Koko', 'Hariyama', 'Emboar', 'Gyarados', 'Fraxure', 'Lycanroc', 'Breloom', 'Luxray', 'Crabominable', 'Staraptor', 'Weavile', 'Electivire', 'Tornadus', 'Incineroar', 'Blacephalon', 'Stoutland', 'Kyurem', 'Krookodile', 'Cinderace', 'Swampert', 'Heracross', 'Braviary', 'Granbull', 'Mewtwo', 'Thundurus', 'Golurk', 'Sawk', 'Mienshao', 'Barraskewda', 'Beartic', 'Drednaw', 'Excadrill', 'Azelf', 'Flareon', 'Centiskorch', 'Banette', 'Copperajah', 'Gallade', 'Grapploct', 'Pangoro', 'Hitmonlee', 'Gumshoos', 'Crawdaunt', 'Hoopa', 'Honchkrow', 'Druddigon', 'Grimmsnarl', 'Bouffalant', 'Aerodactyl', 'Entei', 'Mamoswine', 'Zangoose', 'Eelektross', 'Bewear', 'Passimian', 'Komala', 'Machamp', 'Cacturne', 'Toucannon', 'Ursaring']\n",
      "\n",
      "[ Agglomerative 6 ]\n",
      "['Beedrill', 'Deoxys', 'Greninja', 'Hoopa', 'Absol', 'Rampardos', 'Sharpedo', 'Mewtwo', 'Archen', 'Aegislash', 'Darmanitan', 'Cranidos', 'Blaziken', 'Archeops', 'Pheromosa', 'Banette']\n",
      "\n",
      "[ Agglomerative 7 ]\n",
      "['Suicune', 'Audino', 'Vespiquen', 'Uxie', 'Cresselia', 'Cradily', 'Tapu Fini', 'Klang', 'Bonsly', 'Dusclops', 'Latias', 'Blastoise', 'Walrein', 'Palossand', 'Hatterene', 'Magnezone', 'Tirtouga', 'Glaceon', 'Slowbro', 'Stunfisk', 'Rhyhorn', 'Eternatus', 'Dubwool', 'Geodude', 'Claydol', 'Klefki', 'Lickilicky', 'Meganium', 'Porygon2', 'Miltank', 'Honedge', 'Bellossom', 'Serperior', 'Charjabug', 'Pyukumuku', 'Rotom', 'Omastar', 'Kabuto', 'Eiscue', 'Articuno', 'Umbreon', 'Gligar', 'Wormadam', 'Quilladin', 'Metang', 'Mandibuzz', 'Marowak']\n",
      "\n",
      "[ Agglomerative 8 ]\n",
      "['Diancie', 'Barbaracle', 'Klinklang', 'Dusknoir', 'Mawile', 'Tyrantrum', 'Weezing', 'Sudowoodo', 'Magearna', 'Bronzong', 'Doublade', 'Skarmory', 'Latias', 'Blastoise', 'Giratina', 'Gliscor', 'Coalossal', 'Leafeon', 'Sandaconda', 'Duraludon', 'Forretress', 'Gourgeist', 'Relicanth', 'Kommo-o', 'Turtonator', 'Donphan', 'Arceus', 'Cobalion', 'Sandslash', 'Zygarde', 'Dialga', 'Chesnaught', 'Runerigus', 'Torkoal', 'Tangrowth', 'Venusaur', 'Golem', 'Lugia', 'Carracosta', 'Graveler', 'Ferrothorn', 'Scrafty', 'Lairon', 'Sableye', 'Crustle']\n",
      "\n",
      "[ Agglomerative 9 ]\n",
      "['Xurkitree', 'Morpeko', 'Fearow', 'Simipour', 'Arbok', 'Ambipom', 'Porygon-Z', 'Boltund', 'Dugtrio', 'Sneasel', 'Girafarig', 'Pupitar', 'Herdier', 'Cinccino', 'Shiftry', 'Sceptile', 'Golbat', 'Purugly', 'Talonflame', 'Floatzel', 'Zweilous', 'Primeape', 'Kecleon', 'Kubfu', 'Zoroark', 'Gogoat', 'Watchog', 'Magmortar', 'Simisear', 'Amoonguss', 'Togedemaru', 'Simisage', 'Minior', 'Stantler', 'Corphish', 'Seaking', 'Gabite', 'Raichu', 'Ariados', 'Marshtomp', 'Zebstrika', 'Skuntank', 'Inteleon', 'Exploud', 'Pawniard', 'Gastrodon', 'Eelektrik', 'Swanna', 'Thwackey', 'Pignite', 'Gardevoir', 'Greninja', 'Mightyena', 'Maractus', \"Farfetch'd\", 'Seviper', 'Eiscue', 'Dragonair', 'Froslass', 'Magmar', 'Basculin', 'Virizion', 'Pancham', 'Heatmor']\n",
      "\n",
      "[ Agglomerative 10 ]\n",
      "['Glastrier', 'Wishiwashi', 'Salamence', 'Gigalith', 'Rhyperior', 'Buzzwole', 'Melmetal', 'Stonjourner', 'Scizor', 'Metagross', 'Golisopod', 'Groudon', 'Zamazenta', 'Calyrex', 'Tyranitar']\n",
      "\n",
      "[ Agglomerative 11 ]\n",
      "['Mudsdale', 'Conkeldurr', 'Latios', 'Rillaboom', 'Dragonite', 'Yveltal', 'Urshifu', 'Palkia', 'Dhelmise', 'Camerupt', 'Zamazenta', 'Solgaleo', 'Kyogre', 'Bisharp', 'Genesect', 'Tsareena', 'Garchomp', 'Kingler', 'Xerneas', 'Giratina', 'Scizor', 'Kyurem', 'Pinsir', 'Haxorus', 'Landorus', 'Kangaskhan', 'Meloetta', 'Rhydon', 'Lopunny', 'Tapu Bulu', 'Zapdos', 'Lucario', 'Tyranitar', 'Reshiram', 'Ho-oh', 'Terrakion', 'Armaldo', 'Charizard', 'Zacian', 'Rayquaza', 'Abomasnow', 'Escavalier', \"Sirfetch'd\"]\n",
      "\n",
      "[ Agglomerative 12 ]\n",
      "['Glalie', 'Scraggy', 'Xatu', 'Golduck', 'Hypno', 'Starmie', 'Dewgong', 'Aron', 'Vigoroth', 'Pyroar', 'Swadloon', 'Bergmite', 'Noivern', 'Koffing', 'Lopunny', 'Pineco', 'Lumineon', 'Brionne', 'Seadra', 'Vikavolt', 'Wartortle', 'Gengar', 'Swalot', 'Venusaur', 'Hippopotas', 'Charizard', 'Whiscash', 'Aurorus', 'Wormadam', 'Alomomola', 'Hakamo-o', 'Audino', 'Ampharos', 'Slowking', 'Tapu Lele', 'Tropius', 'Dwebble', 'Clamperl', 'Sandshrew', 'Lapras', 'Raticate', 'Manectric', 'Meloetta', 'Dragalge', 'Drampa', 'Raikou', 'Croconaw', 'Slurpuff', 'Yamask', 'Musharna', 'Naganadel', 'Dartrix', 'Yanmega', 'Typhlosion', 'Vileplume', 'Volbeat', 'Bayleef', 'Stunfisk', 'Keldeo', 'Beheeyem', 'Oricorio', 'Reuniclus', 'Primarina', 'Eevee', 'Clawitzer', 'Dunsparce', 'Mr. Rime', 'Delphox', 'Altaria', 'Appletun', 'Ninetales', 'Castform', 'Calyrex', 'Poipole', 'Araquanid', 'Roggenrola', 'Aromatisse', 'Whimsicott', 'Ludicolo', 'Clefable', 'Carkol', 'Pidgeot', 'Phione', 'Sableye', 'Politoed', 'Shellder']\n",
      "\n",
      "[ Agglomerative 13 ]\n",
      "['Palpitoad', 'Vanillish', 'Florges', 'Clauncher', 'Charmeleon', 'Poliwhirl', 'Nidorina', 'Prinplup', 'Elgyem', 'Spectrier', 'Mismagius', 'Mr. Mime', 'Vaporeon', 'Totodile', 'Roserade', 'Linoone', 'Polteageist', 'Drizzile', 'Corvisquire', 'Venomoth', 'Flaaffy', 'Braixen', 'Lanturn', 'Salazzle', 'Spinda', 'Skrelp', 'Meltan', 'Espeon', 'Dedenne', 'Frosmoth', 'Jellicent', 'Litleo', 'Masquerain', 'Persian', 'Tentacruel', 'Pidgeotto', 'Sylveon', 'Thievul', 'Rowlet', 'Spritzee', 'Pumpkaboo', 'Mareanie', 'Inkay', 'Ivysaur', 'Indeedee', 'Clobbopus', 'Heliolisk', 'Quilava', 'Misdreavus', 'Meowth', 'Chespin', 'Swoobat', 'Skwovet', 'Gardevoir', 'Cherrim', 'Gengar', 'Goldeen', 'Slakoth', 'Phanpy', 'Trubbish', 'Popplio', 'Jolteon', 'Ribombee', 'Porygon', 'Volcarona', 'Turtwig', 'Sealeo', 'Delcatty', 'Gloom', 'Slowpoke']\n",
      "\n",
      "[ Agglomerative 14 ]\n",
      "['Tranquill', 'Drakloak', 'Crabrawler', 'Bibarel', 'Sunflora', 'Furfrou', 'Machop', 'Murkrow', 'Emolga', 'Ponyta', 'Galvantula', 'Mienfoo', 'Dugtrio', 'Timburr', 'Sliggoo', 'Regieleki', 'Monferno', 'Phantump', 'Guzzlord', 'Grimer', 'Furret', 'Ninjask', 'Shedinja', 'Staravia', 'Darumaka', 'Mudkip', 'Pikachu', 'Unown', 'Snubbull', 'Combusken', 'Wailord', 'Drifblim', 'Krokorok', 'Liepard', 'Rufflet', 'Weepinbell', 'Anorith', 'Swellow', 'Luxio', 'Raboot', 'Larvesta', 'Aipom', 'Trumbeak', 'Raticate', 'Manectric', 'Nidorino', 'Raichu', 'Trapinch', 'Vibrava', 'Kricketune', 'Golett', 'Fletchinder', 'Teddiursa', 'Regidrago', 'Beedrill', 'Dewott', 'Cufant', 'Cacnea', 'Cramorant', 'Doduo', 'Drilbur', 'Bagon', 'Paras', 'Cursola', 'Houndoom', 'Munchlax', 'Mothim', 'Beautifly', 'Electabuzz', 'Axew', 'Stufful', 'Torracat']\n",
      "\n",
      "[ Agglomerative 15 ]\n",
      "['Manaphy', 'Greedent', 'Kingdra', 'Zarude', 'Ampharos', 'Altaria', 'Heatran', 'Pincurchin', 'Celesteela', 'Type: Null', 'Boldore', 'Mew', 'Corviknight', 'Tauros', 'Feraligatr', 'Arctovish', 'Celebi', 'Slowbro', 'Mesprit', 'Hitmontop', 'Jirachi', 'Volcanion', 'Huntail', 'Shaymin', 'Kabutops', 'Necrozma', 'Obstagoon', 'Victini', 'Shelgon', 'Durant', 'Torterra', 'Drapion', 'Gorebyss', 'Hippowdon', 'Dracovish', 'Poliwrath', 'Falinks', 'Silvally', 'Spiritomb', 'Perrserker']\n",
      "\n",
      "[ Agglomerative 16 ]\n",
      "['Gyarados', 'Garchomp', 'Diancie', 'Kartana', 'Mewtwo', 'Slaking', 'Zacian', 'Rayquaza', 'Kyurem', 'Zekrom', 'Gallade', 'Regigigas', 'Necrozma', 'Pinsir', 'Swampert', 'Heracross']\n",
      "\n",
      "[ Agglomerative 17 ]\n",
      "['Wobbuffet', 'Magikarp', 'Litwick', 'Marill', 'Snivy', 'Seel', 'Luvdisc', 'Baltoy', 'Staryu', 'Spheal', 'Dewpider', 'Swablu', 'Ledian', 'Gossifleur', 'Shroomish', 'Morelull', 'Cottonee', 'Chingling', 'Silcoon', 'Voltorb', 'Seedot', 'Frillish', 'Meditite', 'Togepi', 'Wynaut', 'Steenee', 'Venipede', 'Spewpa', 'Cherubi', 'Gothita', 'Rolycoly', 'Kakuna', 'Minun', 'Duosion', 'Petilil', 'Lampent', 'Mantyke', 'Gulpin', 'Cascoon', 'Wooloo', 'Metapod']\n",
      "\n",
      "[ Agglomerative 18 ]\n",
      "['Regice', 'Omanyte', 'Cubone', 'Comfey', 'Togekiss', 'Chandelure', 'Whirlipede', 'Shieldon', 'Minior', 'Magneton', 'Tangela', 'Darmanitan', 'Corsola', 'Gothitelle', 'Magcargo', 'Pelipper', 'Eldegoss', 'Orbeetle', 'Ferroseed', 'Skorupi']\n",
      "\n",
      "[ Agglomerative 19 ]\n",
      "['Pachirisu', 'Lileep', 'Chimecho', 'Medicham', 'Klink', 'Alakazam', 'Squirtle', 'Mr. Mime', 'Grumpig', 'Oranguru', 'Lickitung', 'Sewaddle', 'Nincada', 'Binacle', 'Meowstic', 'Chikorita', 'Jumpluff', 'Bronzor', 'Azumarill', 'Dustox', 'Dottler', 'Magnemite', 'Duskull', 'Vullaby', 'Illumise', 'Indeedee', 'Milotic', 'Gothorita', 'Shelmet', 'Diggersby', 'Jangmo-o', 'Yamask', 'Applin', 'Lilligant', 'Mantine', 'Beldum', 'Rotom', 'Hattrem', 'Electrode', 'Shiinotic', 'Exeggcute', 'Horsea', 'Sandygast', 'Swirlix', 'Silicobra', 'Alcremie', 'Togetic', 'Sigilyph', 'Servine', 'Lunatone']\n",
      "\n"
     ]
    }
   ],
   "source": [
    "for i in range(20):\n",
    "    n = df__[df__['agglomerative'] == i]['Name'] \n",
    "    print('[ Agglomerative '+str(i)+' ]')\n",
    "    print(list(set(n)))\n",
    "    print()"
   ]
  },
  {
   "cell_type": "code",
   "execution_count": 8,
   "metadata": {
    "execution": {
     "iopub.execute_input": "2021-06-21T02:28:17.246394Z",
     "iopub.status.busy": "2021-06-21T02:28:17.245657Z",
     "iopub.status.idle": "2021-06-21T02:28:17.248849Z",
     "shell.execute_reply": "2021-06-21T02:28:17.249388Z",
     "shell.execute_reply.started": "2021-06-21T02:27:47.214515Z"
    },
    "papermill": {
     "duration": 0.036083,
     "end_time": "2021-06-21T02:28:17.249563",
     "exception": false,
     "start_time": "2021-06-21T02:28:17.213480",
     "status": "completed"
    },
    "tags": []
   },
   "outputs": [
    {
     "data": {
      "text/html": [
       "<div>\n",
       "<style scoped>\n",
       "    .dataframe tbody tr th:only-of-type {\n",
       "        vertical-align: middle;\n",
       "    }\n",
       "\n",
       "    .dataframe tbody tr th {\n",
       "        vertical-align: top;\n",
       "    }\n",
       "\n",
       "    .dataframe thead th {\n",
       "        text-align: right;\n",
       "    }\n",
       "</style>\n",
       "<table border=\"1\" class=\"dataframe\">\n",
       "  <thead>\n",
       "    <tr style=\"text-align: right;\">\n",
       "      <th></th>\n",
       "      <th>Attack</th>\n",
       "      <th>Defence</th>\n",
       "    </tr>\n",
       "    <tr>\n",
       "      <th>agglomerative</th>\n",
       "      <th></th>\n",
       "      <th></th>\n",
       "    </tr>\n",
       "  </thead>\n",
       "  <tbody>\n",
       "    <tr>\n",
       "      <th>0</th>\n",
       "      <td>49.500000</td>\n",
       "      <td>155.500000</td>\n",
       "    </tr>\n",
       "    <tr>\n",
       "      <th>1</th>\n",
       "      <td>34.426829</td>\n",
       "      <td>34.060976</td>\n",
       "    </tr>\n",
       "    <tr>\n",
       "      <th>2</th>\n",
       "      <td>58.830508</td>\n",
       "      <td>42.432203</td>\n",
       "    </tr>\n",
       "    <tr>\n",
       "      <th>3</th>\n",
       "      <td>109.300000</td>\n",
       "      <td>204.500000</td>\n",
       "    </tr>\n",
       "    <tr>\n",
       "      <th>4</th>\n",
       "      <td>99.337662</td>\n",
       "      <td>79.155844</td>\n",
       "    </tr>\n",
       "    <tr>\n",
       "      <th>5</th>\n",
       "      <td>120.742857</td>\n",
       "      <td>74.014286</td>\n",
       "    </tr>\n",
       "    <tr>\n",
       "      <th>6</th>\n",
       "      <td>146.450000</td>\n",
       "      <td>54.700000</td>\n",
       "    </tr>\n",
       "    <tr>\n",
       "      <th>7</th>\n",
       "      <td>75.641509</td>\n",
       "      <td>104.490566</td>\n",
       "    </tr>\n",
       "    <tr>\n",
       "      <th>8</th>\n",
       "      <td>98.905660</td>\n",
       "      <td>125.150943</td>\n",
       "    </tr>\n",
       "    <tr>\n",
       "      <th>9</th>\n",
       "      <td>90.671642</td>\n",
       "      <td>64.388060</td>\n",
       "    </tr>\n",
       "    <tr>\n",
       "      <th>10</th>\n",
       "      <td>144.470588</td>\n",
       "      <td>139.529412</td>\n",
       "    </tr>\n",
       "    <tr>\n",
       "      <th>11</th>\n",
       "      <td>130.666667</td>\n",
       "      <td>98.955556</td>\n",
       "    </tr>\n",
       "    <tr>\n",
       "      <th>12</th>\n",
       "      <td>72.323232</td>\n",
       "      <td>79.969697</td>\n",
       "    </tr>\n",
       "    <tr>\n",
       "      <th>13</th>\n",
       "      <td>61.947368</td>\n",
       "      <td>61.486842</td>\n",
       "    </tr>\n",
       "    <tr>\n",
       "      <th>14</th>\n",
       "      <td>82.746667</td>\n",
       "      <td>51.613333</td>\n",
       "    </tr>\n",
       "    <tr>\n",
       "      <th>15</th>\n",
       "      <td>100.219512</td>\n",
       "      <td>102.390244</td>\n",
       "    </tr>\n",
       "    <tr>\n",
       "      <th>16</th>\n",
       "      <td>166.176471</td>\n",
       "      <td>110.235294</td>\n",
       "    </tr>\n",
       "    <tr>\n",
       "      <th>17</th>\n",
       "      <td>34.219512</td>\n",
       "      <td>53.731707</td>\n",
       "    </tr>\n",
       "    <tr>\n",
       "      <th>18</th>\n",
       "      <td>50.428571</td>\n",
       "      <td>99.666667</td>\n",
       "    </tr>\n",
       "    <tr>\n",
       "      <th>19</th>\n",
       "      <td>48.509804</td>\n",
       "      <td>74.529412</td>\n",
       "    </tr>\n",
       "  </tbody>\n",
       "</table>\n",
       "</div>"
      ],
      "text/plain": [
       "                   Attack     Defence\n",
       "agglomerative                        \n",
       "0               49.500000  155.500000\n",
       "1               34.426829   34.060976\n",
       "2               58.830508   42.432203\n",
       "3              109.300000  204.500000\n",
       "4               99.337662   79.155844\n",
       "5              120.742857   74.014286\n",
       "6              146.450000   54.700000\n",
       "7               75.641509  104.490566\n",
       "8               98.905660  125.150943\n",
       "9               90.671642   64.388060\n",
       "10             144.470588  139.529412\n",
       "11             130.666667   98.955556\n",
       "12              72.323232   79.969697\n",
       "13              61.947368   61.486842\n",
       "14              82.746667   51.613333\n",
       "15             100.219512  102.390244\n",
       "16             166.176471  110.235294\n",
       "17              34.219512   53.731707\n",
       "18              50.428571   99.666667\n",
       "19              48.509804   74.529412"
      ]
     },
     "execution_count": 8,
     "metadata": {},
     "output_type": "execute_result"
    }
   ],
   "source": [
    "df_.groupby('agglomerative').mean()"
   ]
  },
  {
   "cell_type": "code",
   "execution_count": 9,
   "metadata": {
    "execution": {
     "iopub.execute_input": "2021-06-21T02:28:17.288597Z",
     "iopub.status.busy": "2021-06-21T02:28:17.287873Z",
     "iopub.status.idle": "2021-06-21T02:28:17.665720Z",
     "shell.execute_reply": "2021-06-21T02:28:17.666231Z",
     "shell.execute_reply.started": "2021-06-21T02:27:47.229780Z"
    },
    "papermill": {
     "duration": 0.398892,
     "end_time": "2021-06-21T02:28:17.666404",
     "exception": false,
     "start_time": "2021-06-21T02:28:17.267512",
     "status": "completed"
    },
    "tags": []
   },
   "outputs": [
    {
     "data": {
      "text/plain": [
       "<matplotlib.colorbar.Colorbar at 0x7f4cdb1a7e90>"
      ]
     },
     "execution_count": 9,
     "metadata": {},
     "output_type": "execute_result"
    },
    {
     "data": {
      "image/png": "[encoded data removed]",
      "text/plain": [
       "<Figure size 432x288 with 2 Axes>"
      ]
     },
     "metadata": {
      "needs_background": "light"
     },
     "output_type": "display_data"
    }
   ],
   "source": [
    "''' plotting scatter plot'''\n",
    "figure = plt.figure()\n",
    "ax = figure.add_subplot(111)\n",
    "sc = ax.scatter(df_['Attack'], df_['Defence'], c=agglomerative[0], s=50)\n",
    "ax.set_title('Agglomerative Clustering')\n",
    "ax.set_xlabel('Attack')\n",
    "ax.set_ylabel('Defence')\n",
    "plt.rcParams['figure.figsize'] = (6,5)\n",
    "plt.colorbar(sc)"
   ]
  },
  {
   "cell_type": "code",
   "execution_count": 10,
   "metadata": {
    "execution": {
     "iopub.execute_input": "2021-06-21T02:28:17.747388Z",
     "iopub.status.busy": "2021-06-21T02:28:17.746728Z",
     "iopub.status.idle": "2021-06-21T02:28:17.753102Z",
     "shell.execute_reply": "2021-06-21T02:28:17.753634Z",
     "shell.execute_reply.started": "2021-06-21T02:27:47.468271Z"
    },
    "papermill": {
     "duration": 0.028807,
     "end_time": "2021-06-21T02:28:17.753814",
     "exception": false,
     "start_time": "2021-06-21T02:28:17.725007",
     "status": "completed"
    },
    "tags": []
   },
   "outputs": [
    {
     "name": "stdout",
     "output_type": "stream",
     "text": [
      "['Beedrill', 'Mewtwo', 'Blaziken', 'Sharpedo', 'Sharpedo', 'Banette', 'Absol', 'Deoxys', 'Deoxys', 'Cranidos', 'Rampardos', 'Darmanitan', 'Darmanitan', 'Darmanitan', 'Archen', 'Archeops', 'Greninja', 'Aegislash', 'Hoopa', 'Pheromosa']\n"
     ]
    }
   ],
   "source": [
    "'''Group of attack ability max'''\n",
    "names = df_[df_['agglomerative']==6]['Name']\n",
    "print(list(names))"
   ]
  },
  {
   "cell_type": "code",
   "execution_count": 11,
   "metadata": {
    "execution": {
     "iopub.execute_input": "2021-06-21T02:28:17.796878Z",
     "iopub.status.busy": "2021-06-21T02:28:17.796237Z",
     "iopub.status.idle": "2021-06-21T02:28:17.803310Z",
     "shell.execute_reply": "2021-06-21T02:28:17.803981Z",
     "shell.execute_reply.started": "2021-06-21T02:27:47.476779Z"
    },
    "papermill": {
     "duration": 0.03041,
     "end_time": "2021-06-21T02:28:17.804238",
     "exception": false,
     "start_time": "2021-06-21T02:28:17.773828",
     "status": "completed"
    },
    "tags": []
   },
   "outputs": [
    {
     "name": "stdout",
     "output_type": "stream",
     "text": [
      "['beedrill.png', 'deoxys.png', 'greninja.png', 'hoopa.png', 'absol.png', 'rampardos.png', 'sharpedo.png', 'mewtwo.png', 'archen.png', 'aegislash.png', 'darmanitan.png', 'cranidos.png', 'blaziken.png', 'archeops.png', 'pheromosa.png', 'banette.png']\n",
      "16\n"
     ]
    }
   ],
   "source": [
    "f = []\n",
    "for i in set(names):\n",
    "    f += [i.lower() + '.png']\n",
    "print(f)\n",
    "print(len(f))"
   ]
  },
  {
   "cell_type": "code",
   "execution_count": 12,
   "metadata": {
    "execution": {
     "iopub.execute_input": "2021-06-21T02:28:17.849694Z",
     "iopub.status.busy": "2021-06-21T02:28:17.848913Z",
     "iopub.status.idle": "2021-06-21T02:28:17.851468Z",
     "shell.execute_reply": "2021-06-21T02:28:17.851927Z",
     "shell.execute_reply.started": "2021-06-21T02:27:47.487740Z"
    },
    "papermill": {
     "duration": 0.027315,
     "end_time": "2021-06-21T02:28:17.852137",
     "exception": false,
     "start_time": "2021-06-21T02:28:17.824822",
     "status": "completed"
    },
    "tags": []
   },
   "outputs": [],
   "source": [
    "''' directory path '''\n",
    "img_path ='../input/pokemon-images-and-types/images/images'"
   ]
  },
  {
   "cell_type": "code",
   "execution_count": 13,
   "metadata": {
    "execution": {
     "iopub.execute_input": "2021-06-21T02:28:17.920011Z",
     "iopub.status.busy": "2021-06-21T02:28:17.915327Z",
     "iopub.status.idle": "2021-06-21T02:28:18.011363Z",
     "shell.execute_reply": "2021-06-21T02:28:18.010727Z",
     "shell.execute_reply.started": "2021-06-21T02:27:47.496996Z"
    },
    "papermill": {
     "duration": 0.139185,
     "end_time": "2021-06-21T02:28:18.011509",
     "exception": false,
     "start_time": "2021-06-21T02:28:17.872324",
     "status": "completed"
    },
    "tags": []
   },
   "outputs": [
    {
     "data": {
      "text/plain": [
       "Text(0.5, 1.0, 'absol.png')"
      ]
     },
     "execution_count": 13,
     "metadata": {},
     "output_type": "execute_result"
    },
    {
     "data": {
      "image/png": "[encoded data removed]",
      "text/plain": [
       "<Figure size 360x360 with 1 Axes>"
      ]
     },
     "metadata": {},
     "output_type": "display_data"
    }
   ],
   "source": [
    "''' plotting 1st image '''\n",
    "i = random.randrange(16)\n",
    "f, ax = plt.subplots(1, 1, figsize=(5,5))\n",
    "img = cv2.imread(os.path.join(img_path, f[i]))\n",
    "ax.imshow(img)\n",
    "ax.set_xticks([])\n",
    "ax.set_yticks([])\n",
    "ax.set_title(files[i])"
   ]
  },
  {
   "cell_type": "code",
   "execution_count": 14,
   "metadata": {
    "execution": {
     "iopub.execute_input": "2021-06-21T02:28:18.105750Z",
     "iopub.status.busy": "2021-06-21T02:28:18.105052Z",
     "iopub.status.idle": "2021-06-21T02:28:18.108791Z",
     "shell.execute_reply": "2021-06-21T02:28:18.108138Z",
     "shell.execute_reply.started": "2021-06-21T02:27:47.590255Z"
    },
    "papermill": {
     "duration": 0.031675,
     "end_time": "2021-06-21T02:28:18.108929",
     "exception": false,
     "start_time": "2021-06-21T02:28:18.077254",
     "status": "completed"
    },
    "tags": []
   },
   "outputs": [
    {
     "name": "stdout",
     "output_type": "stream",
     "text": [
      "['Metapod', 'Kakuna', 'Seel', 'Voltorb', 'Staryu', 'Magikarp', 'Ledian', 'Togepi', 'Marill', 'Wobbuffet', 'Silcoon', 'Cascoon', 'Seedot', 'Shroomish', 'Meditite', 'Minun', 'Gulpin', 'Swablu', 'Baltoy', 'Wynaut', 'Spheal', 'Luvdisc', 'Cherubi', 'Chingling', 'Mantyke', 'Snivy', 'Venipede', 'Cottonee', 'Petilil', 'Gothita', 'Duosion', 'Frillish', 'Litwick', 'Lampent', 'Spewpa', 'Dewpider', 'Morelull', 'Steenee', 'Gossifleur', 'Wooloo', 'Rolycoly']\n"
     ]
    }
   ],
   "source": [
    "''' Group of attack ability min '''\n",
    "names2 = df_[df_['agglomerative'] == 17]['Name']\n",
    "print(list(names2))"
   ]
  },
  {
   "cell_type": "code",
   "execution_count": 15,
   "metadata": {
    "execution": {
     "iopub.execute_input": "2021-06-21T02:28:18.159873Z",
     "iopub.status.busy": "2021-06-21T02:28:18.159228Z",
     "iopub.status.idle": "2021-06-21T02:28:18.162805Z",
     "shell.execute_reply": "2021-06-21T02:28:18.163325Z",
     "shell.execute_reply.started": "2021-06-21T02:27:47.598956Z"
    },
    "papermill": {
     "duration": 0.031996,
     "end_time": "2021-06-21T02:28:18.163491",
     "exception": false,
     "start_time": "2021-06-21T02:28:18.131495",
     "status": "completed"
    },
    "tags": []
   },
   "outputs": [
    {
     "name": "stdout",
     "output_type": "stream",
     "text": [
      "['wobbuffet.png', 'magikarp.png', 'litwick.png', 'marill.png', 'snivy.png', 'seel.png', 'luvdisc.png', 'baltoy.png', 'staryu.png', 'spheal.png', 'dewpider.png', 'swablu.png', 'ledian.png', 'gossifleur.png', 'shroomish.png', 'morelull.png', 'cottonee.png', 'chingling.png', 'silcoon.png', 'voltorb.png', 'seedot.png', 'frillish.png', 'meditite.png', 'togepi.png', 'wynaut.png', 'steenee.png', 'venipede.png', 'spewpa.png', 'cherubi.png', 'gothita.png', 'rolycoly.png', 'kakuna.png', 'minun.png', 'duosion.png', 'petilil.png', 'lampent.png', 'mantyke.png', 'gulpin.png', 'cascoon.png', 'wooloo.png', 'metapod.png']\n",
      "41\n"
     ]
    }
   ],
   "source": [
    "f2=[]\n",
    "for i in set(names2):\n",
    "    f2 += [i.lower() + '.png']\n",
    "    \n",
    "print(f2)\n",
    "print(len(f2))"
   ]
  },
  {
   "cell_type": "code",
   "execution_count": 16,
   "metadata": {
    "execution": {
     "iopub.execute_input": "2021-06-21T02:28:18.236383Z",
     "iopub.status.busy": "2021-06-21T02:28:18.235687Z",
     "iopub.status.idle": "2021-06-21T02:28:18.301269Z",
     "shell.execute_reply": "2021-06-21T02:28:18.300325Z",
     "shell.execute_reply.started": "2021-06-21T02:27:47.609421Z"
    },
    "papermill": {
     "duration": 0.115434,
     "end_time": "2021-06-21T02:28:18.301414",
     "exception": false,
     "start_time": "2021-06-21T02:28:18.185980",
     "status": "completed"
    },
    "tags": []
   },
   "outputs": [
    {
     "data": {
      "text/plain": [
       "Text(0.5, 1.0, 'meditite.png')"
      ]
     },
     "execution_count": 16,
     "metadata": {},
     "output_type": "execute_result"
    },
    {
     "data": {
      "image/png": "[encoded data removed]",
      "text/plain": [
       "<Figure size 360x360 with 1 Axes>"
      ]
     },
     "metadata": {},
     "output_type": "display_data"
    }
   ],
   "source": [
    "''' plotting 2nd image '''\n",
    "j = random.randrange(41)\n",
    "f, ax = plt.subplots(1,1, figsize=(5,5))\n",
    "img = cv2.imread(os.path.join(img_dir,files2[j]))\n",
    "ax.imshow(img)\n",
    "ax.set_xticks([])\n",
    "ax.set_yticks([])\n",
    "ax.set_title(files2[i])"
   ]
  },
  {
   "cell_type": "code",
   "execution_count": null,
   "metadata": {},
   "outputs": [],
   "source": []
  },
  {
   "cell_type": "code",
   "execution_count": null,
   "metadata": {},
   "outputs": [],
   "source": []
  }
 ],
 "metadata": {
  "kernelspec": {
   "display_name": "Python 3",
   "language": "python",
   "name": "python3"
  },
  "language_info": {
   "codemirror_mode": {
    "name": "ipython",
    "version": 3
   },
   "file_extension": ".py",
   "mimetype": "text/x-python",
   "name": "python",
   "nbconvert_exporter": "python",
   "pygments_lexer": "ipython3",
   "version": "3.8.5"
  },
  "papermill": {
   "default_parameters": {},
   "duration": 11.344277,
   "end_time": "2021-06-21T02:28:19.034922",
   "environment_variables": {},
   "exception": null,
   "input_path": "__notebook__.ipynb",
   "output_path": "__notebook__.ipynb",
   "parameters": {},
   "start_time": "2021-06-21T02:28:07.690645",
   "version": "2.3.3"
  }
 },
 "nbformat": 4,
 "nbformat_minor": 5
}
