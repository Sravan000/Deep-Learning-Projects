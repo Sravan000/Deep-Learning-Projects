{
 "cells": [
  {
   "cell_type": "code",
   "execution_count": 1,
   "metadata": {
    "_cell_guid": "b1076dfc-b9ad-4769-8c92-a6c4dae69d19",
    "_uuid": "8f2839f25d086af736a60e9eeb907d3b93b6e0e5"
   },
   "outputs": [
    {
     "name": "stderr",
     "output_type": "stream",
     "text": [
      "Using TensorFlow backend.\n"
     ]
    },
    {
     "name": "stdout",
     "output_type": "stream",
     "text": [
      "['aerial-cactus-identification', 'trans-learn-weights']\n"
     ]
    }
   ],
   "source": [
    "import pandas as pd \n",
    "import os\n",
    "import numpy as np\n",
    "import matplotlib.pyplot as plt\n",
    "%matplotlib inline \n",
    "\n",
    "from keras.preprocessing import image\n",
    "from keras import layers,models\n",
    "from keras.applications.imagenet_utils import preprocess_input\n",
    "from keras.preprocessing.image import ImageDataGenerator\n",
    "from keras.callbacks import ReduceLROnPlateau\n",
    "from keras.models import Sequential\n",
    "from keras.applications.vgg16 import VGG16\n",
    "from keras.layers import Dropout, Flatten,Activation\n",
    "from keras.layers import Dense\n",
    "from keras.optimizers import Adam,SGD,Adagrad,Adadelta,RMSprop\n",
    "\n",
    "print(os.listdir(\"../input\"))"
   ]
  },
  {
   "cell_type": "code",
   "execution_count": 2,
   "metadata": {},
   "outputs": [
    {
     "name": "stdout",
     "output_type": "stream",
     "text": [
      "total row and column of data =(17500, 2)\n",
      "total image with cactus count = 13136\n"
     ]
    },
    {
     "data": {
      "text/html": [
       "<div>\n",
       "<style scoped>\n",
       "    .dataframe tbody tr th:only-of-type {\n",
       "        vertical-align: middle;\n",
       "    }\n",
       "\n",
       "    .dataframe tbody tr th {\n",
       "        vertical-align: top;\n",
       "    }\n",
       "\n",
       "    .dataframe thead th {\n",
       "        text-align: right;\n",
       "    }\n",
       "</style>\n",
       "<table border=\"1\" class=\"dataframe\">\n",
       "  <thead>\n",
       "    <tr style=\"text-align: right;\">\n",
       "      <th></th>\n",
       "      <th>id</th>\n",
       "      <th>has_cactus</th>\n",
       "    </tr>\n",
       "  </thead>\n",
       "  <tbody>\n",
       "    <tr>\n",
       "      <th>0</th>\n",
       "      <td>0004be2cfeaba1c0361d39e2b000257b.jpg</td>\n",
       "      <td>1</td>\n",
       "    </tr>\n",
       "    <tr>\n",
       "      <th>1</th>\n",
       "      <td>000c8a36845c0208e833c79c1bffedd1.jpg</td>\n",
       "      <td>1</td>\n",
       "    </tr>\n",
       "    <tr>\n",
       "      <th>2</th>\n",
       "      <td>000d1e9a533f62e55c289303b072733d.jpg</td>\n",
       "      <td>1</td>\n",
       "    </tr>\n",
       "    <tr>\n",
       "      <th>3</th>\n",
       "      <td>0011485b40695e9138e92d0b3fb55128.jpg</td>\n",
       "      <td>1</td>\n",
       "    </tr>\n",
       "    <tr>\n",
       "      <th>4</th>\n",
       "      <td>0014d7a11e90b62848904c1418fc8cf2.jpg</td>\n",
       "      <td>1</td>\n",
       "    </tr>\n",
       "  </tbody>\n",
       "</table>\n",
       "</div>"
      ],
      "text/plain": [
       "                                     id  has_cactus\n",
       "0  0004be2cfeaba1c0361d39e2b000257b.jpg           1\n",
       "1  000c8a36845c0208e833c79c1bffedd1.jpg           1\n",
       "2  000d1e9a533f62e55c289303b072733d.jpg           1\n",
       "3  0011485b40695e9138e92d0b3fb55128.jpg           1\n",
       "4  0014d7a11e90b62848904c1418fc8cf2.jpg           1"
      ]
     },
     "execution_count": 2,
     "metadata": {},
     "output_type": "execute_result"
    }
   ],
   "source": [
    "''' train_path '''\n",
    "train_path = '../input/aerial-cactus-identification/train/train'\n",
    "\n",
    "''' test_path'''\n",
    "test_path = '../input/aerial-cactus-identification/test/test'\n",
    "\n",
    "''' reading csv file'''\n",
    "df = pd.read_csv('../input/aerial-cactus-identification/train.csv')\n",
    "\n",
    "X_train = df.id\n",
    "y_train = df.has_cactus\n",
    "\n",
    "print('total row and column of data =' + str(df.shape[0:]))\n",
    "print('total image with cactus count =',sum(y_train == 1))\n",
    "df.head()"
   ]
  },
  {
   "cell_type": "code",
   "execution_count": 3,
   "metadata": {},
   "outputs": [
    {
     "name": "stdout",
     "output_type": "stream",
     "text": [
      "Found 13500 images belonging to 2 classes.\n",
      "Found 4000 images belonging to 2 classes.\n"
     ]
    }
   ],
   "source": [
    "'''conversion of has_Cactus from int to string so that it can fit train_generator'''\n",
    "labels.has_cactus = labels.has_cactus.astype(str)\n",
    "\n",
    "''' Data Augmentation '''\n",
    "train_ds = ImageDataGenerator(rescale=1./255, rotation_range=40, width_shift_range=0.2, height_shift_range=0.2,\n",
    "        shear_range=0.2, zoom_range=0.2, horizontal_flip=True, vertical_flip = True, fill_mode='nearest')\n",
    "\n",
    "''' flow from directory '''\n",
    "train_ds = train_ds.flow_from_dataframe(dataframe = df[:13500], directory = train_path, x_col = 'id', y_col = 'has_cactus',\n",
    "    target_size = (128,128), color_mode = 'rgb', class_mode = 'binary')\n",
    "\n",
    "val_ds = ImageDataGenerator(rescale = 1./255)\n",
    "\n",
    "val_ds = val_ds.flow_from_dataframe(dataframe=df[13500:], directory = train_path, x_col = 'id', y_col = 'has_cactus',\n",
    "    target_size = (128,128), color_mode = 'rgb', class_mode = 'binary')"
   ]
  },
  {
   "cell_type": "code",
   "execution_count": 4,
   "metadata": {},
   "outputs": [
    {
     "name": "stdout",
     "output_type": "stream",
     "text": [
      "WARNING:tensorflow:From /opt/conda/lib/python3.6/site-packages/tensorflow/python/framework/op_def_library.py:263: colocate_with (from tensorflow.python.framework.ops) is deprecated and will be removed in a future version.\n",
      "Instructions for updating:\n",
      "Colocations handled automatically by placer.\n"
     ]
    }
   ],
   "source": [
    "''' Model VGG16'''\n",
    "model1 = VGG16(include_top = False,weights =None,input_shape =(128,128,3))\n",
    "model1.load_weights('../input/trans-learn-weights/vgg16_weights_tf_dim_ordering_tf_kernels_notop.h5')"
   ]
  },
  {
   "cell_type": "code",
   "execution_count": 5,
   "metadata": {},
   "outputs": [
    {
     "name": "stdout",
     "output_type": "stream",
     "text": [
      "Found 4000 images belonging to 2 classes.\n",
      "_________________________________________________________________\n",
      "Layer (type)                 Output Shape              Param #   \n",
      "=================================================================\n",
      "input_1 (InputLayer)         (None, 128, 128, 3)       0         \n",
      "_________________________________________________________________\n",
      "block1_conv1 (Conv2D)        (None, 128, 128, 64)      1792      \n",
      "_________________________________________________________________\n",
      "block1_conv2 (Conv2D)        (None, 128, 128, 64)      36928     \n",
      "_________________________________________________________________\n",
      "block1_pool (MaxPooling2D)   (None, 64, 64, 64)        0         \n",
      "_________________________________________________________________\n",
      "block2_conv1 (Conv2D)        (None, 64, 64, 128)       73856     \n",
      "_________________________________________________________________\n",
      "block2_conv2 (Conv2D)        (None, 64, 64, 128)       147584    \n",
      "_________________________________________________________________\n",
      "block2_pool (MaxPooling2D)   (None, 32, 32, 128)       0         \n",
      "_________________________________________________________________\n",
      "block3_conv1 (Conv2D)        (None, 32, 32, 256)       295168    \n",
      "_________________________________________________________________\n",
      "block3_conv2 (Conv2D)        (None, 32, 32, 256)       590080    \n",
      "_________________________________________________________________\n",
      "block3_conv3 (Conv2D)        (None, 32, 32, 256)       590080    \n",
      "_________________________________________________________________\n",
      "block3_pool (MaxPooling2D)   (None, 16, 16, 256)       0         \n",
      "_________________________________________________________________\n",
      "block4_conv1 (Conv2D)        (None, 16, 16, 512)       1180160   \n",
      "_________________________________________________________________\n",
      "block4_conv2 (Conv2D)        (None, 16, 16, 512)       2359808   \n",
      "_________________________________________________________________\n",
      "block4_conv3 (Conv2D)        (None, 16, 16, 512)       2359808   \n",
      "_________________________________________________________________\n",
      "block4_pool (MaxPooling2D)   (None, 8, 8, 512)         0         \n",
      "_________________________________________________________________\n",
      "block5_conv1 (Conv2D)        (None, 8, 8, 512)         2359808   \n",
      "_________________________________________________________________\n",
      "block5_conv2 (Conv2D)        (None, 8, 8, 512)         2359808   \n",
      "_________________________________________________________________\n",
      "block5_conv3 (Conv2D)        (None, 8, 8, 512)         2359808   \n",
      "_________________________________________________________________\n",
      "block5_pool (MaxPooling2D)   (None, 4, 4, 512)         0         \n",
      "=================================================================\n",
      "Total params: 14,714,688\n",
      "Trainable params: 14,714,688\n",
      "Non-trainable params: 0\n",
      "_________________________________________________________________\n"
     ]
    }
   ],
   "source": [
    "''' lets see how vgg model looks like '''\n",
    "model1.summary()"
   ]
  },
  {
   "cell_type": "code",
   "execution_count": 6,
   "metadata": {},
   "outputs": [
    {
     "name": "stdout",
     "output_type": "stream",
     "text": [
      "WARNING:tensorflow:From /opt/conda/lib/python3.6/site-packages/keras/backend/tensorflow_backend.py:3445: calling dropout (from tensorflow.python.ops.nn_ops) with keep_prob is deprecated and will be removed in a future version.\n",
      "Instructions for updating:\n",
      "Please use `rate` instead of `keep_prob`. Rate should be set to `rate = 1 - keep_prob`.\n"
     ]
    }
   ],
   "source": [
    "''' container '''\n",
    "model = Sequential()\n",
    "\n",
    "''' adding vgg layer '''\n",
    "model.add(base_model)\n",
    "''' flattening output'''\n",
    "model.add(Flatten())\n",
    "''' Hidden Layer '''\n",
    "model.add(Dense(256,activation = 'relu'))\n",
    "model.add(Dropout(0.5))\n",
    "''' Classificaion Layer '''\n",
    "model.add(Dense(1,activation = 'sigmoid'))"
   ]
  },
  {
   "cell_type": "code",
   "execution_count": 7,
   "metadata": {},
   "outputs": [
    {
     "name": "stdout",
     "output_type": "stream",
     "text": [
      "_________________________________________________________________\n",
      "Layer (type)                 Output Shape              Param #   \n",
      "=================================================================\n",
      "vgg16 (Model)                (None, 4, 4, 512)         14714688  \n",
      "_________________________________________________________________\n",
      "flatten_1 (Flatten)          (None, 8192)              0         \n",
      "_________________________________________________________________\n",
      "dense_1 (Dense)              (None, 256)               2097408   \n",
      "_________________________________________________________________\n",
      "dropout_1 (Dropout)          (None, 256)               0         \n",
      "_________________________________________________________________\n",
      "dense_2 (Dense)              (None, 1)                 257       \n",
      "=================================================================\n",
      "Total params: 16,812,353\n",
      "Trainable params: 16,812,353\n",
      "Non-trainable params: 0\n",
      "_________________________________________________________________\n"
     ]
    }
   ],
   "source": [
    "''' lets see how original model looks like '''\n",
    "model.summary()"
   ]
  },
  {
   "cell_type": "code",
   "execution_count": 8,
   "metadata": {},
   "outputs": [
    {
     "name": "stdout",
     "output_type": "stream",
     "text": [
      "0 <keras.engine.input_layer.InputLayer object at 0x7fb099cf3ef0>\n",
      "1 <keras.layers.convolutional.Conv2D object at 0x7fb09a498b70>\n",
      "2 <keras.layers.convolutional.Conv2D object at 0x7fb09a498d68>\n",
      "3 <keras.layers.pooling.MaxPooling2D object at 0x7fb099bc25c0>\n",
      "4 <keras.layers.convolutional.Conv2D object at 0x7fb099bc2160>\n",
      "5 <keras.layers.convolutional.Conv2D object at 0x7fb099a303c8>\n",
      "6 <keras.layers.pooling.MaxPooling2D object at 0x7fb099a49a90>\n",
      "7 <keras.layers.convolutional.Conv2D object at 0x7fb099a495f8>\n",
      "8 <keras.layers.convolutional.Conv2D object at 0x7fb099b7c2b0>\n",
      "9 <keras.layers.convolutional.Conv2D object at 0x7fb099b8ac88>\n",
      "10 <keras.layers.pooling.MaxPooling2D object at 0x7fb099b45550>\n",
      "11 <keras.layers.convolutional.Conv2D object at 0x7fb099b45400>\n",
      "12 <keras.layers.convolutional.Conv2D object at 0x7fb099af9208>\n",
      "13 <keras.layers.convolutional.Conv2D object at 0x7fb099b0c828>\n",
      "14 <keras.layers.pooling.MaxPooling2D object at 0x7fb099aa6c50>\n",
      "15 <keras.layers.convolutional.Conv2D object at 0x7fb099aa6978>\n",
      "16 <keras.layers.convolutional.Conv2D object at 0x7fb099ad5b38>\n",
      "17 <keras.layers.convolutional.Conv2D object at 0x7fb099ae5c88>\n",
      "18 <keras.layers.pooling.MaxPooling2D object at 0x7fb099aa3ba8>\n"
     ]
    }
   ],
   "source": [
    "for i in range (len(model1.layers)):\n",
    "    print (i,model1.layers[i])"
   ]
  },
  {
   "cell_type": "code",
   "execution_count": 9,
   "metadata": {},
   "outputs": [
    {
     "name": "stdout",
     "output_type": "stream",
     "text": [
      "Unfreezed base model\n"
     ]
    }
   ],
   "source": [
    "''' freezing layers '''\n",
    "for layer in model1.layers[11:]:\n",
    "    layer.trainable=True\n",
    "    \n",
    "''' unfreezing layers '''\n",
    "for layer in model1.layers[0:11]:\n",
    "    layer.trainable=False\n",
    "print('Unfreezed base model')"
   ]
  },
  {
   "cell_type": "code",
   "execution_count": 10,
   "metadata": {},
   "outputs": [],
   "source": [
    "epochs=8\n",
    "batch_size=128\n",
    "\n",
    "'''Using learning rate annealer'''\n",
    "red_lr=ReduceLROnPlateau(monitor='val_acc', factor=0.1, patience=2, verbose=1)"
   ]
  },
  {
   "cell_type": "code",
   "execution_count": 11,
   "metadata": {},
   "outputs": [
    {
     "name": "stdout",
     "output_type": "stream",
     "text": [
      "model compiled\n"
     ]
    }
   ],
   "source": [
    "''' compile the model '''\n",
    "model.compile(optimizer=Adam(lr=1e-4),loss='binary_crossentropy',metrics=['accuracy'])\n",
    "\n",
    "print('model compiled')"
   ]
  },
  {
   "cell_type": "code",
   "execution_count": 12,
   "metadata": {},
   "outputs": [
    {
     "name": "stdout",
     "output_type": "stream",
     "text": [
      "WARNING:tensorflow:From /opt/conda/lib/python3.6/site-packages/tensorflow/python/ops/math_ops.py:3066: to_int32 (from tensorflow.python.ops.math_ops) is deprecated and will be removed in a future version.\n",
      "Instructions for updating:\n",
      "Use tf.cast instead.\n",
      "Epoch 1/8\n",
      "137/137 [==============================] - 979s 7s/step - loss: 0.2082 - acc: 0.9133 - val_loss: 0.0948 - val_acc: 0.9575\n",
      "Epoch 2/8\n",
      "137/137 [==============================] - 980s 7s/step - loss: 0.0884 - acc: 0.9690 - val_loss: 0.0706 - val_acc: 0.9812\n",
      "Epoch 3/8\n",
      "137/137 [==============================] - 992s 7s/step - loss: 0.0797 - acc: 0.9747 - val_loss: 0.0314 - val_acc: 0.9888\n",
      "Epoch 4/8\n",
      "137/137 [==============================] - 987s 7s/step - loss: 0.0687 - acc: 0.9756 - val_loss: 0.0740 - val_acc: 0.9744\n",
      "Epoch 5/8\n",
      "137/137 [==============================] - 987s 7s/step - loss: 0.0527 - acc: 0.9820 - val_loss: 0.0380 - val_acc: 0.9881\n",
      "\n",
      "Epoch 00005: ReduceLROnPlateau reducing learning rate to 9.999999747378752e-06.\n",
      "Epoch 6/8\n",
      "137/137 [==============================] - 986s 7s/step - loss: 0.0424 - acc: 0.9847 - val_loss: 0.0637 - val_acc: 0.9750\n",
      "Epoch 7/8\n",
      "137/137 [==============================] - 986s 7s/step - loss: 0.0370 - acc: 0.9877 - val_loss: 0.0555 - val_acc: 0.9769\n",
      "\n",
      "Epoch 00007: ReduceLROnPlateau reducing learning rate to 9.999999747378752e-07.\n",
      "Epoch 8/8\n",
      "137/137 [==============================] - 986s 7s/step - loss: 0.0327 - acc: 0.9877 - val_loss: 0.0429 - val_acc: 0.9856\n"
     ]
    }
   ],
   "source": [
    "''' training '''\n",
    "history = model.fit_generator(train_generator, callbacks = [red_lr],\n",
    "                              epochs = epochs, validation_data = val_generator, validation_steps = 50,\n",
    "                              verbose = 1, steps_per_epoch= math.ceil(labels.shape[0]/ batch_size))"
   ]
  },
  {
   "cell_type": "code",
   "execution_count": 13,
   "metadata": {},
   "outputs": [
    {
     "data": {
      "image/png": "[encoded data removed]",
      "text/plain": [
       "<Figure size 432x288 with 1 Axes>"
      ]
     },
     "metadata": {},
     "output_type": "display_data"
    }
   ],
   "source": [
    "''' plotting training accuracy and validation accuracy '''\n",
    "plt.plot(history.history['acc'])\n",
    "plt.plot(history.history['val_acc'])\n",
    "plt.title('Model Accuracy')\n",
    "plt.ylabel('Accuracy')\n",
    "plt.xlabel('Epochs')\n",
    "plt.legend(['train', 'test'])\n",
    "plt.show()"
   ]
  },
  {
   "cell_type": "code",
   "execution_count": 14,
   "metadata": {},
   "outputs": [
    {
     "data": {
      "image/png": "[encoded data removed]",
      "text/plain": [
       "<Figure size 432x288 with 1 Axes>"
      ]
     },
     "metadata": {},
     "output_type": "display_data"
    }
   ],
   "source": [
    "''' plotting training loss and validation loss '''\n",
    "plt.plot(history.history['loss'])\n",
    "plt.plot(history.history['val_loss'])\n",
    "plt.title('Model loss')\n",
    "plt.ylabel('Loss')\n",
    "plt.xlabel('Epochs')\n",
    "plt.legend(['train', 'test'])\n",
    "plt.show()"
   ]
  },
  {
   "cell_type": "code",
   "execution_count": 16,
   "metadata": {},
   "outputs": [
    {
     "name": "stdout",
     "output_type": "stream",
     "text": [
      "Found 4000 images.\n",
      "4000/4000 [==============================] - 13321s 3s/step\n"
     ]
    }
   ],
   "source": [
    "''' reading test file '''\n",
    "test_df = pd.read_csv('../input/aerial-cactus-identification/sample_submission.csv')\n",
    "\n",
    "''' Image data generator '''\n",
    "test_ds = ImageDataGenerator(rescale = 1./255)\n",
    "\n",
    "tes_ds = test_ds.flow_from_dataframe(dataframe=test_df, directory=test_path, x_col = 'id', y_col = 'has_cactus',\n",
    "    target_size = (128,128), color_mode = 'rgb', class_mode = 'other', shuffle = False)\n",
    "\n",
    "''' prediction '''\n",
    "predict = model.predict_generator(test_ds,steps = test_df.shape[0],verbose = 1)"
   ]
  },
  {
   "cell_type": "code",
   "execution_count": 18,
   "metadata": {},
   "outputs": [
    {
     "name": "stdout",
     "output_type": "stream",
     "text": [
      "[[0.99999964]\n",
      " [1.        ]\n",
      " [0.0051342 ]\n",
      " ...\n",
      " [0.9999994 ]\n",
      " [1.        ]\n",
      " [1.        ]]\n"
     ]
    },
    {
     "name": "stderr",
     "output_type": "stream",
     "text": [
      "/opt/conda/lib/python3.6/site-packages/ipykernel_launcher.py:6: SettingWithCopyWarning: \n",
      "A value is trying to be set on a copy of a slice from a DataFrame\n",
      "\n",
      "See the caveats in the documentation: http://pandas.pydata.org/pandas-docs/stable/indexing.html#indexing-view-versus-copy\n",
      "  \n"
     ]
    },
    {
     "name": "stdout",
     "output_type": "stream",
     "text": [
      "done 100 copies100\n",
      "done 100 copies200\n",
      "done 100 copies300\n",
      "done 100 copies400\n",
      "done 100 copies500\n",
      "done 100 copies600\n",
      "done 100 copies700\n",
      "done 100 copies800\n",
      "done 100 copies900\n",
      "done 100 copies1000\n",
      "done 100 copies1100\n",
      "done 100 copies1200\n",
      "done 100 copies1300\n",
      "done 100 copies1400\n",
      "done 100 copies1500\n",
      "done 100 copies1600\n",
      "done 100 copies1700\n",
      "done 100 copies1800\n",
      "done 100 copies1900\n",
      "done 100 copies2000\n",
      "done 100 copies2100\n",
      "done 100 copies2200\n",
      "done 100 copies2300\n",
      "done 100 copies2400\n",
      "done 100 copies2500\n",
      "done 100 copies2600\n",
      "done 100 copies2700\n",
      "done 100 copies2800\n",
      "done 100 copies2900\n",
      "done 100 copies3000\n",
      "done 100 copies3100\n",
      "done 100 copies3200\n",
      "done 100 copies3300\n",
      "done 100 copies3400\n",
      "done 100 copies3500\n",
      "done 100 copies3600\n",
      "done 100 copies3700\n",
      "done 100 copies3800\n",
      "done 100 copies3900\n",
      "done 100 copies4000\n"
     ]
    }
   ],
   "source": [
    "''' printing predicted value '''\n",
    "print(predict)\n",
    "\n",
    "''' reading file '''\n",
    "y_df = pd.read_csv('../input/aerial-cactus-identification/sample_submission.csv')\n",
    "count = 0\n",
    "\n",
    "while (count <= y_df.shape[0]):\n",
    "    y_df.has_cactus[count] = predict[count]\n",
    "    count += 1\n",
    "    if(count % 100 == 0):\n",
    "        print('done 100 copies'+str(count))\n",
    "    if(count % 4000 == 0):\n",
    "        break\n",
    "y_df.to_csv('submission.csv',index=False)"
   ]
  },
  {
   "cell_type": "code",
   "execution_count": 19,
   "metadata": {},
   "outputs": [
    {
     "data": {
      "text/html": [
       "<div>\n",
       "<style scoped>\n",
       "    .dataframe tbody tr th:only-of-type {\n",
       "        vertical-align: middle;\n",
       "    }\n",
       "\n",
       "    .dataframe tbody tr th {\n",
       "        vertical-align: top;\n",
       "    }\n",
       "\n",
       "    .dataframe thead th {\n",
       "        text-align: right;\n",
       "    }\n",
       "</style>\n",
       "<table border=\"1\" class=\"dataframe\">\n",
       "  <thead>\n",
       "    <tr style=\"text-align: right;\">\n",
       "      <th></th>\n",
       "      <th>id</th>\n",
       "      <th>has_cactus</th>\n",
       "    </tr>\n",
       "  </thead>\n",
       "  <tbody>\n",
       "    <tr>\n",
       "      <th>0</th>\n",
       "      <td>000940378805c44108d287872b2f04ce.jpg</td>\n",
       "      <td>1.000000</td>\n",
       "    </tr>\n",
       "    <tr>\n",
       "      <th>1</th>\n",
       "      <td>0017242f54ececa4512b4d7937d1e21e.jpg</td>\n",
       "      <td>1.000000</td>\n",
       "    </tr>\n",
       "    <tr>\n",
       "      <th>2</th>\n",
       "      <td>001ee6d8564003107853118ab87df407.jpg</td>\n",
       "      <td>0.005134</td>\n",
       "    </tr>\n",
       "    <tr>\n",
       "      <th>3</th>\n",
       "      <td>002e175c3c1e060769475f52182583d0.jpg</td>\n",
       "      <td>0.007958</td>\n",
       "    </tr>\n",
       "    <tr>\n",
       "      <th>4</th>\n",
       "      <td>0036e44a7e8f7218e9bc7bf8137e4943.jpg</td>\n",
       "      <td>0.999952</td>\n",
       "    </tr>\n",
       "  </tbody>\n",
       "</table>\n",
       "</div>"
      ],
      "text/plain": [
       "                                     id  has_cactus\n",
       "0  000940378805c44108d287872b2f04ce.jpg    1.000000\n",
       "1  0017242f54ececa4512b4d7937d1e21e.jpg    1.000000\n",
       "2  001ee6d8564003107853118ab87df407.jpg    0.005134\n",
       "3  002e175c3c1e060769475f52182583d0.jpg    0.007958\n",
       "4  0036e44a7e8f7218e9bc7bf8137e4943.jpg    0.999952"
      ]
     },
     "execution_count": 19,
     "metadata": {},
     "output_type": "execute_result"
    }
   ],
   "source": [
    "''' displaying first five rows '''\n",
    "y_df.head()"
   ]
  }
 ],
 "metadata": {
  "kernelspec": {
   "display_name": "Python 3",
   "language": "python",
   "name": "python3"
  },
  "language_info": {
   "codemirror_mode": {
    "name": "ipython",
    "version": 3
   },
   "file_extension": ".py",
   "mimetype": "text/x-python",
   "name": "python",
   "nbconvert_exporter": "python",
   "pygments_lexer": "ipython3",
   "version": "3.8.5"
  }
 },
 "nbformat": 4,
 "nbformat_minor": 1
}
