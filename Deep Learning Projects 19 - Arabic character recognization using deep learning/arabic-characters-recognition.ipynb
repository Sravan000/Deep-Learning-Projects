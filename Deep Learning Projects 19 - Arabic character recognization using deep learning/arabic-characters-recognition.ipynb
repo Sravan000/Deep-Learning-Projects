{
 "cells": [
  {
   "cell_type": "markdown",
   "metadata": {
    "papermill": {
     "duration": 0.016249,
     "end_time": "2021-04-27T00:05:47.625756",
     "exception": false,
     "start_time": "2021-04-27T00:05:47.609507",
     "status": "completed"
    },
    "tags": []
   },
   "source": [
    "# Dataset Link: https://www.kaggle.com/mloey1/ahcd1"
   ]
  },
  {
   "cell_type": "code",
   "execution_count": 1,
   "metadata": {
    "execution": {
     "iopub.execute_input": "2021-04-27T00:05:47.698094Z",
     "iopub.status.busy": "2021-04-27T00:05:47.694910Z",
     "iopub.status.idle": "2021-04-27T00:05:54.513409Z",
     "shell.execute_reply": "2021-04-27T00:05:54.514206Z"
    },
    "papermill": {
     "duration": 6.843286,
     "end_time": "2021-04-27T00:05:54.514520",
     "exception": false,
     "start_time": "2021-04-27T00:05:47.671234",
     "status": "completed"
    },
    "tags": []
   },
   "outputs": [],
   "source": [
    "import pandas as pd\n",
    "import numpy as np\n",
    "import matplotlib.pyplot as plt\n",
    "import seaborn as sns\n",
    "import cv2 as cv\n",
    "import random\n",
    "from pathlib import Path\n",
    "import os\n",
    "\n",
    "from sklearn.utils import shuffle\n",
    "from keras.models import Sequential\n",
    "from keras.utils import to_categorical\n",
    "from keras.layers import Dense, Flatten, Conv2D, MaxPool2D, Dropout, Activation\n",
    "from keras import optimizers\n",
    "from keras_preprocessing.image import ImageDataGenerator\n",
    "from keras.models import load_model"
   ]
  },
  {
   "cell_type": "code",
   "execution_count": 2,
   "metadata": {
    "execution": {
     "iopub.execute_input": "2021-04-27T00:05:54.579605Z",
     "iopub.status.busy": "2021-04-27T00:05:54.578619Z",
     "iopub.status.idle": "2021-04-27T00:05:54.802892Z",
     "shell.execute_reply": "2021-04-27T00:05:54.803451Z"
    },
    "papermill": {
     "duration": 0.243176,
     "end_time": "2021-04-27T00:05:54.803619",
     "exception": false,
     "start_time": "2021-04-27T00:05:54.560443",
     "status": "completed"
    },
    "tags": []
   },
   "outputs": [
    {
     "data": {
      "text/plain": [
       "<matplotlib.image.AxesImage at 0x7f2dc5933cd0>"
      ]
     },
     "execution_count": 2,
     "metadata": {},
     "output_type": "execute_result"
    },
    {
     "data": {
      "image/png": "[encoded data removed]",
      "text/plain": [
       "<Figure size 432x288 with 1 Axes>"
      ]
     },
     "metadata": {
      "needs_background": "light"
     },
     "output_type": "display_data"
    }
   ],
   "source": [
    "''' reading an image '''\n",
    "img = cv.imread(\"../input/ahcd1/Test Images 3360x32x32/test/id_1007_label_28.png\")\n",
    "\n",
    "''' resizing an image '''\n",
    "img = cv.resize(img, (32,32))\n",
    "\n",
    "''' plotting an image '''\n",
    "plt.imshow(img)"
   ]
  },
  {
   "cell_type": "code",
   "execution_count": 3,
   "metadata": {
    "execution": {
     "iopub.execute_input": "2021-04-27T00:05:54.872570Z",
     "iopub.status.busy": "2021-04-27T00:05:54.871633Z",
     "iopub.status.idle": "2021-04-27T00:05:57.936857Z",
     "shell.execute_reply": "2021-04-27T00:05:57.937497Z"
    },
    "papermill": {
     "duration": 3.085131,
     "end_time": "2021-04-27T00:05:57.937729",
     "exception": false,
     "start_time": "2021-04-27T00:05:54.852598",
     "status": "completed"
    },
    "tags": []
   },
   "outputs": [
    {
     "data": {
      "text/plain": [
       "((13439, 1024), (13439, 1), (3359, 1024), (3359, 1))"
      ]
     },
     "execution_count": 3,
     "metadata": {},
     "output_type": "execute_result"
    }
   ],
   "source": [
    "''' reading data of train data '''\n",
    "train_df_images = pd.read_csv('../input/ahcd1/csvTrainImages 13440x1024.csv')\n",
    "train_df_label = pd.read_csv('../input/ahcd1/csvTrainLabel 13440x1.csv')\n",
    "\n",
    "''' reading data of test data '''\n",
    "test_df_images = pd.read_csv('../input/ahcd1/csvTestImages 3360x1024.csv')\n",
    "test_df_images = pd.read_csv('../input/ahcd1/csvTestLabel 3360x1.csv')\n",
    "\n",
    "''' shape of data '''\n",
    "train_df_images.shape, train_df_label.shape, test_images.shape, test_df_images.shape"
   ]
  },
  {
   "cell_type": "code",
   "execution_count": 4,
   "metadata": {
    "execution": {
     "iopub.execute_input": "2021-04-27T00:05:58.011035Z",
     "iopub.status.busy": "2021-04-27T00:05:58.009968Z",
     "iopub.status.idle": "2021-04-27T00:05:58.028376Z",
     "shell.execute_reply": "2021-04-27T00:05:58.028890Z"
    },
    "papermill": {
     "duration": 0.039073,
     "end_time": "2021-04-27T00:05:58.029077",
     "exception": false,
     "start_time": "2021-04-27T00:05:57.990004",
     "status": "completed"
    },
    "tags": []
   },
   "outputs": [],
   "source": [
    "''' Validation data '''\n",
    "rand = random.sample(train_images.index.tolist(), 500)\n",
    "\n",
    "val_df_images = pd.DataFrame(train_images.iloc[rand, :].values)\n",
    "val_df_labels = pd.DataFrame(train_labels.iloc[rand, :].values)"
   ]
  },
  {
   "cell_type": "code",
   "execution_count": 5,
   "metadata": {
    "execution": {
     "iopub.execute_input": "2021-04-27T00:05:58.100066Z",
     "iopub.status.busy": "2021-04-27T00:05:58.099131Z",
     "iopub.status.idle": "2021-04-27T00:05:58.106386Z",
     "shell.execute_reply": "2021-04-27T00:05:58.106854Z"
    },
    "papermill": {
     "duration": 0.027623,
     "end_time": "2021-04-27T00:05:58.107035",
     "exception": false,
     "start_time": "2021-04-27T00:05:58.079412",
     "status": "completed"
    },
    "tags": []
   },
   "outputs": [],
   "source": [
    "''' converting train data images into numpy array'''\n",
    "X_train = train_df_images.to_numpy()\n",
    "y_train = train_df_labels.to_numpy()\n",
    "\n",
    "''' converting validation data images into numpy array'''\n",
    "X_valid = val_df_images.to_numpy()\n",
    "y_valid = val_df_labels.to_numpy()\n",
    "\n",
    "''' converting test data images into numpy array'''\n",
    "X_test = test_df_images.to_numpy()\n",
    "y_test = test_df_labels.to_numpy()\n",
    "\n",
    "''' Number of classes '''\n",
    "num_classes = len(np.unique(y_train)) + 1\n",
    "num_classes\n",
    "\n",
    "''' converting labels of train, test, and val into to_categorical '''\n",
    "y_train = to_categorical(y_train,num_classes)\n",
    "y_valid = to_categorical(y_valid,num_classes)\n",
    "y_test = to_categorical(y_test,num_classes)"
   ]
  },
  {
   "cell_type": "code",
   "execution_count": 6,
   "metadata": {
    "execution": {
     "iopub.execute_input": "2021-04-27T00:05:58.178137Z",
     "iopub.status.busy": "2021-04-27T00:05:58.177187Z",
     "iopub.status.idle": "2021-04-27T00:05:58.186453Z",
     "shell.execute_reply": "2021-04-27T00:05:58.185472Z"
    },
    "papermill": {
     "duration": 0.029,
     "end_time": "2021-04-27T00:05:58.186603",
     "exception": false,
     "start_time": "2021-04-27T00:05:58.157603",
     "status": "completed"
    },
    "tags": []
   },
   "outputs": [
    {
     "name": "stdout",
     "output_type": "stream",
     "text": [
      "Training shape:  (13439, 1024)\n",
      "Validation shape:  (500, 1024)\n",
      "Testing shape:  (3359, 1024)\n"
     ]
    }
   ],
   "source": [
    "''' Shape of train, test and val data '''\n",
    "print(\"Training shape: \",X_train.shape)\n",
    "print(\"Validation shape: \",X_valid.shape)\n",
    "print(\"Testing shape: \",X_test.shape)"
   ]
  },
  {
   "cell_type": "code",
   "execution_count": 7,
   "metadata": {
    "execution": {
     "iopub.execute_input": "2021-04-27T00:05:58.264844Z",
     "iopub.status.busy": "2021-04-27T00:05:58.264151Z",
     "iopub.status.idle": "2021-04-27T00:05:58.267386Z",
     "shell.execute_reply": "2021-04-27T00:05:58.266884Z"
    },
    "papermill": {
     "duration": 0.026181,
     "end_time": "2021-04-27T00:05:58.267532",
     "exception": false,
     "start_time": "2021-04-27T00:05:58.241351",
     "status": "completed"
    },
    "tags": []
   },
   "outputs": [],
   "source": [
    "''' reshaping images '''\n",
    "X_train = X_train.reshape([-1, 32, 32, 1])\n",
    "X_test = X_test.reshape([-1, 32, 32, 1])\n",
    "X_valid = X_valid.reshape([-1, 32, 32, 1])"
   ]
  },
  {
   "cell_type": "code",
   "execution_count": 8,
   "metadata": {
    "execution": {
     "iopub.execute_input": "2021-04-27T00:05:58.346511Z",
     "iopub.status.busy": "2021-04-27T00:05:58.345836Z",
     "iopub.status.idle": "2021-04-27T00:05:58.685280Z",
     "shell.execute_reply": "2021-04-27T00:05:58.684363Z"
    },
    "papermill": {
     "duration": 0.365612,
     "end_time": "2021-04-27T00:05:58.685448",
     "exception": false,
     "start_time": "2021-04-27T00:05:58.319836",
     "status": "completed"
    },
    "tags": []
   },
   "outputs": [
    {
     "name": "stdout",
     "output_type": "stream",
     "text": [
      "Model: \"sequential\"\n",
      "_________________________________________________________________\n",
      "Layer (type)                 Output Shape              Param #   \n",
      "=================================================================\n",
      "conv2d (Conv2D)              (None, 32, 32, 32)        160       \n",
      "_________________________________________________________________\n",
      "max_pooling2d (MaxPooling2D) (None, 16, 16, 32)        0         \n",
      "_________________________________________________________________\n",
      "conv2d_1 (Conv2D)            (None, 16, 16, 64)        8256      \n",
      "_________________________________________________________________\n",
      "max_pooling2d_1 (MaxPooling2 (None, 8, 8, 64)          0         \n",
      "_________________________________________________________________\n",
      "conv2d_2 (Conv2D)            (None, 8, 8, 128)         32896     \n",
      "_________________________________________________________________\n",
      "max_pooling2d_2 (MaxPooling2 (None, 4, 4, 128)         0         \n",
      "_________________________________________________________________\n",
      "flatten (Flatten)            (None, 2048)              0         \n",
      "_________________________________________________________________\n",
      "dense (Dense)                (None, 512)               1049088   \n",
      "_________________________________________________________________\n",
      "dropout (Dropout)            (None, 512)               0         \n",
      "_________________________________________________________________\n",
      "dense_1 (Dense)              (None, 256)               131328    \n",
      "_________________________________________________________________\n",
      "dropout_1 (Dropout)          (None, 256)               0         \n",
      "_________________________________________________________________\n",
      "dense_2 (Dense)              (None, 29)                7453      \n",
      "=================================================================\n",
      "Total params: 1,229,181\n",
      "Trainable params: 1,229,181\n",
      "Non-trainable params: 0\n",
      "_________________________________________________________________\n"
     ]
    }
   ],
   "source": [
    "''' Model '''\n",
    "\n",
    "''' container '''\n",
    "model = Sequential()\n",
    "\n",
    "''' 1st Convolutional Layer '''\n",
    "model.add(Conv2D(filters=32, kernel_size=2, padding='same', activation='relu', input_shape=(32,32,1)))\n",
    "model.add(MaxPool2D(pool_size=2))\n",
    "\n",
    "''' 2nd Convolutional Layer '''\n",
    "model.add(Conv2D(filters=64, kernel_size=2, padding='same', activation='relu'))\n",
    "model.add(MaxPool2D(pool_size=2))\n",
    "\n",
    "''' 3rd Convolutional Layer '''\n",
    "model.add(Conv2D(filters=128, kernel_size=2, padding='same', activation='relu'))\n",
    "model.add(MaxPool2D(pool_size=2))\n",
    "\n",
    "''' flattening the output '''\n",
    "model.add(Flatten())\n",
    "\n",
    "'''1st Hidden layer '''\n",
    "model.add(Dense(512,activation='relu'))\n",
    "model.add(Dropout(0.3))\n",
    "\n",
    "''' 2nd Hidden layer '''\n",
    "model.add(Dense(256,activation='relu'))\n",
    "model.add(Dropout(0.3))\n",
    "\n",
    "''' Classification layer '''\n",
    "model.add(Dense(num_classes,activation='softmax'))\n",
    "\n",
    "''' Compile the model '''\n",
    "model.compile(loss='categorical_crossentropy', optimizer='adam', metrics=['accuracy'])\n",
    "model.summary()"
   ]
  },
  {
   "cell_type": "code",
   "execution_count": 9,
   "metadata": {
    "execution": {
     "iopub.execute_input": "2021-04-27T00:05:58.763381Z",
     "iopub.status.busy": "2021-04-27T00:05:58.762532Z",
     "iopub.status.idle": "2021-04-27T00:07:04.118369Z",
     "shell.execute_reply": "2021-04-27T00:07:04.117483Z"
    },
    "papermill": {
     "duration": 65.378772,
     "end_time": "2021-04-27T00:07:04.118541",
     "exception": false,
     "start_time": "2021-04-27T00:05:58.739769",
     "status": "completed"
    },
    "tags": []
   },
   "outputs": [
    {
     "name": "stdout",
     "output_type": "stream",
     "text": [
      "Epoch 1/5\n",
      "420/420 [==============================] - 14s 31ms/step - loss: 3.7908 - accuracy: 0.2475 - val_loss: 0.5047 - val_accuracy: 0.8420\n",
      "Epoch 2/5\n",
      "420/420 [==============================] - 13s 30ms/step - loss: 0.7910 - accuracy: 0.7245 - val_loss: 0.2942 - val_accuracy: 0.9120\n",
      "Epoch 3/5\n",
      "420/420 [==============================] - 13s 31ms/step - loss: 0.4519 - accuracy: 0.8481 - val_loss: 0.1752 - val_accuracy: 0.9460\n",
      "Epoch 4/5\n",
      "420/420 [==============================] - 13s 30ms/step - loss: 0.3391 - accuracy: 0.8867 - val_loss: 0.0988 - val_accuracy: 0.9700\n",
      "Epoch 5/5\n",
      "420/420 [==============================] - 13s 31ms/step - loss: 0.2608 - accuracy: 0.9134 - val_loss: 0.1079 - val_accuracy: 0.9680\n"
     ]
    }
   ],
   "source": [
    "''' training '''\n",
    "history = model.fit(X_train,y_train,validation_data=(X_valid,y_valid),epochs=5,batch_size=32)"
   ]
  },
  {
   "cell_type": "code",
   "execution_count": 10,
   "metadata": {
    "execution": {
     "iopub.execute_input": "2021-04-27T00:07:05.501170Z",
     "iopub.status.busy": "2021-04-27T00:07:05.500462Z",
     "iopub.status.idle": "2021-04-27T00:07:05.846946Z",
     "shell.execute_reply": "2021-04-27T00:07:05.847462Z"
    },
    "papermill": {
     "duration": 0.712901,
     "end_time": "2021-04-27T00:07:05.847642",
     "exception": false,
     "start_time": "2021-04-27T00:07:05.134741",
     "status": "completed"
    },
    "tags": []
   },
   "outputs": [
    {
     "data": {
      "image/png": "[encoded data removed]",
      "text/plain": [
       "<Figure size 1080x1080 with 2 Axes>"
      ]
     },
     "metadata": {
      "needs_background": "light"
     },
     "output_type": "display_data"
    }
   ],
   "source": [
    "epochs_range = range(5)\n",
    "\n",
    "''' training accuracy and validation accuracy graph '''\n",
    "plt.figure(figsize=(15, 15))\n",
    "plt.subplot(2, 2, 1)\n",
    "plt.plot(epochs_range, history.history['accuracy'], label='Training Accuracy')\n",
    "plt.plot(epochs_range, history.history['val_accuracy'], label='Validation Accuracy')\n",
    "plt.legend(loc='lower right')\n",
    "plt.title('Training and Validation Accuracy')\n",
    "\n",
    "''' training loss and validation loss graph '''\n",
    "plt.subplot(2, 2, 2)\n",
    "plt.plot(epochs_range, history.history['loss'], label='Training Loss')\n",
    "plt.plot(epochs_range, history.history['val_loss'], label='Validation Loss')\n",
    "plt.legend(loc='upper right')\n",
    "plt.title('Training and Validation Loss')\n",
    "plt.show()"
   ]
  },
  {
   "cell_type": "code",
   "execution_count": 11,
   "metadata": {
    "execution": {
     "iopub.execute_input": "2021-04-27T00:07:07.213955Z",
     "iopub.status.busy": "2021-04-27T00:07:07.213289Z",
     "iopub.status.idle": "2021-04-27T00:07:08.283879Z",
     "shell.execute_reply": "2021-04-27T00:07:08.283332Z"
    },
    "papermill": {
     "duration": 1.413257,
     "end_time": "2021-04-27T00:07:08.284060",
     "exception": false,
     "start_time": "2021-04-27T00:07:06.870803",
     "status": "completed"
    },
    "tags": []
   },
   "outputs": [
    {
     "name": "stdout",
     "output_type": "stream",
     "text": [
      "105/105 [==============================] - 1s 9ms/step - loss: 0.2478 - accuracy: 0.9169\n"
     ]
    },
    {
     "data": {
      "text/plain": [
       "[0.2478383630514145, 0.9169395565986633]"
      ]
     },
     "execution_count": 11,
     "metadata": {},
     "output_type": "execute_result"
    }
   ],
   "source": [
    "''' evaluating the model '''\n",
    "model.evaluate(X_test,y_test,batch_size=32)"
   ]
  },
  {
   "cell_type": "code",
   "execution_count": 12,
   "metadata": {
    "execution": {
     "iopub.execute_input": "2021-04-27T00:07:09.684581Z",
     "iopub.status.busy": "2021-04-27T00:07:09.683871Z",
     "iopub.status.idle": "2021-04-27T00:07:11.398769Z",
     "shell.execute_reply": "2021-04-27T00:07:11.399234Z"
    },
    "papermill": {
     "duration": 2.073187,
     "end_time": "2021-04-27T00:07:11.399411",
     "exception": false,
     "start_time": "2021-04-27T00:07:09.326224",
     "status": "completed"
    },
    "tags": []
   },
   "outputs": [
    {
     "name": "stdout",
     "output_type": "stream",
     "text": [
      "Arabic alphabet:\n",
      "ي و ه ن م ل ك ق ف غ ع ظ ط ض ص ش س ز ر ذ د خ ح ج ث ت ب ا\n",
      "1 2 3 4 5 6 7 8 9 10 11 12 13 14 15 16 17 18 19 20 21 22 23 24 25 26 27 28\n",
      "\n",
      "Predicted index:  [3, 6, 28, 6, 2, 17, 14, 21, 20, 15]\n",
      "\n",
      "Real index:  [3, 6, 28, 6, 2, 17, 14, 21, 20, 15]\n"
     ]
    },
    {
     "data": {
      "image/png": "[encoded data removed]",
      "text/plain": [
       "<Figure size 432x288 with 1 Axes>"
      ]
     },
     "metadata": {
      "needs_background": "light"
     },
     "output_type": "display_data"
    },
    {
     "data": {
      "image/png": "[encoded data removed]",
      "text/plain": [
       "<Figure size 432x288 with 1 Axes>"
      ]
     },
     "metadata": {
      "needs_background": "light"
     },
     "output_type": "display_data"
    },
    {
     "data": {
      "image/png": "[encoded data removed]",
      "text/plain": [
       "<Figure size 432x288 with 1 Axes>"
      ]
     },
     "metadata": {
      "needs_background": "light"
     },
     "output_type": "display_data"
    },
    {
     "data": {
      "image/png": "[encoded data removed]",
      "text/plain": [
       "<Figure size 432x288 with 1 Axes>"
      ]
     },
     "metadata": {
      "needs_background": "light"
     },
     "output_type": "display_data"
    },
    {
     "data": {
      "image/png": "[encoded data removed]",
      "text/plain": [
       "<Figure size 432x288 with 1 Axes>"
      ]
     },
     "metadata": {
      "needs_background": "light"
     },
     "output_type": "display_data"
    },
    {
     "data": {
      "image/png": "[encoded data removed]",
      "text/plain": [
       "<Figure size 432x288 with 1 Axes>"
      ]
     },
     "metadata": {
      "needs_background": "light"
     },
     "output_type": "display_data"
    },
    {
     "data": {
      "image/png": "[encoded data removed]",
      "text/plain": [
       "<Figure size 432x288 with 1 Axes>"
      ]
     },
     "metadata": {
      "needs_background": "light"
     },
     "output_type": "display_data"
    },
    {
     "data": {
      "image/png": "[encoded data removed]",
      "text/plain": [
       "<Figure size 432x288 with 1 Axes>"
      ]
     },
     "metadata": {
      "needs_background": "light"
     },
     "output_type": "display_data"
    },
    {
     "data": {
      "image/png": "[encoded data removed]",
      "text/plain": [
       "<Figure size 432x288 with 1 Axes>"
      ]
     },
     "metadata": {
      "needs_background": "light"
     },
     "output_type": "display_data"
    },
    {
     "data": {
      "image/png": "[encoded data removed]",
      "text/plain": [
       "<Figure size 432x288 with 1 Axes>"
      ]
     },
     "metadata": {
      "needs_background": "light"
     },
     "output_type": "display_data"
    }
   ],
   "source": [
    "''' prediction '''\n",
    "\n",
    "''' shuffling of images and labels '''\n",
    "X_test, y_test = shuffle(X_test, y_test, random_state=30)\n",
    "\n",
    "''' taking only first 10 images '''\n",
    "y_test = y_test[:10]\n",
    "X_test = X_test[:10]\n",
    "\n",
    "''' Print the arabic alphabet'''\n",
    "print('Arabic alphabet:')\n",
    "print(\"ي و ه ن م ل ك ق ف غ ع ظ ط ض ص ش س ز ر ذ د خ ح ج ث ت ب ا\\n1 2 3 4 5 6 7 8 9 10 11 12 13 14 15 16 17 18 19 20 21 22 23 24 25 26 27 28\")\n",
    "print()\n",
    "\n",
    "'''Predict on the test data '''\n",
    "pred = model.predict(X_test)\n",
    "\n",
    "''' creating dataframe'''\n",
    "pred_df = pd.DataFrame(pred)\n",
    "\n",
    "''' Get the index of the max probability from the output Data frame'''\n",
    "pred_idx = list(pred_df.idxmax(axis=1))\n",
    "\n",
    "'''Print the predicted index'''\n",
    "print(\"Predicted index: \", pred_idx)\n",
    "print()\n",
    "\n",
    "''' creating data frame for test data '''\n",
    "y_test = pd.DataFrame(y_test)\n",
    "actual_idx = list(y_test.idxmax(axis=1))\n",
    "\n",
    "'''Print the real index'''\n",
    "print(\"Real index: \", actual_idx)\n",
    "\n",
    "''' plotting '''\n",
    "for i in range(len(X_test)):\n",
    "    actual = actual_idx[i]\n",
    "    pred = pred_idx[i]\n",
    "    plt.title(f'Real: {actual} predicted: {pred}')\n",
    "    img = X_test[i]\n",
    "    ''' rotating images '''\n",
    "    img = cv.rotate(img, cv.ROTATE_90_CLOCKWISE)\n",
    "    plt.imshow(img,cmap='gray')\n",
    "    plt.show()"
   ]
  }
 ],
 "metadata": {
  "kernelspec": {
   "display_name": "Python 3",
   "language": "python",
   "name": "python3"
  },
  "language_info": {
   "codemirror_mode": {
    "name": "ipython",
    "version": 3
   },
   "file_extension": ".py",
   "mimetype": "text/x-python",
   "name": "python",
   "nbconvert_exporter": "python",
   "pygments_lexer": "ipython3",
   "version": "3.8.5"
  },
  "papermill": {
   "default_parameters": {},
   "duration": 93.924127,
   "end_time": "2021-04-27T00:07:13.456282",
   "environment_variables": {},
   "exception": null,
   "input_path": "__notebook__.ipynb",
   "output_path": "__notebook__.ipynb",
   "parameters": {},
   "start_time": "2021-04-27T00:05:39.532155",
   "version": "2.3.3"
  }
 },
 "nbformat": 4,
 "nbformat_minor": 5
}
