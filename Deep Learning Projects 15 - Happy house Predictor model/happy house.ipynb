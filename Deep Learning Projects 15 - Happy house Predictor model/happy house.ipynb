{
 "cells": [
  {
   "cell_type": "code",
   "execution_count": 1,
   "metadata": {
    "_cell_guid": "b1076dfc-b9ad-4769-8c92-a6c4dae69d19",
    "_uuid": "8f2839f25d086af736a60e9eeb907d3b93b6e0e5",
    "execution": {
     "iopub.execute_input": "2020-12-31T20:10:47.569961Z",
     "iopub.status.busy": "2020-12-31T20:10:47.568971Z",
     "iopub.status.idle": "2020-12-31T20:10:47.585469Z",
     "shell.execute_reply": "2020-12-31T20:10:47.584955Z"
    },
    "papermill": {
     "duration": 0.031303,
     "end_time": "2020-12-31T20:10:47.585634",
     "exception": false,
     "start_time": "2020-12-31T20:10:47.554331",
     "status": "completed"
    },
    "tags": []
   },
   "outputs": [
    {
     "name": "stdout",
     "output_type": "stream",
     "text": [
      "/kaggle/input/happy-house-dataset/train_happy.h5\n",
      "/kaggle/input/happy-house-dataset/test_happy.h5\n"
     ]
    }
   ],
   "source": [
    "import os\n",
    "import numpy as np \n",
    "import pandas as pd \n",
    "import keras.backend as K\n",
    "K.set_image_data_format('channels_last')\n",
    "import matplotlib.pyplot as plt\n",
    "%matplotlib inline\n",
    "\n",
    "import h5py\n",
    "from tensorflow import keras\n",
    "from keras.models import Sequential\n",
    "from keras.layers import Input, Dense, Activation, ZeroPadding2D, BatchNormalization, Flatten, Conv2D\n",
    "from keras.layers import AveragePooling2D, MaxPooling2D, Dropout, GlobalMaxPooling2D, GlobalAveragePooling2D\n",
    "from keras.models import Model\n",
    "from keras import regularizers, optimizers\n",
    "from keras.preprocessing import image\n",
    "from keras.applications.imagenet_utils import preprocess_input\n",
    "from IPython.display import SVG\n",
    "from keras.utils import plot_model\n",
    "\n",
    "for dirname, _, filenames in os.walk('/kaggle/input'):\n",
    "    for filename in filenames:\n",
    "        print(os.path.join(dirname, filename))"
   ]
  },
  {
   "cell_type": "code",
   "execution_count": 3,
   "metadata": {
    "execution": {
     "iopub.execute_input": "2020-12-31T20:10:54.355982Z",
     "iopub.status.busy": "2020-12-31T20:10:54.355324Z",
     "iopub.status.idle": "2020-12-31T20:10:54.383992Z",
     "shell.execute_reply": "2020-12-31T20:10:54.384693Z"
    },
    "papermill": {
     "duration": 0.042038,
     "end_time": "2020-12-31T20:10:54.384857",
     "exception": false,
     "start_time": "2020-12-31T20:10:54.342819",
     "status": "completed"
    },
    "tags": []
   },
   "outputs": [
    {
     "name": "stderr",
     "output_type": "stream",
     "text": [
      "/opt/conda/lib/python3.7/site-packages/ipykernel_launcher.py:1: H5pyDeprecationWarning: The default file mode will change to 'r' (read-only) in h5py 3.0. To suppress this warning, pass the mode you need to h5py.File(), or set the global default h5.get_config().default_file_mode, or set the environment variable H5PY_DEFAULT_READONLY=1. Available modes are: 'r', 'r+', 'w', 'w-'/'x', 'a'. See the docs for details.\n",
      "  \"\"\"Entry point for launching an IPython kernel.\n",
      "/opt/conda/lib/python3.7/site-packages/ipykernel_launcher.py:2: H5pyDeprecationWarning: The default file mode will change to 'r' (read-only) in h5py 3.0. To suppress this warning, pass the mode you need to h5py.File(), or set the global default h5.get_config().default_file_mode, or set the environment variable H5PY_DEFAULT_READONLY=1. Available modes are: 'r', 'r+', 'w', 'w-'/'x', 'a'. See the docs for details.\n",
      "  \n"
     ]
    }
   ],
   "source": [
    "''' train and test path '''\n",
    "test_path = h5py.File(\"../input/happy-house-dataset/test_happy.h5\")\n",
    "train_path = h5py.File(\"../input/happy-house-dataset/train_happy.h5\")"
   ]
  },
  {
   "cell_type": "code",
   "execution_count": 4,
   "metadata": {
    "execution": {
     "iopub.execute_input": "2020-12-31T20:10:54.663095Z",
     "iopub.status.busy": "2020-12-31T20:10:54.661792Z",
     "iopub.status.idle": "2020-12-31T20:10:54.710842Z",
     "shell.execute_reply": "2020-12-31T20:10:54.710158Z"
    },
    "papermill": {
     "duration": 0.296373,
     "end_time": "2020-12-31T20:10:54.710979",
     "exception": false,
     "start_time": "2020-12-31T20:10:54.414606",
     "status": "completed"
    },
    "tags": []
   },
   "outputs": [
    {
     "name": "stdout",
     "output_type": "stream",
     "text": [
      "(600, 64, 64, 3)\n",
      "(600,)\n",
      "(150, 64, 64, 3)\n",
      "(150,)\n"
     ]
    }
   ],
   "source": [
    "''' X_train, X_test, y_train, y_test '''\n",
    "\n",
    "X_train = np.array(train_path['train_set_x'])\n",
    "y_train = np.array(train_path['train_set_y'])\n",
    "X_test = np.array(test_path['test_set_x'])\n",
    "y_test = np.array(test_path['test_set_y'])\n",
    "\n",
    "''' Checking shape of X_train and X_test'''\n",
    "print(X_train.shape)\n",
    "print(y_train.shape)\n",
    "print(X_test.shape)\n",
    "print(y_train.shape)"
   ]
  },
  {
   "cell_type": "code",
   "execution_count": 5,
   "metadata": {
    "execution": {
     "iopub.execute_input": "2020-12-31T20:10:54.759489Z",
     "iopub.status.busy": "2020-12-31T20:10:54.758390Z",
     "iopub.status.idle": "2020-12-31T20:10:54.800401Z",
     "shell.execute_reply": "2020-12-31T20:10:54.799854Z"
    },
    "papermill": {
     "duration": 0.058271,
     "end_time": "2020-12-31T20:10:54.800526",
     "exception": false,
     "start_time": "2020-12-31T20:10:54.742255",
     "status": "completed"
    },
    "tags": []
   },
   "outputs": [],
   "source": [
    "''' normalizing images '''\n",
    "X_train = X_train / 255\n",
    "\n",
    "X_test = X_test/255"
   ]
  },
  {
   "cell_type": "code",
   "execution_count": 6,
   "metadata": {
    "execution": {
     "iopub.execute_input": "2020-12-31T20:10:54.848836Z",
     "iopub.status.busy": "2020-12-31T20:10:54.848178Z",
     "iopub.status.idle": "2020-12-31T20:10:54.853906Z",
     "shell.execute_reply": "2020-12-31T20:10:54.853283Z"
    },
    "papermill": {
     "duration": 0.022303,
     "end_time": "2020-12-31T20:10:54.854016",
     "exception": false,
     "start_time": "2020-12-31T20:10:54.831713",
     "status": "completed"
    },
    "tags": []
   },
   "outputs": [
    {
     "data": {
      "text/plain": [
       "(600, 1)"
      ]
     },
     "execution_count": 6,
     "metadata": {},
     "output_type": "execute_result"
    }
   ],
   "source": [
    "''' reshapig '''\n",
    "y_train = y_train.reshape((600,1))\n",
    "y_test = y_test.reshape((150,1))\n",
    "\n",
    "''' checking shape of y_train '''\n",
    "y_train.shape"
   ]
  },
  {
   "cell_type": "code",
   "execution_count": 7,
   "metadata": {
    "execution": {
     "iopub.execute_input": "2020-12-31T20:10:54.882542Z",
     "iopub.status.busy": "2020-12-31T20:10:54.881851Z",
     "iopub.status.idle": "2020-12-31T20:10:55.084339Z",
     "shell.execute_reply": "2020-12-31T20:10:55.083824Z"
    },
    "papermill": {
     "duration": 0.219573,
     "end_time": "2020-12-31T20:10:55.084453",
     "exception": false,
     "start_time": "2020-12-31T20:10:54.864880",
     "status": "completed"
    },
    "tags": []
   },
   "outputs": [
    {
     "data": {
      "text/plain": [
       "<matplotlib.image.AxesImage at 0x7feadd300e50>"
      ]
     },
     "execution_count": 7,
     "metadata": {},
     "output_type": "execute_result"
    },
    {
     "data": {
      "image/png": "[encoded data removed]",
      "text/plain": [
       "<Figure size 432x288 with 1 Axes>"
      ]
     },
     "metadata": {
      "needs_background": "light"
     },
     "output_type": "display_data"
    }
   ],
   "source": [
    "''' plotting an image '''\n",
    "plt.imshow(X_train[0])"
   ]
  },
  {
   "cell_type": "code",
   "execution_count": 8,
   "metadata": {
    "execution": {
     "iopub.execute_input": "2020-12-31T20:10:55.143742Z",
     "iopub.status.busy": "2020-12-31T20:10:55.143101Z",
     "iopub.status.idle": "2020-12-31T20:10:55.146183Z",
     "shell.execute_reply": "2020-12-31T20:10:55.145448Z"
    },
    "papermill": {
     "duration": 0.026319,
     "end_time": "2020-12-31T20:10:55.146296",
     "exception": false,
     "start_time": "2020-12-31T20:10:55.119977",
     "status": "completed"
    },
    "tags": []
   },
   "outputs": [],
   "source": [
    "\"\"\" Model \"\"\"\n",
    "\n",
    "def cnn_model(input_shape):\n",
    "  \n",
    "    ''' input layers'''\n",
    "    inp = Input(input_shape)\n",
    "    \n",
    "    ''' Zero Padding '''\n",
    "    out = ZeroPadding2D((3, 3))(inp)\n",
    "    \n",
    "    ''' Convolutional Layer '''\n",
    "    out = Conv2D(32, (7, 7), strides = (1, 1), name = 'conv0')(out)\n",
    "    \n",
    "    ''' Bathc Norm '''\n",
    "    out = BatchNormalization(axis = 3, name = 'bn0')(out)\n",
    "    \n",
    "    ''' Activation '''\n",
    "    out = Activation('relu')(out)\n",
    "\n",
    "    ''' MaxPooling  '''\n",
    "    out = MaxPooling2D((2, 2), name='max_pool')(out)\n",
    "\n",
    "    ''' Flatterning the output '''\n",
    "    out = Flatten()(out)\n",
    "    \n",
    "    ''' Classification Layer '''\n",
    "    out= Dense(1, activation='sigmoid', name='fc')(out)\n",
    "\n",
    "    ''' Model '''\n",
    "    model = Model(inputs=X_input, outputs=out, name='HappyModel')\n",
    "\n",
    "    return model"
   ]
  },
  {
   "cell_type": "code",
   "execution_count": 9,
   "metadata": {
    "execution": {
     "iopub.execute_input": "2020-12-31T20:10:55.175839Z",
     "iopub.status.busy": "2020-12-31T20:10:55.175177Z",
     "iopub.status.idle": "2020-12-31T20:10:55.363281Z",
     "shell.execute_reply": "2020-12-31T20:10:55.364058Z"
    },
    "papermill": {
     "duration": 0.205605,
     "end_time": "2020-12-31T20:10:55.364291",
     "exception": false,
     "start_time": "2020-12-31T20:10:55.158686",
     "status": "completed"
    },
    "tags": []
   },
   "outputs": [
    {
     "name": "stdout",
     "output_type": "stream",
     "text": [
      "Model: \"HappyModel\"\n",
      "_________________________________________________________________\n",
      "Layer (type)                 Output Shape              Param #   \n",
      "=================================================================\n",
      "input_1 (InputLayer)         [(None, 64, 64, 3)]       0         \n",
      "_________________________________________________________________\n",
      "zero_padding2d (ZeroPadding2 (None, 70, 70, 3)         0         \n",
      "_________________________________________________________________\n",
      "conv0 (Conv2D)               (None, 64, 64, 32)        4736      \n",
      "_________________________________________________________________\n",
      "bn0 (BatchNormalization)     (None, 64, 64, 32)        128       \n",
      "_________________________________________________________________\n",
      "activation (Activation)      (None, 64, 64, 32)        0         \n",
      "_________________________________________________________________\n",
      "max_pool (MaxPooling2D)      (None, 32, 32, 32)        0         \n",
      "_________________________________________________________________\n",
      "flatten (Flatten)            (None, 32768)             0         \n",
      "_________________________________________________________________\n",
      "fc (Dense)                   (None, 1)                 32769     \n",
      "=================================================================\n",
      "Total params: 37,633\n",
      "Trainable params: 37,569\n",
      "Non-trainable params: 64\n",
      "_________________________________________________________________\n"
     ]
    }
   ],
   "source": [
    "model = cnn_model(64)\n",
    "\n",
    "''' lets see how model looks like '''\n",
    "model.summary()"
   ]
  },
  {
   "cell_type": "code",
   "execution_count": 10,
   "metadata": {
    "execution": {
     "iopub.execute_input": "2020-12-31T20:10:55.401218Z",
     "iopub.status.busy": "2020-12-31T20:10:55.398734Z",
     "iopub.status.idle": "2020-12-31T20:10:55.406413Z",
     "shell.execute_reply": "2020-12-31T20:10:55.406966Z"
    },
    "papermill": {
     "duration": 0.029617,
     "end_time": "2020-12-31T20:10:55.407109",
     "exception": false,
     "start_time": "2020-12-31T20:10:55.377492",
     "status": "completed"
    },
    "tags": []
   },
   "outputs": [],
   "source": [
    "''' compile the model '''\n",
    "model.compile(loss='binary_crossentropy', optimizer=\"Adam\", metrics=['accuracy'])"
   ]
  },
  {
   "cell_type": "code",
   "execution_count": 11,
   "metadata": {
    "execution": {
     "iopub.execute_input": "2020-12-31T20:10:55.435439Z",
     "iopub.status.busy": "2020-12-31T20:10:55.434848Z",
     "iopub.status.idle": "2020-12-31T20:12:50.641088Z",
     "shell.execute_reply": "2020-12-31T20:12:50.640297Z"
    },
    "papermill": {
     "duration": 115.221335,
     "end_time": "2020-12-31T20:12:50.641227",
     "exception": false,
     "start_time": "2020-12-31T20:10:55.419892",
     "status": "completed"
    },
    "tags": []
   },
   "outputs": [
    {
     "name": "stdout",
     "output_type": "stream",
     "text": [
      "Epoch 1/50\n",
      "38/38 [==============================] - 2s 64ms/step - loss: 1.0883 - accuracy: 0.6883 - val_loss: 0.6899 - val_accuracy: 0.6133\n",
      "Epoch 2/50\n",
      "38/38 [==============================] - 2s 61ms/step - loss: 0.3343 - accuracy: 0.8867 - val_loss: 1.0473 - val_accuracy: 0.5733\n",
      "Epoch 3/50\n",
      "38/38 [==============================] - 2s 61ms/step - loss: 0.1889 - accuracy: 0.9350 - val_loss: 0.5129 - val_accuracy: 0.6933\n",
      "Epoch 4/50\n",
      "38/38 [==============================] - 3s 68ms/step - loss: 0.1209 - accuracy: 0.9667 - val_loss: 0.3538 - val_accuracy: 0.8400\n",
      "Epoch 5/50\n",
      "38/38 [==============================] - 2s 59ms/step - loss: 0.1063 - accuracy: 0.9683 - val_loss: 0.2525 - val_accuracy: 0.9200\n",
      "Epoch 6/50\n",
      "38/38 [==============================] - 2s 57ms/step - loss: 0.0973 - accuracy: 0.9717 - val_loss: 0.2190 - val_accuracy: 0.9600\n",
      "Epoch 7/50\n",
      "38/38 [==============================] - 2s 57ms/step - loss: 0.0830 - accuracy: 0.9733 - val_loss: 0.1887 - val_accuracy: 0.9600\n",
      "Epoch 8/50\n",
      "38/38 [==============================] - 2s 59ms/step - loss: 0.0836 - accuracy: 0.9800 - val_loss: 0.1958 - val_accuracy: 0.9133\n",
      "Epoch 9/50\n",
      "38/38 [==============================] - 2s 58ms/step - loss: 0.0870 - accuracy: 0.9717 - val_loss: 0.1205 - val_accuracy: 0.9533\n",
      "Epoch 10/50\n",
      "38/38 [==============================] - 2s 57ms/step - loss: 0.0878 - accuracy: 0.9683 - val_loss: 0.1592 - val_accuracy: 0.9267\n",
      "Epoch 11/50\n",
      "38/38 [==============================] - 2s 57ms/step - loss: 0.0899 - accuracy: 0.9733 - val_loss: 0.2499 - val_accuracy: 0.8933\n",
      "Epoch 12/50\n",
      "38/38 [==============================] - 2s 57ms/step - loss: 0.0778 - accuracy: 0.9783 - val_loss: 0.4443 - val_accuracy: 0.8333\n",
      "Epoch 13/50\n",
      "38/38 [==============================] - 2s 59ms/step - loss: 0.0867 - accuracy: 0.9650 - val_loss: 0.1250 - val_accuracy: 0.9467\n",
      "Epoch 14/50\n",
      "38/38 [==============================] - 2s 56ms/step - loss: 0.0726 - accuracy: 0.9750 - val_loss: 0.2215 - val_accuracy: 0.9333\n",
      "Epoch 15/50\n",
      "38/38 [==============================] - 2s 57ms/step - loss: 0.0850 - accuracy: 0.9700 - val_loss: 0.1335 - val_accuracy: 0.9533\n",
      "Epoch 16/50\n",
      "38/38 [==============================] - 2s 56ms/step - loss: 0.0828 - accuracy: 0.9700 - val_loss: 0.1288 - val_accuracy: 0.9600\n",
      "Epoch 17/50\n",
      "38/38 [==============================] - 2s 57ms/step - loss: 0.1506 - accuracy: 0.9517 - val_loss: 4.9091 - val_accuracy: 0.5600\n",
      "Epoch 18/50\n",
      "38/38 [==============================] - 2s 64ms/step - loss: 0.1185 - accuracy: 0.9583 - val_loss: 2.3418 - val_accuracy: 0.6867\n",
      "Epoch 19/50\n",
      "38/38 [==============================] - 2s 57ms/step - loss: 0.1150 - accuracy: 0.9617 - val_loss: 0.1961 - val_accuracy: 0.9333\n",
      "Epoch 20/50\n",
      "38/38 [==============================] - 2s 57ms/step - loss: 0.1092 - accuracy: 0.9600 - val_loss: 0.1506 - val_accuracy: 0.9733\n",
      "Epoch 21/50\n",
      "38/38 [==============================] - 2s 56ms/step - loss: 0.0684 - accuracy: 0.9817 - val_loss: 0.4163 - val_accuracy: 0.8933\n",
      "Epoch 22/50\n",
      "38/38 [==============================] - 2s 58ms/step - loss: 0.0905 - accuracy: 0.9783 - val_loss: 0.4334 - val_accuracy: 0.8600\n",
      "Epoch 23/50\n",
      "38/38 [==============================] - 2s 57ms/step - loss: 0.0965 - accuracy: 0.9733 - val_loss: 0.2660 - val_accuracy: 0.8867\n",
      "Epoch 24/50\n",
      "38/38 [==============================] - 2s 56ms/step - loss: 0.0827 - accuracy: 0.9817 - val_loss: 0.1490 - val_accuracy: 0.9400\n",
      "Epoch 25/50\n",
      "38/38 [==============================] - 2s 57ms/step - loss: 0.0972 - accuracy: 0.9717 - val_loss: 0.1546 - val_accuracy: 0.9400\n",
      "Epoch 26/50\n",
      "38/38 [==============================] - 2s 66ms/step - loss: 0.0871 - accuracy: 0.9767 - val_loss: 1.4334 - val_accuracy: 0.7000\n",
      "Epoch 27/50\n",
      "38/38 [==============================] - 2s 59ms/step - loss: 0.0706 - accuracy: 0.9750 - val_loss: 2.3297 - val_accuracy: 0.6067\n",
      "Epoch 28/50\n",
      "38/38 [==============================] - 2s 59ms/step - loss: 0.0977 - accuracy: 0.9717 - val_loss: 0.1962 - val_accuracy: 0.9333\n",
      "Epoch 29/50\n",
      "38/38 [==============================] - 2s 58ms/step - loss: 0.1210 - accuracy: 0.9733 - val_loss: 0.1700 - val_accuracy: 0.9333\n",
      "Epoch 30/50\n",
      "38/38 [==============================] - 2s 58ms/step - loss: 0.0914 - accuracy: 0.9800 - val_loss: 0.1045 - val_accuracy: 0.9533\n",
      "Epoch 31/50\n",
      "38/38 [==============================] - 2s 56ms/step - loss: 0.0806 - accuracy: 0.9800 - val_loss: 0.1236 - val_accuracy: 0.9667\n",
      "Epoch 32/50\n",
      "38/38 [==============================] - 2s 64ms/step - loss: 0.0650 - accuracy: 0.9833 - val_loss: 0.1943 - val_accuracy: 0.9200\n",
      "Epoch 33/50\n",
      "38/38 [==============================] - 2s 58ms/step - loss: 0.0396 - accuracy: 0.9883 - val_loss: 0.1920 - val_accuracy: 0.9333\n",
      "Epoch 34/50\n",
      "38/38 [==============================] - 2s 58ms/step - loss: 0.0280 - accuracy: 0.9950 - val_loss: 0.1194 - val_accuracy: 0.9400\n",
      "Epoch 35/50\n",
      "38/38 [==============================] - 2s 56ms/step - loss: 0.0123 - accuracy: 0.9950 - val_loss: 0.0970 - val_accuracy: 0.9533\n",
      "Epoch 36/50\n",
      "38/38 [==============================] - 2s 57ms/step - loss: 0.0046 - accuracy: 0.9983 - val_loss: 0.1548 - val_accuracy: 0.9467\n",
      "Epoch 37/50\n",
      "38/38 [==============================] - 2s 59ms/step - loss: 0.0120 - accuracy: 0.9933 - val_loss: 0.0960 - val_accuracy: 0.9600\n",
      "Epoch 38/50\n",
      "38/38 [==============================] - 2s 57ms/step - loss: 0.0189 - accuracy: 0.9950 - val_loss: 0.5261 - val_accuracy: 0.8667\n",
      "Epoch 39/50\n",
      "38/38 [==============================] - 2s 58ms/step - loss: 0.0418 - accuracy: 0.9850 - val_loss: 0.2723 - val_accuracy: 0.9200\n",
      "Epoch 40/50\n",
      "38/38 [==============================] - 2s 61ms/step - loss: 0.0217 - accuracy: 0.9917 - val_loss: 0.3062 - val_accuracy: 0.9133\n",
      "Epoch 41/50\n",
      "38/38 [==============================] - 2s 57ms/step - loss: 0.0361 - accuracy: 0.9867 - val_loss: 0.1129 - val_accuracy: 0.9467\n",
      "Epoch 42/50\n",
      "38/38 [==============================] - 2s 57ms/step - loss: 0.0524 - accuracy: 0.9850 - val_loss: 0.2828 - val_accuracy: 0.8800\n",
      "Epoch 43/50\n",
      "38/38 [==============================] - 2s 57ms/step - loss: 0.0385 - accuracy: 0.9883 - val_loss: 0.1316 - val_accuracy: 0.9467\n",
      "Epoch 44/50\n",
      "38/38 [==============================] - 2s 57ms/step - loss: 0.0246 - accuracy: 0.9933 - val_loss: 0.1295 - val_accuracy: 0.9533\n",
      "Epoch 45/50\n",
      "38/38 [==============================] - 2s 57ms/step - loss: 0.0554 - accuracy: 0.9817 - val_loss: 0.9547 - val_accuracy: 0.8667\n",
      "Epoch 46/50\n",
      "38/38 [==============================] - 2s 62ms/step - loss: 0.1448 - accuracy: 0.9600 - val_loss: 0.5193 - val_accuracy: 0.8600\n",
      "Epoch 47/50\n",
      "38/38 [==============================] - 2s 58ms/step - loss: 0.0860 - accuracy: 0.9767 - val_loss: 0.1318 - val_accuracy: 0.9467\n",
      "Epoch 48/50\n",
      "38/38 [==============================] - 2s 58ms/step - loss: 0.0668 - accuracy: 0.9833 - val_loss: 0.8055 - val_accuracy: 0.8267\n",
      "Epoch 49/50\n",
      "38/38 [==============================] - 2s 57ms/step - loss: 0.0504 - accuracy: 0.9800 - val_loss: 0.4606 - val_accuracy: 0.8600\n",
      "Epoch 50/50\n",
      "38/38 [==============================] - 2s 58ms/step - loss: 0.0459 - accuracy: 0.9850 - val_loss: 0.7435 - val_accuracy: 0.8400\n"
     ]
    },
    {
     "data": {
      "text/plain": [
       "<tensorflow.python.keras.callbacks.History at 0x7feadc0cb5d0>"
      ]
     },
     "execution_count": 11,
     "metadata": {},
     "output_type": "execute_result"
    }
   ],
   "source": [
    "''' training '''\n",
    "model.fit(X_train, y_train, batch_size=16, epochs=50, validation_data=(X_test, y_test), shuffle=False)"
   ]
  },
  {
   "cell_type": "code",
   "execution_count": 12,
   "metadata": {
    "execution": {
     "iopub.execute_input": "2020-12-31T20:12:52.618245Z",
     "iopub.status.busy": "2020-12-31T20:12:52.617593Z",
     "iopub.status.idle": "2020-12-31T20:12:52.798937Z",
     "shell.execute_reply": "2020-12-31T20:12:52.799377Z"
    },
    "papermill": {
     "duration": 0.702372,
     "end_time": "2020-12-31T20:12:52.799530",
     "exception": false,
     "start_time": "2020-12-31T20:12:52.097158",
     "status": "completed"
    },
    "tags": []
   },
   "outputs": [
    {
     "name": "stdout",
     "output_type": "stream",
     "text": [
      "5/5 [==============================] - 0s 19ms/step - loss: 0.7435 - accuracy: 0.8400\n",
      "Loss = 0.7435131669044495\n",
      "Test Accuracy = 0.8399999737739563\n"
     ]
    }
   ],
   "source": [
    "''' evaluating the model'''\n",
    "pred = model.evaluate(test_x,test_y)\n",
    "\n",
    "print (\"Loss = \" + str(pred[0]))\n",
    "print (\"Test Accuracy = \" + str(pred[1]))"
   ]
  },
  {
   "cell_type": "code",
   "execution_count": null,
   "metadata": {
    "papermill": {
     "duration": 0.541361,
     "end_time": "2020-12-31T20:12:53.828168",
     "exception": false,
     "start_time": "2020-12-31T20:12:53.286807",
     "status": "completed"
    },
    "tags": []
   },
   "outputs": [],
   "source": []
  }
 ],
 "metadata": {
  "kernelspec": {
   "display_name": "Python 3",
   "language": "python",
   "name": "python3"
  },
  "language_info": {
   "codemirror_mode": {
    "name": "ipython",
    "version": 3
   },
   "file_extension": ".py",
   "mimetype": "text/x-python",
   "name": "python",
   "nbconvert_exporter": "python",
   "pygments_lexer": "ipython3",
   "version": "3.8.5"
  },
  "papermill": {
   "duration": 131.841627,
   "end_time": "2020-12-31T20:12:54.422783",
   "environment_variables": {},
   "exception": null,
   "input_path": "__notebook__.ipynb",
   "output_path": "__notebook__.ipynb",
   "parameters": {},
   "start_time": "2020-12-31T20:10:42.581156",
   "version": "2.1.0"
  }
 },
 "nbformat": 4,
 "nbformat_minor": 4
}
