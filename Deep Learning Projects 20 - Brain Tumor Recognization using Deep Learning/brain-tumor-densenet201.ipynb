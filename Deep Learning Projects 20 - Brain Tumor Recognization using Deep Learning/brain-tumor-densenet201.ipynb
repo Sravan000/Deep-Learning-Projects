{
 "cells": [
  {
   "cell_type": "code",
   "execution_count": 1,
   "metadata": {
    "execution": {
     "iopub.execute_input": "2021-04-24T14:44:43.046694Z",
     "iopub.status.busy": "2021-04-24T14:44:43.044685Z",
     "iopub.status.idle": "2021-04-24T14:44:50.161629Z",
     "shell.execute_reply": "2021-04-24T14:44:50.160929Z"
    },
    "papermill": {
     "duration": 7.141906,
     "end_time": "2021-04-24T14:44:50.161813",
     "exception": false,
     "start_time": "2021-04-24T14:44:43.019907",
     "status": "completed"
    },
    "tags": []
   },
   "outputs": [],
   "source": [
    "import numpy as np\n",
    "import pandas as pd\n",
    "import os\n",
    "\n",
    "import matplotlib.pyplot as plt\n",
    "import tensorflow as tf\n",
    "from tensorflow.keras.utils import to_categorical\n",
    "from tensorflow.keras.preprocessing.image import load_img, img_to_array\n",
    "from tensorflow.python.keras.preprocessing.image import ImageDataGenerator\n",
    "from sklearn.metrics import classification_report, log_loss, accuracy_score\n",
    "from sklearn.model_selection import train_test_split"
   ]
  },
  {
   "cell_type": "code",
   "execution_count": 2,
   "metadata": {
    "execution": {
     "iopub.execute_input": "2021-04-24T14:44:50.203435Z",
     "iopub.status.busy": "2021-04-24T14:44:50.202458Z",
     "iopub.status.idle": "2021-04-24T14:44:50.205540Z",
     "shell.execute_reply": "2021-04-24T14:44:50.206052Z"
    },
    "papermill": {
     "duration": 0.025628,
     "end_time": "2021-04-24T14:44:50.206210",
     "exception": false,
     "start_time": "2021-04-24T14:44:50.180582",
     "status": "completed"
    },
    "tags": []
   },
   "outputs": [],
   "source": [
    "''' train and test path '''\n",
    "train_path = '../input/brain-tumor-classification-mri/Training'\n",
    "test_path = '../input/brain-tumor-classification-mri/Testing'"
   ]
  },
  {
   "cell_type": "code",
   "execution_count": 3,
   "metadata": {
    "execution": {
     "iopub.execute_input": "2021-04-24T14:44:50.247232Z",
     "iopub.status.busy": "2021-04-24T14:44:50.246531Z",
     "iopub.status.idle": "2021-04-24T14:44:50.272316Z",
     "shell.execute_reply": "2021-04-24T14:44:50.271767Z"
    },
    "papermill": {
     "duration": 0.048108,
     "end_time": "2021-04-24T14:44:50.272467",
     "exception": false,
     "start_time": "2021-04-24T14:44:50.224359",
     "status": "completed"
    },
    "tags": []
   },
   "outputs": [
    {
     "name": "stdout",
     "output_type": "stream",
     "text": [
      "['no_tumor', 'pituitary_tumor', 'meningioma_tumor', 'glioma_tumor']\n"
     ]
    }
   ],
   "source": [
    "File=[]\n",
    "for f in os.listdir(train_path):\n",
    "    File += [f]\n",
    "\n",
    "'''  total number of classes '''\n",
    "print(File)"
   ]
  },
  {
   "cell_type": "code",
   "execution_count": 4,
   "metadata": {
    "_cell_guid": "79c7e3d0-c299-4dcb-8224-4455121ee9b0",
    "_uuid": "d629ff2d2480ee46fbb7e2d37f6b5fab8052498a",
    "execution": {
     "iopub.execute_input": "2021-04-24T14:44:50.317231Z",
     "iopub.status.busy": "2021-04-24T14:44:50.316487Z",
     "iopub.status.idle": "2021-04-24T14:45:26.665160Z",
     "shell.execute_reply": "2021-04-24T14:45:26.664076Z"
    },
    "papermill": {
     "duration": 36.373786,
     "end_time": "2021-04-24T14:45:26.665329",
     "exception": false,
     "start_time": "2021-04-24T14:44:50.291543",
     "status": "completed"
    },
    "tags": []
   },
   "outputs": [],
   "source": [
    "''' reading images '''\n",
    "\n",
    "train_data = []\n",
    "\n",
    "''' label encoding '''\n",
    "mapping={'no_tumor':0, 'pituitary_tumor':1, 'meningioma_tumor':2, 'glioma_tumor':3}\n",
    "\n",
    "count=0\n",
    "\n",
    "for f in os.listdir(tarin_path):\n",
    "    ''' joining path '''\n",
    "    path = os.path.join(train_path, f)\n",
    "    for im in os.listdir(path):\n",
    "        ''' loading an image '''\n",
    "        img = load_img(os.path.join(path, im), grayscale=False, color_mode='rgb', target_size=(150,150))\n",
    "        ''' converting an image to array '''\n",
    "        img = img_to_array(img)\n",
    "        ''' scaling  '''\n",
    "        img = img / 255.0\n",
    "        ''' appending image to train_data '''\n",
    "        train_data.append([img, count])     \n",
    "    count=count+1"
   ]
  },
  {
   "cell_type": "code",
   "execution_count": 5,
   "metadata": {
    "execution": {
     "iopub.execute_input": "2021-04-24T14:45:26.713393Z",
     "iopub.status.busy": "2021-04-24T14:45:26.712646Z",
     "iopub.status.idle": "2021-04-24T14:45:30.976660Z",
     "shell.execute_reply": "2021-04-24T14:45:30.976079Z"
    },
    "papermill": {
     "duration": 4.290356,
     "end_time": "2021-04-24T14:45:30.976816",
     "exception": false,
     "start_time": "2021-04-24T14:45:26.686460",
     "status": "completed"
    },
    "tags": []
   },
   "outputs": [],
   "source": [
    "test_data = []\n",
    "\n",
    "''' label encoding '''\n",
    "mapping={'no_tumor':0, 'pituitary_tumor':1, 'meningioma_tumor':2, 'glioma_tumor':3}\n",
    "count=0\n",
    "\n",
    "for f in os.listdir(test_path):\n",
    "    ''' joining path '''\n",
    "    path=os.path.join(test_path, f)\n",
    "    for im in os.listdir(path):\n",
    "        ''' loading an image '''\n",
    "        img = load_img(os.path.join(path, im), grayscale=False, color_mode='rgb', target_size=(150,150))\n",
    "        ''' converting an image to array '''\n",
    "        img = img_to_array(img)\n",
    "        ''' scaling '''\n",
    "        img = img/255.0\n",
    "        ''' appending an image to test_data'''\n",
    "        test_data.append([img, count])         \n",
    "    count=count+1"
   ]
  },
  {
   "cell_type": "code",
   "execution_count": 6,
   "metadata": {
    "execution": {
     "iopub.execute_input": "2021-04-24T14:45:31.022857Z",
     "iopub.status.busy": "2021-04-24T14:45:31.021114Z",
     "iopub.status.idle": "2021-04-24T14:45:31.024864Z",
     "shell.execute_reply": "2021-04-24T14:45:31.024308Z"
    },
    "papermill": {
     "duration": 0.028548,
     "end_time": "2021-04-24T14:45:31.025016",
     "exception": false,
     "start_time": "2021-04-24T14:45:30.996468",
     "status": "completed"
    },
    "tags": []
   },
   "outputs": [],
   "source": [
    "train_images, train_labels = zip(*train_data)\n",
    "test_images, tese_labels = zip(*test_data)"
   ]
  },
  {
   "cell_type": "code",
   "execution_count": 7,
   "metadata": {
    "execution": {
     "iopub.execute_input": "2021-04-24T14:45:31.069506Z",
     "iopub.status.busy": "2021-04-24T14:45:31.068812Z",
     "iopub.status.idle": "2021-04-24T14:45:31.374592Z",
     "shell.execute_reply": "2021-04-24T14:45:31.375397Z"
    },
    "papermill": {
     "duration": 0.331078,
     "end_time": "2021-04-24T14:45:31.375671",
     "exception": false,
     "start_time": "2021-04-24T14:45:31.044593",
     "status": "completed"
    },
    "tags": []
   },
   "outputs": [
    {
     "name": "stdout",
     "output_type": "stream",
     "text": [
      "(2870, 150, 150, 3)\n",
      "(2870, 4)\n"
     ]
    }
   ],
   "source": [
    "''' converting labels into to_categorical '''\n",
    "train_labels = to_categorical(train_label)\n",
    "\n",
    "''' coverting train_images into numpy array '''\n",
    "train_images = np.array(train_images)\n",
    "\n",
    "''' converting train_labesl into numpy array '''\n",
    "train_labels = np.array(train_labels)\n",
    "\n",
    "''' shaep of train_images and train_labels '''\n",
    "print(train_images.shape)\n",
    "print(train_labels.shape)"
   ]
  },
  {
   "cell_type": "code",
   "execution_count": 8,
   "metadata": {
    "execution": {
     "iopub.execute_input": "2021-04-24T14:45:31.424124Z",
     "iopub.status.busy": "2021-04-24T14:45:31.422656Z",
     "iopub.status.idle": "2021-04-24T14:45:31.469494Z",
     "shell.execute_reply": "2021-04-24T14:45:31.468891Z"
    },
    "papermill": {
     "duration": 0.072959,
     "end_time": "2021-04-24T14:45:31.469644",
     "exception": false,
     "start_time": "2021-04-24T14:45:31.396685",
     "status": "completed"
    },
    "tags": []
   },
   "outputs": [
    {
     "name": "stdout",
     "output_type": "stream",
     "text": [
      "(394, 150, 150, 3)\n",
      "(394, 4)\n"
     ]
    }
   ],
   "source": [
    "''' converting labels into to_categorical '''\n",
    "test_labels = to_categorical(test_labels)\n",
    "\n",
    "''' coverting test_images into numpy array '''\n",
    "test_images = np.array(test_images)\n",
    "\n",
    "''' converting train_labesl into numpy array '''\n",
    "test_labels = np.array(test_labels)\n",
    "\n",
    "''' shaep of test_images and test_labels '''\n",
    "print(test_images.shape)\n",
    "print(test_labels.shape)"
   ]
  },
  {
   "cell_type": "code",
   "execution_count": 9,
   "metadata": {
    "execution": {
     "iopub.execute_input": "2021-04-24T14:45:31.515535Z",
     "iopub.status.busy": "2021-04-24T14:45:31.514841Z",
     "iopub.status.idle": "2021-04-24T14:45:31.520075Z",
     "shell.execute_reply": "2021-04-24T14:45:31.519518Z"
    },
    "papermill": {
     "duration": 0.029869,
     "end_time": "2021-04-24T14:45:31.520212",
     "exception": false,
     "start_time": "2021-04-24T14:45:31.490343",
     "status": "completed"
    },
    "tags": []
   },
   "outputs": [],
   "source": [
    "''' reshaping images '''\n",
    "train_images = train_images.reshape(-1,150,150,3)\n",
    "test_images = test_images.reshape(-1,150,150,3)"
   ]
  },
  {
   "cell_type": "code",
   "execution_count": 10,
   "metadata": {
    "execution": {
     "iopub.execute_input": "2021-04-24T14:45:31.568106Z",
     "iopub.status.busy": "2021-04-24T14:45:31.566708Z",
     "iopub.status.idle": "2021-04-24T14:45:31.855628Z",
     "shell.execute_reply": "2021-04-24T14:45:31.854960Z"
    },
    "papermill": {
     "duration": 0.315482,
     "end_time": "2021-04-24T14:45:31.855786",
     "exception": false,
     "start_time": "2021-04-24T14:45:31.540304",
     "status": "completed"
    },
    "tags": []
   },
   "outputs": [],
   "source": [
    "''' train test split '''\n",
    "X_train, X_test, y_train, y_test = train_test_split(train_images,train_lables, test_size=0.2,random_state=44)"
   ]
  },
  {
   "cell_type": "code",
   "execution_count": 11,
   "metadata": {
    "execution": {
     "iopub.execute_input": "2021-04-24T14:45:31.908874Z",
     "iopub.status.busy": "2021-04-24T14:45:31.906667Z",
     "iopub.status.idle": "2021-04-24T14:45:31.912195Z",
     "shell.execute_reply": "2021-04-24T14:45:31.911247Z"
    },
    "papermill": {
     "duration": 0.034546,
     "end_time": "2021-04-24T14:45:31.912405",
     "exception": false,
     "start_time": "2021-04-24T14:45:31.877859",
     "status": "completed"
    },
    "tags": []
   },
   "outputs": [
    {
     "name": "stdout",
     "output_type": "stream",
     "text": [
      "(2296, 150, 150, 3)\n",
      "(574, 150, 150, 3)\n",
      "(2296, 4)\n",
      "(574, 4)\n"
     ]
    }
   ],
   "source": [
    "''' shape of X_train, X_test, y_train, y_test '''\n",
    "print(X_train.shape)\n",
    "print(X_test.shape)\n",
    "print(y_train.shape)\n",
    "print(y_test.shape)"
   ]
  },
  {
   "cell_type": "code",
   "execution_count": 12,
   "metadata": {
    "execution": {
     "iopub.execute_input": "2021-04-24T14:45:31.961373Z",
     "iopub.status.busy": "2021-04-24T14:45:31.960533Z",
     "iopub.status.idle": "2021-04-24T14:45:31.965175Z",
     "shell.execute_reply": "2021-04-24T14:45:31.964615Z"
    },
    "papermill": {
     "duration": 0.030058,
     "end_time": "2021-04-24T14:45:31.965313",
     "exception": false,
     "start_time": "2021-04-24T14:45:31.935255",
     "status": "completed"
    },
    "tags": []
   },
   "outputs": [],
   "source": [
    "''' data Augmentation '''\n",
    "data_aug = ImageDataGenerator(horizontal_flip=True, vertical_flip=True, rotation_range=20, zoom_range=0.2,\n",
    "                    width_shift_range=0.2, height_shift_range=0.2, shear_range=0.1, fill_mode=\"nearest\")"
   ]
  },
  {
   "cell_type": "code",
   "execution_count": 13,
   "metadata": {
    "execution": {
     "iopub.execute_input": "2021-04-24T14:45:32.015680Z",
     "iopub.status.busy": "2021-04-24T14:45:32.014931Z",
     "iopub.status.idle": "2021-04-24T14:45:45.632465Z",
     "shell.execute_reply": "2021-04-24T14:45:45.631824Z"
    },
    "papermill": {
     "duration": 13.646104,
     "end_time": "2021-04-24T14:45:45.632622",
     "exception": false,
     "start_time": "2021-04-24T14:45:31.986518",
     "status": "completed"
    },
    "tags": []
   },
   "outputs": [
    {
     "name": "stdout",
     "output_type": "stream",
     "text": [
      "Downloading data from https://storage.googleapis.com/tensorflow/keras-applications/densenet/densenet201_weights_tf_dim_ordering_tf_kernels_notop.h5\n",
      "74842112/74836368 [==============================] - 4s 0us/step\n"
     ]
    }
   ],
   "source": [
    "''' DenseNet201 Model '''\n",
    "model1 = tf.keras.applications.DenseNet201(input_shape=(150,150,3),include_top=False,weights='imagenet',pooling='avg')\n",
    "\n",
    "''' freezing layers '''\n",
    "model1.trainable = False"
   ]
  },
  {
   "cell_type": "code",
   "execution_count": 14,
   "metadata": {
    "execution": {
     "iopub.execute_input": "2021-04-24T14:45:45.699693Z",
     "iopub.status.busy": "2021-04-24T14:45:45.698612Z",
     "iopub.status.idle": "2021-04-24T14:45:45.789515Z",
     "shell.execute_reply": "2021-04-24T14:45:45.788869Z"
    },
    "papermill": {
     "duration": 0.127232,
     "end_time": "2021-04-24T14:45:45.789669",
     "exception": false,
     "start_time": "2021-04-24T14:45:45.662437",
     "status": "completed"
    },
    "tags": []
   },
   "outputs": [],
   "source": [
    "inp = model1.input\n",
    "''' Hidden Layer '''\n",
    "x = tf.keras.layers.Dense(128, activation='relu')(model1.output)\n",
    "''' Classification Layer '''\n",
    "out = tf.keras.layers.Dense(4, activation='softmax')(x)\n",
    "\n",
    "''' Model '''\n",
    "model = tf.keras.Model(inputs=inp, outputs=out)\n",
    "\n",
    "''' compile the model '''\n",
    "model.compile(loss = 'categorical_crossentropy', optimizer='adam', metrics=['accuracy'])"
   ]
  },
  {
   "cell_type": "code",
   "execution_count": 15,
   "metadata": {
    "execution": {
     "iopub.execute_input": "2021-04-24T14:45:45.858934Z",
     "iopub.status.busy": "2021-04-24T14:45:45.858307Z",
     "iopub.status.idle": "2021-04-24T14:53:34.641740Z",
     "shell.execute_reply": "2021-04-24T14:53:34.642728Z"
    },
    "papermill": {
     "duration": 468.82374,
     "end_time": "2021-04-24T14:53:34.642947",
     "exception": false,
     "start_time": "2021-04-24T14:45:45.819207",
     "status": "completed"
    },
    "tags": []
   },
   "outputs": [
    {
     "name": "stdout",
     "output_type": "stream",
     "text": [
      "Epoch 1/30\n",
      "72/72 [==============================] - 38s 288ms/step - loss: 1.1214 - accuracy: 0.5653 - val_loss: 0.7292 - val_accuracy: 0.7631\n",
      "Epoch 2/30\n",
      "72/72 [==============================] - 14s 199ms/step - loss: 0.5557 - accuracy: 0.7859 - val_loss: 0.5839 - val_accuracy: 0.7822\n",
      "Epoch 3/30\n",
      "72/72 [==============================] - 15s 211ms/step - loss: 0.4986 - accuracy: 0.8140 - val_loss: 0.6281 - val_accuracy: 0.8066\n",
      "Epoch 4/30\n",
      "72/72 [==============================] - 14s 201ms/step - loss: 0.4396 - accuracy: 0.8313 - val_loss: 0.5376 - val_accuracy: 0.8310\n",
      "Epoch 5/30\n",
      "72/72 [==============================] - 15s 207ms/step - loss: 0.4163 - accuracy: 0.8318 - val_loss: 0.4621 - val_accuracy: 0.8537\n",
      "Epoch 6/30\n",
      "72/72 [==============================] - 14s 199ms/step - loss: 0.3940 - accuracy: 0.8581 - val_loss: 0.5493 - val_accuracy: 0.8432\n",
      "Epoch 7/30\n",
      "72/72 [==============================] - 15s 213ms/step - loss: 0.3655 - accuracy: 0.8685 - val_loss: 0.5400 - val_accuracy: 0.8118\n",
      "Epoch 8/30\n",
      "72/72 [==============================] - 14s 197ms/step - loss: 0.4014 - accuracy: 0.8438 - val_loss: 0.4248 - val_accuracy: 0.8554\n",
      "Epoch 9/30\n",
      "72/72 [==============================] - 15s 209ms/step - loss: 0.3662 - accuracy: 0.8538 - val_loss: 0.4426 - val_accuracy: 0.8554\n",
      "Epoch 10/30\n",
      "72/72 [==============================] - 14s 201ms/step - loss: 0.3196 - accuracy: 0.8767 - val_loss: 0.4580 - val_accuracy: 0.8502\n",
      "Epoch 11/30\n",
      "72/72 [==============================] - 15s 209ms/step - loss: 0.3131 - accuracy: 0.8755 - val_loss: 0.4970 - val_accuracy: 0.8467\n",
      "Epoch 12/30\n",
      "72/72 [==============================] - 14s 198ms/step - loss: 0.3114 - accuracy: 0.8900 - val_loss: 0.4498 - val_accuracy: 0.8554\n",
      "Epoch 13/30\n",
      "72/72 [==============================] - 15s 203ms/step - loss: 0.2875 - accuracy: 0.8843 - val_loss: 0.4629 - val_accuracy: 0.8380\n",
      "Epoch 14/30\n",
      "72/72 [==============================] - 15s 206ms/step - loss: 0.2902 - accuracy: 0.8881 - val_loss: 0.4697 - val_accuracy: 0.8484\n",
      "Epoch 15/30\n",
      "72/72 [==============================] - 14s 198ms/step - loss: 0.2981 - accuracy: 0.8813 - val_loss: 0.5851 - val_accuracy: 0.8171\n",
      "Epoch 16/30\n",
      "72/72 [==============================] - 16s 213ms/step - loss: 0.2917 - accuracy: 0.8840 - val_loss: 0.5086 - val_accuracy: 0.8449\n",
      "Epoch 17/30\n",
      "72/72 [==============================] - 14s 195ms/step - loss: 0.2816 - accuracy: 0.8952 - val_loss: 0.6165 - val_accuracy: 0.8153\n",
      "Epoch 18/30\n",
      "72/72 [==============================] - 15s 214ms/step - loss: 0.2476 - accuracy: 0.8996 - val_loss: 0.4746 - val_accuracy: 0.8345\n",
      "Epoch 19/30\n",
      "72/72 [==============================] - 14s 200ms/step - loss: 0.2729 - accuracy: 0.8924 - val_loss: 0.4245 - val_accuracy: 0.8606\n",
      "Epoch 20/30\n",
      "72/72 [==============================] - 15s 210ms/step - loss: 0.3047 - accuracy: 0.8922 - val_loss: 0.6256 - val_accuracy: 0.8136\n",
      "Epoch 21/30\n",
      "72/72 [==============================] - 14s 196ms/step - loss: 0.2623 - accuracy: 0.8890 - val_loss: 0.6673 - val_accuracy: 0.7857\n",
      "Epoch 22/30\n",
      "72/72 [==============================] - 15s 212ms/step - loss: 0.2456 - accuracy: 0.9083 - val_loss: 0.6557 - val_accuracy: 0.7997\n",
      "Epoch 23/30\n",
      "72/72 [==============================] - 15s 203ms/step - loss: 0.2305 - accuracy: 0.9217 - val_loss: 0.5611 - val_accuracy: 0.8223\n",
      "Epoch 24/30\n",
      "72/72 [==============================] - 15s 208ms/step - loss: 0.2595 - accuracy: 0.9045 - val_loss: 0.4578 - val_accuracy: 0.8502\n",
      "Epoch 25/30\n",
      "72/72 [==============================] - 15s 214ms/step - loss: 0.2382 - accuracy: 0.8976 - val_loss: 0.4923 - val_accuracy: 0.8328\n",
      "Epoch 26/30\n",
      "72/72 [==============================] - 15s 208ms/step - loss: 0.2440 - accuracy: 0.9017 - val_loss: 0.6013 - val_accuracy: 0.8136\n",
      "Epoch 27/30\n",
      "72/72 [==============================] - 15s 209ms/step - loss: 0.2307 - accuracy: 0.9135 - val_loss: 0.4440 - val_accuracy: 0.8449\n",
      "Epoch 28/30\n",
      "72/72 [==============================] - 15s 208ms/step - loss: 0.2272 - accuracy: 0.9154 - val_loss: 0.4599 - val_accuracy: 0.8380\n",
      "Epoch 29/30\n",
      "72/72 [==============================] - 15s 208ms/step - loss: 0.2653 - accuracy: 0.9010 - val_loss: 0.4103 - val_accuracy: 0.8798\n",
      "Epoch 30/30\n",
      "72/72 [==============================] - 15s 212ms/step - loss: 0.2336 - accuracy: 0.9093 - val_loss: 0.4381 - val_accuracy: 0.8606\n"
     ]
    }
   ],
   "source": [
    "''' training '''\n",
    "history = model.fit(data_aug.flow(X_train, y_train, batch_size=32), validation_data=(X_test, y_test), epochs=30)"
   ]
  },
  {
   "cell_type": "code",
   "execution_count": 16,
   "metadata": {
    "execution": {
     "iopub.execute_input": "2021-04-24T14:53:36.194089Z",
     "iopub.status.busy": "2021-04-24T14:53:36.192856Z",
     "iopub.status.idle": "2021-04-24T14:53:40.498485Z",
     "shell.execute_reply": "2021-04-24T14:53:40.499448Z"
    },
    "papermill": {
     "duration": 5.080215,
     "end_time": "2021-04-24T14:53:40.499721",
     "exception": false,
     "start_time": "2021-04-24T14:53:35.419506",
     "status": "completed"
    },
    "tags": []
   },
   "outputs": [
    {
     "name": "stdout",
     "output_type": "stream",
     "text": [
      "              precision    recall  f1-score   support\n",
      "\n",
      "           0       0.87      0.95      0.91        81\n",
      "           1       0.81      0.97      0.88       157\n",
      "           2       0.90      0.71      0.79       170\n",
      "           3       0.89      0.87      0.88       166\n",
      "\n",
      "    accuracy                           0.86       574\n",
      "   macro avg       0.86      0.87      0.86       574\n",
      "weighted avg       0.87      0.86      0.86       574\n",
      "\n"
     ]
    }
   ],
   "source": [
    "''' prediction '''\n",
    "y_pred=model.predict(X_test)\n",
    "\n",
    "''' retreiving max val from predicted values '''\n",
    "pred = np.argmax(y_pred,axis=1)\n",
    "\n",
    "''' retreiving max val from actual values '''\n",
    "ground = np.argmax(y_test,axis=1)\n",
    "\n",
    "''' classificaion report '''\n",
    "print(classification_report(ground,pred))"
   ]
  },
  {
   "cell_type": "code",
   "execution_count": 17,
   "metadata": {
    "execution": {
     "iopub.execute_input": "2021-04-24T14:53:42.083620Z",
     "iopub.status.busy": "2021-04-24T14:53:42.082516Z",
     "iopub.status.idle": "2021-04-24T14:53:42.279415Z",
     "shell.execute_reply": "2021-04-24T14:53:42.279990Z"
    },
    "papermill": {
     "duration": 1.002491,
     "end_time": "2021-04-24T14:53:42.280214",
     "exception": false,
     "start_time": "2021-04-24T14:53:41.277723",
     "status": "completed"
    },
    "tags": []
   },
   "outputs": [
    {
     "data": {
      "image/png": "[encoded data removed]",
      "text/plain": [
       "<Figure size 432x288 with 1 Axes>"
      ]
     },
     "metadata": {
      "needs_background": "light"
     },
     "output_type": "display_data"
    },
    {
     "data": {
      "text/plain": [
       "<Figure size 432x288 with 0 Axes>"
      ]
     },
     "metadata": {},
     "output_type": "display_data"
    }
   ],
   "source": [
    "''' training accuracy and validation accuracy graph '''\n",
    "epochs = range(len(get_acc))\n",
    "plt.plot(epochs, history.history['accuracy'], 'r', label='Accuracy of Training data')\n",
    "plt.plot(epochs, history.history['val_accuracy'], 'b', label='Accuracy of Validation data')\n",
    "plt.title('Training vs validation accuracy')\n",
    "plt.legend(loc=0)\n",
    "plt.figure()\n",
    "plt.show()"
   ]
  },
  {
   "cell_type": "code",
   "execution_count": 18,
   "metadata": {
    "execution": {
     "iopub.execute_input": "2021-04-24T14:53:44.194435Z",
     "iopub.status.busy": "2021-04-24T14:53:44.191686Z",
     "iopub.status.idle": "2021-04-24T14:53:44.351385Z",
     "shell.execute_reply": "2021-04-24T14:53:44.350772Z"
    },
    "papermill": {
     "duration": 1.279102,
     "end_time": "2021-04-24T14:53:44.351527",
     "exception": false,
     "start_time": "2021-04-24T14:53:43.072425",
     "status": "completed"
    },
    "tags": []
   },
   "outputs": [
    {
     "data": {
      "image/png": "[encoded data removed]",
      "text/plain": [
       "<Figure size 432x288 with 1 Axes>"
      ]
     },
     "metadata": {
      "needs_background": "light"
     },
     "output_type": "display_data"
    },
    {
     "data": {
      "text/plain": [
       "<Figure size 432x288 with 0 Axes>"
      ]
     },
     "metadata": {},
     "output_type": "display_data"
    }
   ],
   "source": [
    "''' training loss and validation loss graph '''\n",
    "epochs = range(len(get_loss))\n",
    "plt.plot(epochs, history.history['loss'], 'r', label='Loss of Training data')\n",
    "plt.plot(epochs, history.history['val_loss'], 'b', label='Loss of Validation data')\n",
    "plt.title('Training vs validation loss')\n",
    "plt.legend(loc=0)\n",
    "plt.figure()\n",
    "plt.show()"
   ]
  },
  {
   "cell_type": "code",
   "execution_count": 19,
   "metadata": {
    "execution": {
     "iopub.execute_input": "2021-04-24T14:53:45.900507Z",
     "iopub.status.busy": "2021-04-24T14:53:45.899780Z",
     "iopub.status.idle": "2021-04-24T14:53:45.923558Z",
     "shell.execute_reply": "2021-04-24T14:53:45.922922Z"
    },
    "papermill": {
     "duration": 0.790947,
     "end_time": "2021-04-24T14:53:45.923691",
     "exception": false,
     "start_time": "2021-04-24T14:53:45.132744",
     "status": "completed"
    },
    "tags": []
   },
   "outputs": [
    {
     "data": {
      "image/png": "[encoded data removed]",
      "text/plain": [
       "<PIL.Image.Image image mode=RGB size=150x150 at 0x7FDE18E96250>"
      ]
     },
     "execution_count": 19,
     "metadata": {},
     "output_type": "execute_result"
    }
   ],
   "source": [
    "''' loading an image '''\n",
    "load_img(\"../input/brain-tumor-classification-mri/Testing/meningioma_tumor/image(112).jpg\",target_size=(150,150))"
   ]
  },
  {
   "cell_type": "code",
   "execution_count": 20,
   "metadata": {
    "execution": {
     "iopub.execute_input": "2021-04-24T14:53:47.462877Z",
     "iopub.status.busy": "2021-04-24T14:53:47.461779Z",
     "iopub.status.idle": "2021-04-24T14:53:47.468524Z",
     "shell.execute_reply": "2021-04-24T14:53:47.467877Z"
    },
    "papermill": {
     "duration": 0.783823,
     "end_time": "2021-04-24T14:53:47.468682",
     "exception": false,
     "start_time": "2021-04-24T14:53:46.684859",
     "status": "completed"
    },
    "tags": []
   },
   "outputs": [],
   "source": [
    "''' predicion on new data '''\n",
    "\n",
    "''' loading an image '''\n",
    "img = load_img(\"../input/brain-tumor-classification-mri/Testing/meningioma_tumor/image(112).jpg\",target_size=(150,150))\n",
    "\n",
    "''' converting img to array '''\n",
    "img = img_to_array(img) \n",
    "\n",
    "''' scaling '''\n",
    "img = img / 255.0\n",
    "\n",
    "''' expanding dimensions '''\n",
    "img = np.expand_dims(img, axis=0)"
   ]
  },
  {
   "cell_type": "code",
   "execution_count": 21,
   "metadata": {
    "execution": {
     "iopub.execute_input": "2021-04-24T14:53:49.684175Z",
     "iopub.status.busy": "2021-04-24T14:53:49.683119Z",
     "iopub.status.idle": "2021-04-24T14:53:50.329713Z",
     "shell.execute_reply": "2021-04-24T14:53:50.328644Z"
    },
    "papermill": {
     "duration": 1.715765,
     "end_time": "2021-04-24T14:53:50.329873",
     "exception": false,
     "start_time": "2021-04-24T14:53:48.614108",
     "status": "completed"
    },
    "tags": []
   },
   "outputs": [
    {
     "name": "stdout",
     "output_type": "stream",
     "text": [
      "Prediction is meningioma_tumor.\n"
     ]
    }
   ],
   "source": [
    "lbl_encoding = {0:'no_tumor', 1:'pituitary_tumor', 2:'meningioma_tumor', 3:'glioma_tumor'}\n",
    "\n",
    "def map_label(val):\n",
    "    return lbl_encoding[val]\n",
    "\n",
    "''' predicion '''\n",
    "pred = model.predict(prediction_image)\n",
    "\n",
    "''' retreiving max val from predited values'''\n",
    "val = np.argmax(pred)\n",
    "map_val  = map_label(val)\n",
    "\n",
    "print(\"Prediction is {}.\".format(map_val))"
   ]
  },
  {
   "cell_type": "code",
   "execution_count": 22,
   "metadata": {
    "execution": {
     "iopub.execute_input": "2021-04-24T14:53:51.887191Z",
     "iopub.status.busy": "2021-04-24T14:53:51.885839Z",
     "iopub.status.idle": "2021-04-24T14:53:53.213231Z",
     "shell.execute_reply": "2021-04-24T14:53:53.212679Z"
    },
    "papermill": {
     "duration": 2.110028,
     "end_time": "2021-04-24T14:53:53.213402",
     "exception": false,
     "start_time": "2021-04-24T14:53:51.103374",
     "status": "completed"
    },
    "tags": []
   },
   "outputs": [
    {
     "name": "stdout",
     "output_type": "stream",
     "text": [
      "(394, 150, 150, 3)\n",
      "(394, 4)\n"
     ]
    }
   ],
   "source": [
    "''' checing shape of test_images '''\n",
    "print(test_images.shape)\n",
    "\n",
    "''' predicion on test_images '''\n",
    "preds2 = model.predict(test_images)\n",
    "\n",
    "''' checking shape of predicted value'''\n",
    "print(preds2.shape)\n",
    "\n",
    "prediction = []\n",
    "for p in preds2:\n",
    "    ''' retreiving max val'''\n",
    "    val2 = np.argmax(p)      \n",
    "    prediction += [val2]"
   ]
  },
  {
   "cell_type": "code",
   "execution_count": 23,
   "metadata": {
    "execution": {
     "iopub.execute_input": "2021-04-24T14:53:55.022049Z",
     "iopub.status.busy": "2021-04-24T14:53:55.020920Z",
     "iopub.status.idle": "2021-04-24T14:53:55.024703Z",
     "shell.execute_reply": "2021-04-24T14:53:55.025521Z"
    },
    "papermill": {
     "duration": 1.029952,
     "end_time": "2021-04-24T14:53:55.025774",
     "exception": false,
     "start_time": "2021-04-24T14:53:53.995822",
     "status": "completed"
    },
    "tags": []
   },
   "outputs": [],
   "source": [
    "actual2 = =test_labels"
   ]
  },
  {
   "cell_type": "code",
   "execution_count": 24,
   "metadata": {
    "execution": {
     "iopub.execute_input": "2021-04-24T14:53:56.643041Z",
     "iopub.status.busy": "2021-04-24T14:53:56.642227Z",
     "iopub.status.idle": "2021-04-24T14:53:56.646178Z",
     "shell.execute_reply": "2021-04-24T14:53:56.646741Z"
    },
    "papermill": {
     "duration": 0.787072,
     "end_time": "2021-04-24T14:53:56.646923",
     "exception": false,
     "start_time": "2021-04-24T14:53:55.859851",
     "status": "completed"
    },
    "tags": []
   },
   "outputs": [
    {
     "name": "stdout",
     "output_type": "stream",
     "text": [
      "0.7182741116751269\n"
     ]
    }
   ],
   "source": [
    "''' checking accuracy score'''\n",
    "accuracy = accuracy_score(actual2, prediction)\n",
    "print(accuracy)"
   ]
  },
  {
   "cell_type": "code",
   "execution_count": null,
   "metadata": {
    "papermill": {
     "duration": 0.77548,
     "end_time": "2021-04-24T14:53:58.193160",
     "exception": false,
     "start_time": "2021-04-24T14:53:57.417680",
     "status": "completed"
    },
    "tags": []
   },
   "outputs": [],
   "source": []
  }
 ],
 "metadata": {
  "kernelspec": {
   "display_name": "Python 3",
   "language": "python",
   "name": "python3"
  },
  "language_info": {
   "codemirror_mode": {
    "name": "ipython",
    "version": 3
   },
   "file_extension": ".py",
   "mimetype": "text/x-python",
   "name": "python",
   "nbconvert_exporter": "python",
   "pygments_lexer": "ipython3",
   "version": "3.8.5"
  },
  "papermill": {
   "default_parameters": {},
   "duration": 568.214631,
   "end_time": "2021-04-24T14:54:03.271170",
   "environment_variables": {},
   "exception": null,
   "input_path": "__notebook__.ipynb",
   "output_path": "__notebook__.ipynb",
   "parameters": {},
   "start_time": "2021-04-24T14:44:35.056539",
   "version": "2.3.3"
  }
 },
 "nbformat": 4,
 "nbformat_minor": 5
}
