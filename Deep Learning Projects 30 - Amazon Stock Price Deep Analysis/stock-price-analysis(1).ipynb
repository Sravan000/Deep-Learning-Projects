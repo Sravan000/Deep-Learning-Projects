{
 "cells": [
  {
   "cell_type": "code",
   "execution_count": 2,
   "metadata": {},
   "outputs": [],
   "source": [
    "import numpy as np \n",
    "import pandas as pd\n",
    "from pandas import datetime\n",
    "import warnings\n",
    "import matplotlib.pyplot as plt\n",
    "import seaborn as sns\n",
    "%matplotlib inline\n",
    "\n",
    "from statsmodels.graphics.tsaplots import plot_acf\n",
    "from statsmodels.tsa.ar_model import AR\n",
    "from statsmodels.tsa.arima_model import ARIMA\n",
    "from statsmodels.tsa.arima_model import ARMA\n",
    "from sklearn.metrics import mean_squared_error\n",
    "\n",
    "sns.set_style('darkgrid')\n",
    "warnings.filterwarnings(\"ignore\")"
   ]
  },
  {
   "cell_type": "code",
   "execution_count": 3,
   "metadata": {},
   "outputs": [],
   "source": [
    "''' reading dataset '''\n",
    "df = pd.read_csv('AMZN.csv')"
   ]
  },
  {
   "cell_type": "code",
   "execution_count": 4,
   "metadata": {},
   "outputs": [
    {
     "data": {
      "text/html": [
       "<div>\n",
       "<style scoped>\n",
       "    .dataframe tbody tr th:only-of-type {\n",
       "        vertical-align: middle;\n",
       "    }\n",
       "\n",
       "    .dataframe tbody tr th {\n",
       "        vertical-align: top;\n",
       "    }\n",
       "\n",
       "    .dataframe thead th {\n",
       "        text-align: right;\n",
       "    }\n",
       "</style>\n",
       "<table border=\"1\" class=\"dataframe\">\n",
       "  <thead>\n",
       "    <tr style=\"text-align: right;\">\n",
       "      <th></th>\n",
       "      <th>Date</th>\n",
       "      <th>Open</th>\n",
       "      <th>High</th>\n",
       "      <th>Low</th>\n",
       "      <th>Close</th>\n",
       "      <th>Adj Close</th>\n",
       "      <th>Volume</th>\n",
       "    </tr>\n",
       "  </thead>\n",
       "  <tbody>\n",
       "    <tr>\n",
       "      <th>0</th>\n",
       "      <td>1997-05-15</td>\n",
       "      <td>2.437500</td>\n",
       "      <td>2.500000</td>\n",
       "      <td>1.927083</td>\n",
       "      <td>1.958333</td>\n",
       "      <td>1.958333</td>\n",
       "      <td>72156000</td>\n",
       "    </tr>\n",
       "    <tr>\n",
       "      <th>1</th>\n",
       "      <td>1997-05-16</td>\n",
       "      <td>1.968750</td>\n",
       "      <td>1.979167</td>\n",
       "      <td>1.708333</td>\n",
       "      <td>1.729167</td>\n",
       "      <td>1.729167</td>\n",
       "      <td>14700000</td>\n",
       "    </tr>\n",
       "    <tr>\n",
       "      <th>2</th>\n",
       "      <td>1997-05-19</td>\n",
       "      <td>1.760417</td>\n",
       "      <td>1.770833</td>\n",
       "      <td>1.625000</td>\n",
       "      <td>1.708333</td>\n",
       "      <td>1.708333</td>\n",
       "      <td>6106800</td>\n",
       "    </tr>\n",
       "    <tr>\n",
       "      <th>3</th>\n",
       "      <td>1997-05-20</td>\n",
       "      <td>1.729167</td>\n",
       "      <td>1.750000</td>\n",
       "      <td>1.635417</td>\n",
       "      <td>1.635417</td>\n",
       "      <td>1.635417</td>\n",
       "      <td>5467200</td>\n",
       "    </tr>\n",
       "    <tr>\n",
       "      <th>4</th>\n",
       "      <td>1997-05-21</td>\n",
       "      <td>1.635417</td>\n",
       "      <td>1.645833</td>\n",
       "      <td>1.375000</td>\n",
       "      <td>1.427083</td>\n",
       "      <td>1.427083</td>\n",
       "      <td>18853200</td>\n",
       "    </tr>\n",
       "  </tbody>\n",
       "</table>\n",
       "</div>"
      ],
      "text/plain": [
       "         Date      Open      High       Low     Close  Adj Close    Volume\n",
       "0  1997-05-15  2.437500  2.500000  1.927083  1.958333   1.958333  72156000\n",
       "1  1997-05-16  1.968750  1.979167  1.708333  1.729167   1.729167  14700000\n",
       "2  1997-05-19  1.760417  1.770833  1.625000  1.708333   1.708333   6106800\n",
       "3  1997-05-20  1.729167  1.750000  1.635417  1.635417   1.635417   5467200\n",
       "4  1997-05-21  1.635417  1.645833  1.375000  1.427083   1.427083  18853200"
      ]
     },
     "execution_count": 4,
     "metadata": {},
     "output_type": "execute_result"
    }
   ],
   "source": [
    "''' displaying first 5 rows '''\n",
    "df.head()"
   ]
  },
  {
   "cell_type": "code",
   "execution_count": 5,
   "metadata": {},
   "outputs": [
    {
     "data": {
      "text/plain": [
       "Date         0\n",
       "Open         0\n",
       "High         0\n",
       "Low          0\n",
       "Close        0\n",
       "Adj Close    0\n",
       "Volume       0\n",
       "dtype: int64"
      ]
     },
     "execution_count": 5,
     "metadata": {},
     "output_type": "execute_result"
    }
   ],
   "source": [
    "''' checking null values '''\n",
    "df.isnull().sum()"
   ]
  },
  {
   "cell_type": "code",
   "execution_count": 6,
   "metadata": {},
   "outputs": [
    {
     "data": {
      "text/plain": [
       "(5665, 7)"
      ]
     },
     "execution_count": 6,
     "metadata": {},
     "output_type": "execute_result"
    }
   ],
   "source": [
    "''' shape of data '''\n",
    "df.shape"
   ]
  },
  {
   "cell_type": "code",
   "execution_count": 10,
   "metadata": {},
   "outputs": [],
   "source": [
    "''' converting Date column into datetime '''\n",
    "df['Date'] = df['Date'].map(lambda x: datetime.strptime(x, '%Y-%m-%d'))"
   ]
  },
  {
   "cell_type": "code",
   "execution_count": 11,
   "metadata": {},
   "outputs": [],
   "source": [
    "''' making Date as index of data '''\n",
    "df.set_index('Date', inplace=True)"
   ]
  },
  {
   "cell_type": "code",
   "execution_count": 12,
   "metadata": {},
   "outputs": [
    {
     "data": {
      "text/html": [
       "<div>\n",
       "<style scoped>\n",
       "    .dataframe tbody tr th:only-of-type {\n",
       "        vertical-align: middle;\n",
       "    }\n",
       "\n",
       "    .dataframe tbody tr th {\n",
       "        vertical-align: top;\n",
       "    }\n",
       "\n",
       "    .dataframe thead th {\n",
       "        text-align: right;\n",
       "    }\n",
       "</style>\n",
       "<table border=\"1\" class=\"dataframe\">\n",
       "  <thead>\n",
       "    <tr style=\"text-align: right;\">\n",
       "      <th></th>\n",
       "      <th>Open</th>\n",
       "      <th>High</th>\n",
       "      <th>Low</th>\n",
       "      <th>Close</th>\n",
       "      <th>Adj Close</th>\n",
       "      <th>Volume</th>\n",
       "    </tr>\n",
       "    <tr>\n",
       "      <th>Date</th>\n",
       "      <th></th>\n",
       "      <th></th>\n",
       "      <th></th>\n",
       "      <th></th>\n",
       "      <th></th>\n",
       "      <th></th>\n",
       "    </tr>\n",
       "  </thead>\n",
       "  <tbody>\n",
       "    <tr>\n",
       "      <th>1997-05-15</th>\n",
       "      <td>2.437500</td>\n",
       "      <td>2.500000</td>\n",
       "      <td>1.927083</td>\n",
       "      <td>1.958333</td>\n",
       "      <td>1.958333</td>\n",
       "      <td>72156000</td>\n",
       "    </tr>\n",
       "    <tr>\n",
       "      <th>1997-05-16</th>\n",
       "      <td>1.968750</td>\n",
       "      <td>1.979167</td>\n",
       "      <td>1.708333</td>\n",
       "      <td>1.729167</td>\n",
       "      <td>1.729167</td>\n",
       "      <td>14700000</td>\n",
       "    </tr>\n",
       "    <tr>\n",
       "      <th>1997-05-19</th>\n",
       "      <td>1.760417</td>\n",
       "      <td>1.770833</td>\n",
       "      <td>1.625000</td>\n",
       "      <td>1.708333</td>\n",
       "      <td>1.708333</td>\n",
       "      <td>6106800</td>\n",
       "    </tr>\n",
       "    <tr>\n",
       "      <th>1997-05-20</th>\n",
       "      <td>1.729167</td>\n",
       "      <td>1.750000</td>\n",
       "      <td>1.635417</td>\n",
       "      <td>1.635417</td>\n",
       "      <td>1.635417</td>\n",
       "      <td>5467200</td>\n",
       "    </tr>\n",
       "    <tr>\n",
       "      <th>1997-05-21</th>\n",
       "      <td>1.635417</td>\n",
       "      <td>1.645833</td>\n",
       "      <td>1.375000</td>\n",
       "      <td>1.427083</td>\n",
       "      <td>1.427083</td>\n",
       "      <td>18853200</td>\n",
       "    </tr>\n",
       "  </tbody>\n",
       "</table>\n",
       "</div>"
      ],
      "text/plain": [
       "                Open      High       Low     Close  Adj Close    Volume\n",
       "Date                                                                   \n",
       "1997-05-15  2.437500  2.500000  1.927083  1.958333   1.958333  72156000\n",
       "1997-05-16  1.968750  1.979167  1.708333  1.729167   1.729167  14700000\n",
       "1997-05-19  1.760417  1.770833  1.625000  1.708333   1.708333   6106800\n",
       "1997-05-20  1.729167  1.750000  1.635417  1.635417   1.635417   5467200\n",
       "1997-05-21  1.635417  1.645833  1.375000  1.427083   1.427083  18853200"
      ]
     },
     "execution_count": 12,
     "metadata": {},
     "output_type": "execute_result"
    }
   ],
   "source": [
    "df.head()"
   ]
  },
  {
   "cell_type": "code",
   "execution_count": 13,
   "metadata": {},
   "outputs": [
    {
     "name": "stdout",
     "output_type": "stream",
     "text": [
      "<class 'pandas.core.frame.DataFrame'>\n",
      "DatetimeIndex: 5665 entries, 1997-05-15 to 2019-11-15\n",
      "Data columns (total 6 columns):\n",
      " #   Column     Non-Null Count  Dtype  \n",
      "---  ------     --------------  -----  \n",
      " 0   Open       5665 non-null   float64\n",
      " 1   High       5665 non-null   float64\n",
      " 2   Low        5665 non-null   float64\n",
      " 3   Close      5665 non-null   float64\n",
      " 4   Adj Close  5665 non-null   float64\n",
      " 5   Volume     5665 non-null   int64  \n",
      "dtypes: float64(5), int64(1)\n",
      "memory usage: 309.8 KB\n"
     ]
    }
   ],
   "source": [
    "''' info of data '''\n",
    "df.info()"
   ]
  },
  {
   "cell_type": "code",
   "execution_count": 14,
   "metadata": {},
   "outputs": [
    {
     "data": {
      "text/html": [
       "<div>\n",
       "<style scoped>\n",
       "    .dataframe tbody tr th:only-of-type {\n",
       "        vertical-align: middle;\n",
       "    }\n",
       "\n",
       "    .dataframe tbody tr th {\n",
       "        vertical-align: top;\n",
       "    }\n",
       "\n",
       "    .dataframe thead th {\n",
       "        text-align: right;\n",
       "    }\n",
       "</style>\n",
       "<table border=\"1\" class=\"dataframe\">\n",
       "  <thead>\n",
       "    <tr style=\"text-align: right;\">\n",
       "      <th></th>\n",
       "      <th>Open</th>\n",
       "      <th>High</th>\n",
       "      <th>Low</th>\n",
       "      <th>Close</th>\n",
       "      <th>Adj Close</th>\n",
       "      <th>Volume</th>\n",
       "    </tr>\n",
       "  </thead>\n",
       "  <tbody>\n",
       "    <tr>\n",
       "      <th>count</th>\n",
       "      <td>5665.000000</td>\n",
       "      <td>5665.000000</td>\n",
       "      <td>5665.000000</td>\n",
       "      <td>5665.000000</td>\n",
       "      <td>5665.000000</td>\n",
       "      <td>5.665000e+03</td>\n",
       "    </tr>\n",
       "    <tr>\n",
       "      <th>mean</th>\n",
       "      <td>315.126044</td>\n",
       "      <td>318.499003</td>\n",
       "      <td>311.288491</td>\n",
       "      <td>315.053306</td>\n",
       "      <td>315.053306</td>\n",
       "      <td>7.602816e+06</td>\n",
       "    </tr>\n",
       "    <tr>\n",
       "      <th>std</th>\n",
       "      <td>488.289599</td>\n",
       "      <td>492.442904</td>\n",
       "      <td>483.041434</td>\n",
       "      <td>487.953106</td>\n",
       "      <td>487.953106</td>\n",
       "      <td>7.369511e+06</td>\n",
       "    </tr>\n",
       "    <tr>\n",
       "      <th>min</th>\n",
       "      <td>1.406250</td>\n",
       "      <td>1.447917</td>\n",
       "      <td>1.312500</td>\n",
       "      <td>1.395833</td>\n",
       "      <td>1.395833</td>\n",
       "      <td>4.872000e+05</td>\n",
       "    </tr>\n",
       "    <tr>\n",
       "      <th>25%</th>\n",
       "      <td>37.150002</td>\n",
       "      <td>37.980000</td>\n",
       "      <td>36.500000</td>\n",
       "      <td>37.150002</td>\n",
       "      <td>37.150002</td>\n",
       "      <td>3.712600e+06</td>\n",
       "    </tr>\n",
       "    <tr>\n",
       "      <th>50%</th>\n",
       "      <td>80.110001</td>\n",
       "      <td>81.949997</td>\n",
       "      <td>78.010002</td>\n",
       "      <td>79.937500</td>\n",
       "      <td>79.937500</td>\n",
       "      <td>5.721800e+06</td>\n",
       "    </tr>\n",
       "    <tr>\n",
       "      <th>75%</th>\n",
       "      <td>320.989990</td>\n",
       "      <td>324.130005</td>\n",
       "      <td>316.750000</td>\n",
       "      <td>322.200012</td>\n",
       "      <td>322.200012</td>\n",
       "      <td>8.641200e+06</td>\n",
       "    </tr>\n",
       "    <tr>\n",
       "      <th>max</th>\n",
       "      <td>2038.109985</td>\n",
       "      <td>2050.500000</td>\n",
       "      <td>2013.000000</td>\n",
       "      <td>2039.510010</td>\n",
       "      <td>2039.510010</td>\n",
       "      <td>1.043292e+08</td>\n",
       "    </tr>\n",
       "  </tbody>\n",
       "</table>\n",
       "</div>"
      ],
      "text/plain": [
       "              Open         High          Low        Close    Adj Close  \\\n",
       "count  5665.000000  5665.000000  5665.000000  5665.000000  5665.000000   \n",
       "mean    315.126044   318.499003   311.288491   315.053306   315.053306   \n",
       "std     488.289599   492.442904   483.041434   487.953106   487.953106   \n",
       "min       1.406250     1.447917     1.312500     1.395833     1.395833   \n",
       "25%      37.150002    37.980000    36.500000    37.150002    37.150002   \n",
       "50%      80.110001    81.949997    78.010002    79.937500    79.937500   \n",
       "75%     320.989990   324.130005   316.750000   322.200012   322.200012   \n",
       "max    2038.109985  2050.500000  2013.000000  2039.510010  2039.510010   \n",
       "\n",
       "             Volume  \n",
       "count  5.665000e+03  \n",
       "mean   7.602816e+06  \n",
       "std    7.369511e+06  \n",
       "min    4.872000e+05  \n",
       "25%    3.712600e+06  \n",
       "50%    5.721800e+06  \n",
       "75%    8.641200e+06  \n",
       "max    1.043292e+08  "
      ]
     },
     "execution_count": 14,
     "metadata": {},
     "output_type": "execute_result"
    }
   ],
   "source": [
    "''' describe '''\n",
    "df.describe()"
   ]
  },
  {
   "cell_type": "code",
   "execution_count": 15,
   "metadata": {},
   "outputs": [
    {
     "data": {
      "text/html": [
       "<div>\n",
       "<style scoped>\n",
       "    .dataframe tbody tr th:only-of-type {\n",
       "        vertical-align: middle;\n",
       "    }\n",
       "\n",
       "    .dataframe tbody tr th {\n",
       "        vertical-align: top;\n",
       "    }\n",
       "\n",
       "    .dataframe thead th {\n",
       "        text-align: right;\n",
       "    }\n",
       "</style>\n",
       "<table border=\"1\" class=\"dataframe\">\n",
       "  <thead>\n",
       "    <tr style=\"text-align: right;\">\n",
       "      <th></th>\n",
       "      <th>Close</th>\n",
       "    </tr>\n",
       "    <tr>\n",
       "      <th>Date</th>\n",
       "      <th></th>\n",
       "    </tr>\n",
       "  </thead>\n",
       "  <tbody>\n",
       "    <tr>\n",
       "      <th>1997-05-15</th>\n",
       "      <td>1.958333</td>\n",
       "    </tr>\n",
       "    <tr>\n",
       "      <th>1997-05-16</th>\n",
       "      <td>1.729167</td>\n",
       "    </tr>\n",
       "    <tr>\n",
       "      <th>1997-05-19</th>\n",
       "      <td>1.708333</td>\n",
       "    </tr>\n",
       "    <tr>\n",
       "      <th>1997-05-20</th>\n",
       "      <td>1.635417</td>\n",
       "    </tr>\n",
       "    <tr>\n",
       "      <th>1997-05-21</th>\n",
       "      <td>1.427083</td>\n",
       "    </tr>\n",
       "  </tbody>\n",
       "</table>\n",
       "</div>"
      ],
      "text/plain": [
       "               Close\n",
       "Date                \n",
       "1997-05-15  1.958333\n",
       "1997-05-16  1.729167\n",
       "1997-05-19  1.708333\n",
       "1997-05-20  1.635417\n",
       "1997-05-21  1.427083"
      ]
     },
     "execution_count": 15,
     "metadata": {},
     "output_type": "execute_result"
    }
   ],
   "source": [
    "''' dropping some columns '''\n",
    "df.drop(['Open', 'High', 'Low', 'Adj Close', 'Volume'], inplace=True, axis=1)\n",
    "df - df[df.index > '2015-01-01']\n",
    "\n",
    "df.head()"
   ]
  },
  {
   "cell_type": "code",
   "execution_count": 21,
   "metadata": {},
   "outputs": [
    {
     "data": {
      "image/png": "[encoded data removed]",
      "text/plain": [
       "<Figure size 720x360 with 1 Axes>"
      ]
     },
     "metadata": {},
     "output_type": "display_data"
    }
   ],
   "source": [
    "plt.figure(figsize=(10, 5))\n",
    "plt.title('Amazon stock closing prices for last 5 years', fontsize=20)\n",
    "plt.plot(df['Close']);\n",
    "plt.xlabel('Year', fontsize=20);"
   ]
  },
  {
   "cell_type": "code",
   "execution_count": 34,
   "metadata": {},
   "outputs": [
    {
     "name": "stdout",
     "output_type": "stream",
     "text": [
      "2019 closing price mean: Close    1664.34\n",
      "dtype: float64\n",
      "2019 Qclosing price variance : Close    3961.09\n",
      "dtype: float64\n",
      "----------------------------------------------------------------------------------------------------\n",
      "\n",
      "2017 closing price mean: Close    832.63\n",
      "dtype: float64\n",
      "2017 closing price variance: Close    630.34\n",
      "dtype: float64\n",
      "----------------------------------------------------------------------------------------------------\n",
      "\n",
      "2015 closing price mean: Close    629.68\n",
      "dtype: float64\n",
      "2015 closing price variance: Close    2663.21\n",
      "dtype: float64\n"
     ]
    }
   ],
   "source": [
    "''' checking stationary of data '''\n",
    "mean_2019 = df[(df.index >= '2019-01-01') & (df.index < '2019-03-31')].mean()\n",
    "var_2019  = df[(df.index >= '2019-01-01') & (df.index < '2019-03-31')].var()\n",
    "\n",
    "mean_2017 = df[(df.index >= '2017-01-01') & (df.index < '2017-03-31')].mean()\n",
    "var_2017  = df[(df.index >= '2017-01-01') & (df.index < '2017-03-31')].var()\n",
    "\n",
    "mean_2015 = df[(df.index >= '2015-10-01') & (df.index < '2015-12-31')].mean()\n",
    "var_2015  = df[(df.index >= '2015-10-01') & (df.index < '2015-12-31')].var()\n",
    "\n",
    "print('2019 closing price mean: {}'.format(round(mean_2019, 2)))\n",
    "print('2019 Qclosing price variance : {}'.format(round(var_2019, 2)))\n",
    "print(\"-\" * 100)\n",
    "print()\n",
    "\n",
    "print('2017 closing price mean: {}'.format(round(mean_2017, 2)))\n",
    "print('2017 closing price variance: {}'.format(round(var_2017, 2)))\n",
    "print(\"-\" * 100)\n",
    "print()\n",
    "\n",
    "print('2015 closing price mean: {}'.format(round(mean_2015, 2)))\n",
    "print('2015 closing price variance: {}'.format(round(var_2015, 2)))"
   ]
  },
  {
   "cell_type": "code",
   "execution_count": 40,
   "metadata": {},
   "outputs": [
    {
     "data": {
      "text/plain": [
       "<Figure size 720x360 with 0 Axes>"
      ]
     },
     "metadata": {},
     "output_type": "display_data"
    },
    {
     "data": {
      "image/png": "[encoded data removed]",
      "text/plain": [
       "<Figure size 432x288 with 1 Axes>"
      ]
     },
     "metadata": {},
     "output_type": "display_data"
    }
   ],
   "source": [
    "''' Plot the correlation function  '''\n",
    "plt.figure(figsize=(10, 5));\n",
    "plot_acf(df, lags=40);\n",
    "plt.show()"
   ]
  },
  {
   "cell_type": "code",
   "execution_count": 42,
   "metadata": {},
   "outputs": [
    {
     "data": {
      "text/html": [
       "<div>\n",
       "<style scoped>\n",
       "    .dataframe tbody tr th:only-of-type {\n",
       "        vertical-align: middle;\n",
       "    }\n",
       "\n",
       "    .dataframe tbody tr th {\n",
       "        vertical-align: top;\n",
       "    }\n",
       "\n",
       "    .dataframe thead th {\n",
       "        text-align: right;\n",
       "    }\n",
       "</style>\n",
       "<table border=\"1\" class=\"dataframe\">\n",
       "  <thead>\n",
       "    <tr style=\"text-align: right;\">\n",
       "      <th></th>\n",
       "      <th>Close</th>\n",
       "    </tr>\n",
       "    <tr>\n",
       "      <th>Date</th>\n",
       "      <th></th>\n",
       "    </tr>\n",
       "  </thead>\n",
       "  <tbody>\n",
       "    <tr>\n",
       "      <th>1997-05-16</th>\n",
       "      <td>-0.229166</td>\n",
       "    </tr>\n",
       "    <tr>\n",
       "      <th>1997-05-19</th>\n",
       "      <td>-0.020834</td>\n",
       "    </tr>\n",
       "    <tr>\n",
       "      <th>1997-05-20</th>\n",
       "      <td>-0.072916</td>\n",
       "    </tr>\n",
       "    <tr>\n",
       "      <th>1997-05-21</th>\n",
       "      <td>-0.208334</td>\n",
       "    </tr>\n",
       "    <tr>\n",
       "      <th>1997-05-22</th>\n",
       "      <td>-0.031250</td>\n",
       "    </tr>\n",
       "  </tbody>\n",
       "</table>\n",
       "</div>"
      ],
      "text/plain": [
       "               Close\n",
       "Date                \n",
       "1997-05-16 -0.229166\n",
       "1997-05-19 -0.020834\n",
       "1997-05-20 -0.072916\n",
       "1997-05-21 -0.208334\n",
       "1997-05-22 -0.031250"
      ]
     },
     "execution_count": 42,
     "metadata": {},
     "output_type": "execute_result"
    }
   ],
   "source": [
    "''' converting series into stationary series '''\n",
    "df_diff = df.diff(periods=1)\n",
    "df_diff = df_diff.dropna()\n",
    "df_diff.head()"
   ]
  },
  {
   "cell_type": "code",
   "execution_count": 45,
   "metadata": {},
   "outputs": [
    {
     "data": {
      "image/png": "[encoded data removed]",
      "text/plain": [
       "<Figure size 1080x360 with 1 Axes>"
      ]
     },
     "metadata": {},
     "output_type": "display_data"
    }
   ],
   "source": [
    "plt.figure(figsize=(15,5))\n",
    "plt.title(\"Amazon closing prices \",fontsize=20)\n",
    "plt.plot(df_diff);"
   ]
  },
  {
   "cell_type": "code",
   "execution_count": 46,
   "metadata": {},
   "outputs": [
    {
     "data": {
      "text/plain": [
       "<Figure size 720x720 with 0 Axes>"
      ]
     },
     "metadata": {},
     "output_type": "display_data"
    },
    {
     "data": {
      "image/png": "[encoded data removed]",
      "text/plain": [
       "<Figure size 432x288 with 1 Axes>"
      ]
     },
     "metadata": {},
     "output_type": "display_data"
    }
   ],
   "source": [
    "''' Plot the autocorrelation function. The ACF value decreases to zero quickly for stationary series '''\n",
    "plt.figure(figsize=(10, 10))\n",
    "plot_acf(df_diff, lags=40)\n",
    "plt.show()"
   ]
  },
  {
   "cell_type": "code",
   "execution_count": 48,
   "metadata": {},
   "outputs": [
    {
     "name": "stdout",
     "output_type": "stream",
     "text": [
      "X_train shape:  (3965, 1)\n",
      "X_test shape:  (1700, 1)\n"
     ]
    }
   ],
   "source": [
    "''' Autoregression Model '''\n",
    "X = df.values\n",
    "size = int(len(df) * 0.70)\n",
    "\n",
    "X_train = df[:size]\n",
    "X_test = df[size:]\n",
    "\n",
    "print(\"X_train shape: \", X_train.shape)\n",
    "print(\"X_test shape: \", X_test.shape)"
   ]
  },
  {
   "cell_type": "code",
   "execution_count": 58,
   "metadata": {},
   "outputs": [
    {
     "name": "stdout",
     "output_type": "stream",
     "text": [
      "Lags:  30\n",
      "Coefficients:  const        0.042003\n",
      "L1.Close     0.977925\n",
      "L2.Close    -0.033507\n",
      "L3.Close     0.069038\n",
      "L4.Close    -0.028687\n",
      "L5.Close    -0.000537\n",
      "L6.Close    -0.022892\n",
      "L7.Close     0.032739\n",
      "L8.Close     0.009535\n",
      "L9.Close    -0.031172\n",
      "L10.Close    0.031473\n",
      "L11.Close   -0.008102\n",
      "L12.Close   -0.004352\n",
      "L13.Close    0.013952\n",
      "L14.Close   -0.019502\n",
      "L15.Close   -0.015584\n",
      "L16.Close    0.057588\n",
      "L17.Close   -0.000022\n",
      "L18.Close   -0.060083\n",
      "L19.Close    0.031500\n",
      "L20.Close   -0.012768\n",
      "L21.Close    0.009893\n",
      "L22.Close   -0.027115\n",
      "L23.Close    0.017227\n",
      "L24.Close    0.000074\n",
      "L25.Close    0.023795\n",
      "L26.Close   -0.045126\n",
      "L27.Close    0.023747\n",
      "L28.Close    0.023223\n",
      "L29.Close   -0.003423\n",
      "L30.Close   -0.008215\n",
      "dtype: float64\n"
     ]
    }
   ],
   "source": [
    "''' Model'''\n",
    "model = AR(X_train)\n",
    "model = model.fit()\n",
    "\n",
    "print(\"Lags: \", model.k_ar)\n",
    "print(\"Coefficients: \", model.params)"
   ]
  },
  {
   "cell_type": "code",
   "execution_count": 66,
   "metadata": {},
   "outputs": [
    {
     "name": "stdout",
     "output_type": "stream",
     "text": [
      "MSE:  393024.6619236417\n",
      "----------------------------------------------------------------------------------------------------\n",
      "\n"
     ]
    },
    {
     "data": {
      "image/png": "[encoded data removed]",
      "text/plain": [
       "<Figure size 1008x360 with 1 Axes>"
      ]
     },
     "metadata": {},
     "output_type": "display_data"
    }
   ],
   "source": [
    "''' prediction '''\n",
    "y_pred = model.predict(start=len(X_train), end=len(X_train)+len(X_test)-1, dynamic=False)\n",
    "\n",
    "print(\"MSE: \", mean_squared_error(X_test, y_pred))\n",
    "print(\"-\" * 100)\n",
    "print()\n",
    "\n",
    "plt.figure(figsize=(14,5))\n",
    "plt.title(\"Autoregression Model\", fontsize=20)\n",
    "plt.plot(X_test)\n",
    "plt.plot(y_pred, color='r');"
   ]
  },
  {
   "cell_type": "code",
   "execution_count": null,
   "metadata": {},
   "outputs": [],
   "source": []
  },
  {
   "cell_type": "code",
   "execution_count": null,
   "metadata": {},
   "outputs": [],
   "source": []
  }
 ],
 "metadata": {
  "kernelspec": {
   "display_name": "Python 3",
   "language": "python",
   "name": "python3"
  },
  "language_info": {
   "codemirror_mode": {
    "name": "ipython",
    "version": 3
   },
   "file_extension": ".py",
   "mimetype": "text/x-python",
   "name": "python",
   "nbconvert_exporter": "python",
   "pygments_lexer": "ipython3",
   "version": "3.8.5"
  }
 },
 "nbformat": 4,
 "nbformat_minor": 4
}
