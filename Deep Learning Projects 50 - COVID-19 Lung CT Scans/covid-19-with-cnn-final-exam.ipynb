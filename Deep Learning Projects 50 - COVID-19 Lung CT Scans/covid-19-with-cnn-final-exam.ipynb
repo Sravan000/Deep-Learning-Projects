{
 "cells": [
  {
   "cell_type": "code",
   "execution_count": 1,
   "metadata": {
    "_cell_guid": "b1076dfc-b9ad-4769-8c92-a6c4dae69d19",
    "_uuid": "8f2839f25d086af736a60e9eeb907d3b93b6e0e5",
    "execution": {
     "iopub.execute_input": "2021-01-31T12:54:08.558618Z",
     "iopub.status.busy": "2021-01-31T12:54:08.557989Z",
     "iopub.status.idle": "2021-01-31T12:54:13.350561Z",
     "shell.execute_reply": "2021-01-31T12:54:13.349521Z"
    },
    "papermill": {
     "duration": 4.821965,
     "end_time": "2021-01-31T12:54:13.350695",
     "exception": false,
     "start_time": "2021-01-31T12:54:08.528730",
     "status": "completed"
    },
    "tags": []
   },
   "outputs": [
    {
     "name": "stdout",
     "output_type": "stream",
     "text": [
      "/kaggle/input/covid19-xray-dataset-train-test-sets/xray_dataset_covid19/test/PNEUMONIA/SARS-10.1148rg.242035193-g04mr34g04b-Fig4b-day12.jpeg\n",
      "/kaggle/input/covid19-xray-dataset-train-test-sets/xray_dataset_covid19/test/PNEUMONIA/ryct.2020200034.fig5-day4.jpeg\n",
      "/kaggle/input/covid19-xray-dataset-train-test-sets/xray_dataset_covid19/test/PNEUMONIA/SARS-10.1148rg.242035193-g04mr34g0-Fig8b-day5.jpeg\n",
      "/kaggle/input/covid19-xray-dataset-train-test-sets/xray_dataset_covid19/test/PNEUMONIA/ryct.2020200034.fig5-day0.jpeg\n",
      "/kaggle/input/covid19-xray-dataset-train-test-sets/xray_dataset_covid19/test/PNEUMONIA/SARS-10.1148rg.242035193-g04mr34g09a-Fig9a-day17.jpeg\n",
      "/kaggle/input/covid19-xray-dataset-train-test-sets/xray_dataset_covid19/test/PNEUMONIA/ryct.2020200034.fig2.jpeg\n",
      "/kaggle/input/covid19-xray-dataset-train-test-sets/xray_dataset_covid19/test/PNEUMONIA/streptococcus-pneumoniae-pneumonia-temporal-evolution-1-day3.jpg\n",
      "/kaggle/input/covid19-xray-dataset-train-test-sets/xray_dataset_covid19/test/PNEUMONIA/SARS-10.1148rg.242035193-g04mr34g05x-Fig5-day9.jpeg\n",
      "/kaggle/input/covid19-xray-dataset-train-test-sets/xray_dataset_covid19/test/PNEUMONIA/streptococcus-pneumoniae-pneumonia-temporal-evolution-1-day2.jpg\n",
      "/kaggle/input/covid19-xray-dataset-train-test-sets/xray_dataset_covid19/test/PNEUMONIA/SARS-10.1148rg.242035193-g04mr34g0-Fig8a-day0.jpeg\n",
      "/kaggle/input/covid19-xray-dataset-train-test-sets/xray_dataset_covid19/test/PNEUMONIA/streptococcus-pneumoniae-pneumonia-1.jpg\n",
      "/kaggle/input/covid19-xray-dataset-train-test-sets/xray_dataset_covid19/test/PNEUMONIA/ryct.2020200034.fig5-day7.jpeg\n",
      "/kaggle/input/covid19-xray-dataset-train-test-sets/xray_dataset_covid19/test/PNEUMONIA/SARS-10.1148rg.242035193-g04mr34g07a-Fig7a-day5.jpeg\n",
      "/kaggle/input/covid19-xray-dataset-train-test-sets/xray_dataset_covid19/test/PNEUMONIA/SARS-10.1148rg.242035193-g04mr34g0-Fig8c-day10.jpeg\n",
      "/kaggle/input/covid19-xray-dataset-train-test-sets/xray_dataset_covid19/test/PNEUMONIA/SARS-10.1148rg.242035193-g04mr34g04a-Fig4a-day7.jpeg\n",
      "/kaggle/input/covid19-xray-dataset-train-test-sets/xray_dataset_covid19/test/PNEUMONIA/streptococcus-pneumoniae-pneumonia-temporal-evolution-1-day0.jpg\n",
      "/kaggle/input/covid19-xray-dataset-train-test-sets/xray_dataset_covid19/test/PNEUMONIA/SARS-10.1148rg.242035193-g04mr34g07b-Fig7b-day12.jpeg\n",
      "/kaggle/input/covid19-xray-dataset-train-test-sets/xray_dataset_covid19/test/PNEUMONIA/streptococcus-pneumoniae-pneumonia-temporal-evolution-1-day1.jpg\n",
      "/kaggle/input/covid19-xray-dataset-train-test-sets/xray_dataset_covid19/test/PNEUMONIA/SARS-10.1148rg.242035193-g04mr34g09c-Fig9c-day27.jpeg\n",
      "/kaggle/input/covid19-xray-dataset-train-test-sets/xray_dataset_covid19/test/PNEUMONIA/SARS-10.1148rg.242035193-g04mr34g09b-Fig9b-day19.jpeg\n",
      "/kaggle/input/covid19-xray-dataset-train-test-sets/xray_dataset_covid19/test/NORMAL/NORMAL2-IM-0139-0001.jpeg\n",
      "/kaggle/input/covid19-xray-dataset-train-test-sets/xray_dataset_covid19/test/NORMAL/NORMAL2-IM-0073-0001.jpeg\n",
      "/kaggle/input/covid19-xray-dataset-train-test-sets/xray_dataset_covid19/test/NORMAL/NORMAL2-IM-0092-0001.jpeg\n",
      "/kaggle/input/covid19-xray-dataset-train-test-sets/xray_dataset_covid19/test/NORMAL/NORMAL2-IM-0120-0001.jpeg\n",
      "/kaggle/input/covid19-xray-dataset-train-test-sets/xray_dataset_covid19/test/NORMAL/NORMAL2-IM-0035-0001.jpeg\n",
      "/kaggle/input/covid19-xray-dataset-train-test-sets/xray_dataset_covid19/test/NORMAL/NORMAL2-IM-0052-0001.jpeg\n",
      "/kaggle/input/covid19-xray-dataset-train-test-sets/xray_dataset_covid19/test/NORMAL/NORMAL2-IM-0111-0001.jpeg\n",
      "/kaggle/input/covid19-xray-dataset-train-test-sets/xray_dataset_covid19/test/NORMAL/NORMAL2-IM-0112-0001.jpeg\n",
      "/kaggle/input/covid19-xray-dataset-train-test-sets/xray_dataset_covid19/test/NORMAL/NORMAL2-IM-0132-0001.jpeg\n",
      "/kaggle/input/covid19-xray-dataset-train-test-sets/xray_dataset_covid19/test/NORMAL/NORMAL2-IM-0171-0001.jpeg\n",
      "/kaggle/input/covid19-xray-dataset-train-test-sets/xray_dataset_covid19/test/NORMAL/NORMAL2-IM-0058-0001.jpeg\n",
      "/kaggle/input/covid19-xray-dataset-train-test-sets/xray_dataset_covid19/test/NORMAL/NORMAL2-IM-0145-0001.jpeg\n",
      "/kaggle/input/covid19-xray-dataset-train-test-sets/xray_dataset_covid19/test/NORMAL/NORMAL2-IM-0059-0001.jpeg\n",
      "/kaggle/input/covid19-xray-dataset-train-test-sets/xray_dataset_covid19/test/NORMAL/NORMAL2-IM-0105-0001.jpeg\n",
      "/kaggle/input/covid19-xray-dataset-train-test-sets/xray_dataset_covid19/test/NORMAL/NORMAL2-IM-0131-0001.jpeg\n",
      "/kaggle/input/covid19-xray-dataset-train-test-sets/xray_dataset_covid19/test/NORMAL/NORMAL2-IM-0110-0001.jpeg\n",
      "/kaggle/input/covid19-xray-dataset-train-test-sets/xray_dataset_covid19/test/NORMAL/NORMAL2-IM-0117-0001.jpeg\n",
      "/kaggle/input/covid19-xray-dataset-train-test-sets/xray_dataset_covid19/test/NORMAL/NORMAL2-IM-0130-0001.jpeg\n",
      "/kaggle/input/covid19-xray-dataset-train-test-sets/xray_dataset_covid19/test/NORMAL/NORMAL2-IM-0072-0001.jpeg\n",
      "/kaggle/input/covid19-xray-dataset-train-test-sets/xray_dataset_covid19/test/NORMAL/NORMAL2-IM-0123-0001.jpeg\n",
      "/kaggle/input/covid19-xray-dataset-train-test-sets/xray_dataset_covid19/train/PNEUMONIA/ARDSSevere.png\n",
      "/kaggle/input/covid19-xray-dataset-train-test-sets/xray_dataset_covid19/train/PNEUMONIA/1-s2.0-S1684118220300682-main.pdf-002-a1.png\n",
      "/kaggle/input/covid19-xray-dataset-train-test-sets/xray_dataset_covid19/train/PNEUMONIA/jkms-35-e79-g001-l-c.jpg\n",
      "/kaggle/input/covid19-xray-dataset-train-test-sets/xray_dataset_covid19/train/PNEUMONIA/2C26F453-AF3B-4517-BB9E-802CF2179543.jpeg\n",
      "/kaggle/input/covid19-xray-dataset-train-test-sets/xray_dataset_covid19/train/PNEUMONIA/171CB377-62FF-4B76-906C-F3787A01CB2E.jpeg\n",
      "/kaggle/input/covid19-xray-dataset-train-test-sets/xray_dataset_covid19/train/PNEUMONIA/covid-19-pneumonia-12.jpg\n",
      "/kaggle/input/covid19-xray-dataset-train-test-sets/xray_dataset_covid19/train/PNEUMONIA/31BA3780-2323-493F-8AED-62081B9C383B.jpeg\n",
      "/kaggle/input/covid19-xray-dataset-train-test-sets/xray_dataset_covid19/train/PNEUMONIA/covid-19-pneumonia-15-PA.jpg\n",
      "/kaggle/input/covid19-xray-dataset-train-test-sets/xray_dataset_covid19/train/PNEUMONIA/all14238-fig-0001-m-c.jpg\n",
      "/kaggle/input/covid19-xray-dataset-train-test-sets/xray_dataset_covid19/train/PNEUMONIA/1-s2.0-S1684118220300682-main.pdf-003-b1.png\n",
      "/kaggle/input/covid19-xray-dataset-train-test-sets/xray_dataset_covid19/train/PNEUMONIA/auntminnie-2020_01_31_20_24_2322_2020_01_31_x-ray_coronavirus_US.jpg\n",
      "/kaggle/input/covid19-xray-dataset-train-test-sets/xray_dataset_covid19/train/PNEUMONIA/01E392EE-69F9-4E33-BFCE-E5C968654078.jpeg\n",
      "/kaggle/input/covid19-xray-dataset-train-test-sets/xray_dataset_covid19/train/PNEUMONIA/pneumocystis-pneumonia-2-PA.png\n",
      "/kaggle/input/covid19-xray-dataset-train-test-sets/xray_dataset_covid19/train/PNEUMONIA/7E335538-2F86-424E-A0AB-6397783A38D0.jpeg\n",
      "/kaggle/input/covid19-xray-dataset-train-test-sets/xray_dataset_covid19/train/PNEUMONIA/all14238-fig-0001-m-b.jpg\n",
      "/kaggle/input/covid19-xray-dataset-train-test-sets/xray_dataset_covid19/train/PNEUMONIA/ryct.2020200028.fig1a.jpeg\n",
      "/kaggle/input/covid19-xray-dataset-train-test-sets/xray_dataset_covid19/train/PNEUMONIA/5931B64A-7B97-485D-BE60-3F1EA76BC4F0.jpeg\n",
      "/kaggle/input/covid19-xray-dataset-train-test-sets/xray_dataset_covid19/train/PNEUMONIA/ards-secondary-to-tiger-snake-bite.png\n",
      "/kaggle/input/covid19-xray-dataset-train-test-sets/xray_dataset_covid19/train/PNEUMONIA/5CBC2E94-D358-401E-8928-965CCD965C5C.jpeg\n",
      "/kaggle/input/covid19-xray-dataset-train-test-sets/xray_dataset_covid19/train/PNEUMONIA/MERS-CoV-1-s2.0-S0378603X1500248X-gr4e.jpg\n",
      "/kaggle/input/covid19-xray-dataset-train-test-sets/xray_dataset_covid19/train/PNEUMONIA/kjr-21-e24-g002-l-a.jpg\n",
      "/kaggle/input/covid19-xray-dataset-train-test-sets/xray_dataset_covid19/train/PNEUMONIA/1-s2.0-S1684118220300608-main.pdf-001.jpg\n",
      "/kaggle/input/covid19-xray-dataset-train-test-sets/xray_dataset_covid19/train/PNEUMONIA/nejmoa2001191_f5-PA.jpeg\n",
      "/kaggle/input/covid19-xray-dataset-train-test-sets/xray_dataset_covid19/train/PNEUMONIA/5e6dd879fde9502400e58b2f.jpeg\n",
      "/kaggle/input/covid19-xray-dataset-train-test-sets/xray_dataset_covid19/train/PNEUMONIA/kjr-21-e24-g003-l-a.jpg\n",
      "/kaggle/input/covid19-xray-dataset-train-test-sets/xray_dataset_covid19/train/PNEUMONIA/nejmc2001573_f1b.jpeg\n",
      "/kaggle/input/covid19-xray-dataset-train-test-sets/xray_dataset_covid19/train/PNEUMONIA/1-s2.0-S1684118220300608-main.pdf-002.jpg\n",
      "/kaggle/input/covid19-xray-dataset-train-test-sets/xray_dataset_covid19/train/PNEUMONIA/F4341CE7-73C9-45C6-99C8-8567A5484B63.jpeg\n",
      "/kaggle/input/covid19-xray-dataset-train-test-sets/xray_dataset_covid19/train/PNEUMONIA/all14238-fig-0002-m-e.jpg\n",
      "/kaggle/input/covid19-xray-dataset-train-test-sets/xray_dataset_covid19/train/PNEUMONIA/7D2CF6CE-F529-4470-8356-D33FFAF98600.jpeg\n",
      "/kaggle/input/covid19-xray-dataset-train-test-sets/xray_dataset_covid19/train/PNEUMONIA/41591_2020_819_Fig1_HTML.webp-day5.png\n",
      "/kaggle/input/covid19-xray-dataset-train-test-sets/xray_dataset_covid19/train/PNEUMONIA/CD50BA96-6982-4C80-AE7B-5F67ACDBFA56.jpeg\n",
      "/kaggle/input/covid19-xray-dataset-train-test-sets/xray_dataset_covid19/train/PNEUMONIA/lancet-case2a.jpg\n",
      "/kaggle/input/covid19-xray-dataset-train-test-sets/xray_dataset_covid19/train/PNEUMONIA/8FDE8DBA-CFBD-4B4C-B1A4-6F36A93B7E87.jpeg\n",
      "/kaggle/input/covid19-xray-dataset-train-test-sets/xray_dataset_covid19/train/PNEUMONIA/nCoV-Snohomish-20382862_web1_M1-Lungs-EDH-200201-640x300@2x.jpg\n",
      "/kaggle/input/covid19-xray-dataset-train-test-sets/xray_dataset_covid19/train/PNEUMONIA/nejmoa2001191_f3-PA.jpeg\n",
      "/kaggle/input/covid19-xray-dataset-train-test-sets/xray_dataset_covid19/train/PNEUMONIA/covid-19-pneumonia-14-PA.png\n",
      "/kaggle/input/covid19-xray-dataset-train-test-sets/xray_dataset_covid19/train/PNEUMONIA/1-s2.0-S1684118220300682-main.pdf-002-a2.png\n",
      "/kaggle/input/covid19-xray-dataset-train-test-sets/xray_dataset_covid19/train/PNEUMONIA/nejmc2001573_f1a.jpeg\n",
      "/kaggle/input/covid19-xray-dataset-train-test-sets/xray_dataset_covid19/train/PNEUMONIA/39EE8E69-5801-48DE-B6E3-BE7D1BCF3092.jpeg\n",
      "/kaggle/input/covid19-xray-dataset-train-test-sets/xray_dataset_covid19/train/PNEUMONIA/80446565-E090-4187-A031-9D3CEAA586C8.jpeg\n",
      "/kaggle/input/covid19-xray-dataset-train-test-sets/xray_dataset_covid19/train/PNEUMONIA/7AF6C1AF-D249-4BD2-8C26-449304105D03.jpeg\n",
      "/kaggle/input/covid19-xray-dataset-train-test-sets/xray_dataset_covid19/train/PNEUMONIA/kjr-21-e25-g001-l-a.jpg\n",
      "/kaggle/input/covid19-xray-dataset-train-test-sets/xray_dataset_covid19/train/PNEUMONIA/93FE0BB1-022D-4F24-9727-987A07975FFB.jpeg\n",
      "/kaggle/input/covid19-xray-dataset-train-test-sets/xray_dataset_covid19/train/PNEUMONIA/1-s2.0-S0140673620303706-fx1_lrg.jpg\n",
      "/kaggle/input/covid19-xray-dataset-train-test-sets/xray_dataset_covid19/train/PNEUMONIA/9C34AF49-E589-44D5-92D3-168B3B04E4A6.jpeg\n",
      "/kaggle/input/covid19-xray-dataset-train-test-sets/xray_dataset_covid19/train/PNEUMONIA/E1724330-1866-4581-8CD8-CEC9B8AFEDDE.jpeg\n",
      "/kaggle/input/covid19-xray-dataset-train-test-sets/xray_dataset_covid19/train/PNEUMONIA/F63AB6CE-1968-4154-A70F-913AF154F53D.jpeg\n",
      "/kaggle/input/covid19-xray-dataset-train-test-sets/xray_dataset_covid19/train/PNEUMONIA/85E52EB3-56E9-4D67-82DA-DEA247C82886.jpeg\n",
      "/kaggle/input/covid19-xray-dataset-train-test-sets/xray_dataset_covid19/train/PNEUMONIA/2C10A413-AABE-4807-8CCE-6A2025594067.jpeg\n",
      "/kaggle/input/covid19-xray-dataset-train-test-sets/xray_dataset_covid19/train/PNEUMONIA/auntminnie-c-2020_01_28_23_51_6665_2020_01_28_Vietnam_coronavirus.jpeg\n",
      "/kaggle/input/covid19-xray-dataset-train-test-sets/xray_dataset_covid19/train/PNEUMONIA/acute-respiratory-distress-syndrome-ards-1.jpg\n",
      "/kaggle/input/covid19-xray-dataset-train-test-sets/xray_dataset_covid19/train/PNEUMONIA/23E99E2E-447C-46E5-8EB2-D35D12473C39.png\n",
      "/kaggle/input/covid19-xray-dataset-train-test-sets/xray_dataset_covid19/train/PNEUMONIA/6CB4EFC6-68FA-4CD5-940C-BEFA8DAFE9A7.jpeg\n",
      "/kaggle/input/covid19-xray-dataset-train-test-sets/xray_dataset_covid19/train/PNEUMONIA/C6EA0BE5-B01E-4113-B194-18D956675E25.jpeg\n",
      "/kaggle/input/covid19-xray-dataset-train-test-sets/xray_dataset_covid19/train/PNEUMONIA/7C69C012-7479-493F-8722-ABC29C60A2DD.jpeg\n",
      "/kaggle/input/covid19-xray-dataset-train-test-sets/xray_dataset_covid19/train/PNEUMONIA/jkms-35-e79-g001-l-a.jpg\n",
      "/kaggle/input/covid19-xray-dataset-train-test-sets/xray_dataset_covid19/train/PNEUMONIA/covid-19-pneumonia-7-PA.jpg\n",
      "/kaggle/input/covid19-xray-dataset-train-test-sets/xray_dataset_covid19/train/PNEUMONIA/1B734A89-A1BF-49A8-A1D3-66FAFA4FAC5D.jpeg\n",
      "/kaggle/input/covid19-xray-dataset-train-test-sets/xray_dataset_covid19/train/PNEUMONIA/nCoV-radiol.2020200269.fig1-day7.jpeg\n",
      "/kaggle/input/covid19-xray-dataset-train-test-sets/xray_dataset_covid19/train/PNEUMONIA/E63574A7-4188-4C8D-8D17-9D67A18A1AFA.jpeg\n",
      "/kaggle/input/covid19-xray-dataset-train-test-sets/xray_dataset_covid19/train/PNEUMONIA/7EF28E12-F628-4BEC-A8C5-E6277C2E4F60.png\n",
      "/kaggle/input/covid19-xray-dataset-train-test-sets/xray_dataset_covid19/train/PNEUMONIA/auntminnie-b-2020_01_28_23_51_6665_2020_01_28_Vietnam_coronavirus.jpeg\n",
      "/kaggle/input/covid19-xray-dataset-train-test-sets/xray_dataset_covid19/train/PNEUMONIA/F051E018-DAD1-4506-AD43-BE4CA29E960B.jpeg\n",
      "/kaggle/input/covid19-xray-dataset-train-test-sets/xray_dataset_covid19/train/PNEUMONIA/446B2CB6-B572-40AB-B01F-1910CA07086A.jpeg\n",
      "/kaggle/input/covid19-xray-dataset-train-test-sets/xray_dataset_covid19/train/PNEUMONIA/nejmoa2001191_f1-PA.jpeg\n",
      "/kaggle/input/covid19-xray-dataset-train-test-sets/xray_dataset_covid19/train/PNEUMONIA/kjr-21-e24-g001-l-a.jpg\n",
      "/kaggle/input/covid19-xray-dataset-train-test-sets/xray_dataset_covid19/train/PNEUMONIA/B59DD164-51D5-40DF-A926-6A42DD52EBE8.jpeg\n",
      "/kaggle/input/covid19-xray-dataset-train-test-sets/xray_dataset_covid19/train/PNEUMONIA/1-s2.0-S1684118220300682-main.pdf-003-b2.png\n",
      "/kaggle/input/covid19-xray-dataset-train-test-sets/xray_dataset_covid19/train/PNEUMONIA/1312A392-67A3-4EBF-9319-810CF6DA5EF6.jpeg\n",
      "/kaggle/input/covid19-xray-dataset-train-test-sets/xray_dataset_covid19/train/PNEUMONIA/auntminnie-d-2020_01_28_23_51_6665_2020_01_28_Vietnam_coronavirus.jpeg\n",
      "/kaggle/input/covid19-xray-dataset-train-test-sets/xray_dataset_covid19/train/PNEUMONIA/jkms-35-e79-g001-l-b.jpg\n",
      "/kaggle/input/covid19-xray-dataset-train-test-sets/xray_dataset_covid19/train/PNEUMONIA/41591_2020_819_Fig1_HTML.webp-day10.png\n",
      "/kaggle/input/covid19-xray-dataset-train-test-sets/xray_dataset_covid19/train/PNEUMONIA/nejmoa2001191_f4.jpeg\n",
      "/kaggle/input/covid19-xray-dataset-train-test-sets/xray_dataset_covid19/train/NORMAL/IM-0101-0001.jpeg\n",
      "/kaggle/input/covid19-xray-dataset-train-test-sets/xray_dataset_covid19/train/NORMAL/IM-0013-0001.jpeg\n",
      "/kaggle/input/covid19-xray-dataset-train-test-sets/xray_dataset_covid19/train/NORMAL/IM-0103-0001.jpeg\n",
      "/kaggle/input/covid19-xray-dataset-train-test-sets/xray_dataset_covid19/train/NORMAL/IM-0009-0001.jpeg\n",
      "/kaggle/input/covid19-xray-dataset-train-test-sets/xray_dataset_covid19/train/NORMAL/IM-0091-0001.jpeg\n",
      "/kaggle/input/covid19-xray-dataset-train-test-sets/xray_dataset_covid19/train/NORMAL/IM-0070-0001.jpeg\n",
      "/kaggle/input/covid19-xray-dataset-train-test-sets/xray_dataset_covid19/train/NORMAL/IM-0059-0001.jpeg\n",
      "/kaggle/input/covid19-xray-dataset-train-test-sets/xray_dataset_covid19/train/NORMAL/IM-0097-0001.jpeg\n",
      "/kaggle/input/covid19-xray-dataset-train-test-sets/xray_dataset_covid19/train/NORMAL/IM-0015-0001.jpeg\n",
      "/kaggle/input/covid19-xray-dataset-train-test-sets/xray_dataset_covid19/train/NORMAL/NORMAL2-IM-0027-0001.jpeg\n",
      "/kaggle/input/covid19-xray-dataset-train-test-sets/xray_dataset_covid19/train/NORMAL/IM-0041-0001.jpeg\n",
      "/kaggle/input/covid19-xray-dataset-train-test-sets/xray_dataset_covid19/train/NORMAL/IM-0084-0001.jpeg\n",
      "/kaggle/input/covid19-xray-dataset-train-test-sets/xray_dataset_covid19/train/NORMAL/IM-0029-0001.jpeg\n",
      "/kaggle/input/covid19-xray-dataset-train-test-sets/xray_dataset_covid19/train/NORMAL/IM-0081-0001.jpeg\n",
      "/kaggle/input/covid19-xray-dataset-train-test-sets/xray_dataset_covid19/train/NORMAL/IM-0110-0001.jpeg\n",
      "/kaggle/input/covid19-xray-dataset-train-test-sets/xray_dataset_covid19/train/NORMAL/IM-0035-0001.jpeg\n",
      "/kaggle/input/covid19-xray-dataset-train-test-sets/xray_dataset_covid19/train/NORMAL/IM-0105-0001.jpeg\n",
      "/kaggle/input/covid19-xray-dataset-train-test-sets/xray_dataset_covid19/train/NORMAL/IM-0021-0001.jpeg\n",
      "/kaggle/input/covid19-xray-dataset-train-test-sets/xray_dataset_covid19/train/NORMAL/NORMAL2-IM-0033-0001.jpeg\n",
      "/kaggle/input/covid19-xray-dataset-train-test-sets/xray_dataset_covid19/train/NORMAL/IM-0033-0001-0002.jpeg\n",
      "/kaggle/input/covid19-xray-dataset-train-test-sets/xray_dataset_covid19/train/NORMAL/NORMAL2-IM-0012-0001.jpeg\n",
      "/kaggle/input/covid19-xray-dataset-train-test-sets/xray_dataset_covid19/train/NORMAL/NORMAL2-IM-0028-0001.jpeg\n",
      "/kaggle/input/covid19-xray-dataset-train-test-sets/xray_dataset_covid19/train/NORMAL/IM-0022-0001.jpeg\n",
      "/kaggle/input/covid19-xray-dataset-train-test-sets/xray_dataset_covid19/train/NORMAL/NORMAL2-IM-0030-0001.jpeg\n",
      "/kaggle/input/covid19-xray-dataset-train-test-sets/xray_dataset_covid19/train/NORMAL/NORMAL2-IM-0007-0001.jpeg\n",
      "/kaggle/input/covid19-xray-dataset-train-test-sets/xray_dataset_covid19/train/NORMAL/IM-0003-0001.jpeg\n",
      "/kaggle/input/covid19-xray-dataset-train-test-sets/xray_dataset_covid19/train/NORMAL/IM-0107-0001.jpeg\n",
      "/kaggle/input/covid19-xray-dataset-train-test-sets/xray_dataset_covid19/train/NORMAL/IM-0017-0001.jpeg\n",
      "/kaggle/input/covid19-xray-dataset-train-test-sets/xray_dataset_covid19/train/NORMAL/IM-0006-0001.jpeg\n",
      "/kaggle/input/covid19-xray-dataset-train-test-sets/xray_dataset_covid19/train/NORMAL/IM-0043-0001.jpeg\n",
      "/kaggle/input/covid19-xray-dataset-train-test-sets/xray_dataset_covid19/train/NORMAL/IM-0061-0001.jpeg\n",
      "/kaggle/input/covid19-xray-dataset-train-test-sets/xray_dataset_covid19/train/NORMAL/IM-0111-0001.jpeg\n",
      "/kaggle/input/covid19-xray-dataset-train-test-sets/xray_dataset_covid19/train/NORMAL/IM-0102-0001.jpeg\n",
      "/kaggle/input/covid19-xray-dataset-train-test-sets/xray_dataset_covid19/train/NORMAL/IM-0071-0001.jpeg\n",
      "/kaggle/input/covid19-xray-dataset-train-test-sets/xray_dataset_covid19/train/NORMAL/IM-0001-0001.jpeg\n",
      "/kaggle/input/covid19-xray-dataset-train-test-sets/xray_dataset_covid19/train/NORMAL/IM-0031-0001.jpeg\n",
      "/kaggle/input/covid19-xray-dataset-train-test-sets/xray_dataset_covid19/train/NORMAL/IM-0050-0001.jpeg\n",
      "/kaggle/input/covid19-xray-dataset-train-test-sets/xray_dataset_covid19/train/NORMAL/IM-0046-0001.jpeg\n",
      "/kaggle/input/covid19-xray-dataset-train-test-sets/xray_dataset_covid19/train/NORMAL/IM-0011-0001-0001.jpeg\n",
      "/kaggle/input/covid19-xray-dataset-train-test-sets/xray_dataset_covid19/train/NORMAL/IM-0005-0001.jpeg\n",
      "/kaggle/input/covid19-xray-dataset-train-test-sets/xray_dataset_covid19/train/NORMAL/IM-0036-0001.jpeg\n",
      "/kaggle/input/covid19-xray-dataset-train-test-sets/xray_dataset_covid19/train/NORMAL/IM-0016-0001.jpeg\n",
      "/kaggle/input/covid19-xray-dataset-train-test-sets/xray_dataset_covid19/train/NORMAL/NORMAL2-IM-0013-0001.jpeg\n",
      "/kaggle/input/covid19-xray-dataset-train-test-sets/xray_dataset_covid19/train/NORMAL/IM-0030-0001.jpeg\n",
      "/kaggle/input/covid19-xray-dataset-train-test-sets/xray_dataset_covid19/train/NORMAL/NORMAL2-IM-0023-0001.jpeg\n",
      "/kaggle/input/covid19-xray-dataset-train-test-sets/xray_dataset_covid19/train/NORMAL/IM-0025-0001.jpeg\n",
      "/kaggle/input/covid19-xray-dataset-train-test-sets/xray_dataset_covid19/train/NORMAL/IM-0037-0001.jpeg\n",
      "/kaggle/input/covid19-xray-dataset-train-test-sets/xray_dataset_covid19/train/NORMAL/IM-0099-0001.jpeg\n",
      "/kaggle/input/covid19-xray-dataset-train-test-sets/xray_dataset_covid19/train/NORMAL/IM-0083-0001.jpeg\n",
      "/kaggle/input/covid19-xray-dataset-train-test-sets/xray_dataset_covid19/train/NORMAL/IM-0007-0001.jpeg\n",
      "/kaggle/input/covid19-xray-dataset-train-test-sets/xray_dataset_covid19/train/NORMAL/IM-0039-0001.jpeg\n",
      "/kaggle/input/covid19-xray-dataset-train-test-sets/xray_dataset_covid19/train/NORMAL/IM-0027-0001.jpeg\n",
      "/kaggle/input/covid19-xray-dataset-train-test-sets/xray_dataset_covid19/train/NORMAL/IM-0077-0001.jpeg\n",
      "/kaggle/input/covid19-xray-dataset-train-test-sets/xray_dataset_covid19/train/NORMAL/IM-0089-0001.jpeg\n",
      "/kaggle/input/covid19-xray-dataset-train-test-sets/xray_dataset_covid19/train/NORMAL/IM-0033-0001.jpeg\n",
      "/kaggle/input/covid19-xray-dataset-train-test-sets/xray_dataset_covid19/train/NORMAL/IM-0019-0001.jpeg\n",
      "/kaggle/input/covid19-xray-dataset-train-test-sets/xray_dataset_covid19/train/NORMAL/IM-0011-0001.jpeg\n",
      "/kaggle/input/covid19-xray-dataset-train-test-sets/xray_dataset_covid19/train/NORMAL/IM-0049-0001.jpeg\n",
      "/kaggle/input/covid19-xray-dataset-train-test-sets/xray_dataset_covid19/train/NORMAL/IM-0093-0001.jpeg\n",
      "/kaggle/input/covid19-xray-dataset-train-test-sets/xray_dataset_covid19/train/NORMAL/NORMAL2-IM-0029-0001.jpeg\n",
      "/kaggle/input/covid19-xray-dataset-train-test-sets/xray_dataset_covid19/train/NORMAL/IM-0023-0001.jpeg\n",
      "/kaggle/input/covid19-xray-dataset-train-test-sets/xray_dataset_covid19/train/NORMAL/IM-0011-0001-0002.jpeg\n",
      "/kaggle/input/covid19-xray-dataset-train-test-sets/xray_dataset_covid19/train/NORMAL/IM-0063-0001.jpeg\n",
      "/kaggle/input/covid19-xray-dataset-train-test-sets/xray_dataset_covid19/train/NORMAL/IM-0079-0001.jpeg\n",
      "/kaggle/input/covid19-xray-dataset-train-test-sets/xray_dataset_covid19/train/NORMAL/IM-0045-0001.jpeg\n",
      "/kaggle/input/covid19-xray-dataset-train-test-sets/xray_dataset_covid19/train/NORMAL/IM-0086-0001.jpeg\n",
      "/kaggle/input/covid19-xray-dataset-train-test-sets/xray_dataset_covid19/train/NORMAL/IM-0073-0001.jpeg\n",
      "/kaggle/input/covid19-xray-dataset-train-test-sets/xray_dataset_covid19/train/NORMAL/IM-0075-0001.jpeg\n",
      "/kaggle/input/covid19-xray-dataset-train-test-sets/xray_dataset_covid19/train/NORMAL/IM-0087-0001.jpeg\n",
      "/kaggle/input/covid19-xray-dataset-train-test-sets/xray_dataset_covid19/train/NORMAL/IM-0085-0001.jpeg\n",
      "/kaggle/input/covid19-xray-dataset-train-test-sets/xray_dataset_covid19/train/NORMAL/IM-0095-0001.jpeg\n",
      "/kaggle/input/covid19-xray-dataset-train-test-sets/xray_dataset_covid19/train/NORMAL/IM-0033-0001-0001.jpeg\n",
      "/kaggle/input/covid19-xray-dataset-train-test-sets/xray_dataset_covid19/train/NORMAL/IM-0069-0001.jpeg\n",
      "/kaggle/input/covid19-xray-dataset-train-test-sets/xray_dataset_covid19/train/NORMAL/IM-0010-0001.jpeg\n"
     ]
    }
   ],
   "source": [
    "import pandas as pd \n",
    "import numpy as np\n",
    "import os\n",
    "import glob\n",
    "import matplotlib.pyplot as plt \n",
    "%matplotlib inline\n",
    "import matplotlib.image as mpimg\n",
    "\n",
    "from PIL import Image \n",
    "import tensorflow as tf\n",
    "from tensorflow import keras \n",
    "from keras.models import Sequential\n",
    "from tensorflow.keras import regularizers\n",
    "from keras.preprocessing.image import ImageDataGenerator\n",
    "from tensorflow.keras.preprocessing.image import ImageDataGenerator, load_img, img_to_array\n",
    "from keras.layers import Convolution2D, MaxPooling2D, Flatten, Dense, Dropout, BatchNormalization\n",
    "\n",
    "for dirname, _, filenames in os.walk('/kaggle/input'):\n",
    "    for filename in filenames:\n",
    "        print(os.path.join(dirname, filename))"
   ]
  },
  {
   "cell_type": "code",
   "execution_count": 2,
   "metadata": {
    "execution": {
     "iopub.execute_input": "2021-01-31T12:54:13.400626Z",
     "iopub.status.busy": "2021-01-31T12:54:13.399900Z",
     "iopub.status.idle": "2021-01-31T12:54:13.402792Z",
     "shell.execute_reply": "2021-01-31T12:54:13.402375Z"
    },
    "papermill": {
     "duration": 0.030898,
     "end_time": "2021-01-31T12:54:13.402880",
     "exception": false,
     "start_time": "2021-01-31T12:54:13.371982",
     "status": "completed"
    },
    "tags": []
   },
   "outputs": [],
   "source": [
    "''' dataset path '''\n",
    "dataset_path = '../input/covid19-xray-dataset-train-test-sets/xray_dataset_covid19'"
   ]
  },
  {
   "cell_type": "code",
   "execution_count": 3,
   "metadata": {
    "execution": {
     "iopub.execute_input": "2021-01-31T12:54:13.447622Z",
     "iopub.status.busy": "2021-01-31T12:54:13.446953Z",
     "iopub.status.idle": "2021-01-31T12:54:13.449734Z",
     "shell.execute_reply": "2021-01-31T12:54:13.449227Z"
    },
    "papermill": {
     "duration": 0.026069,
     "end_time": "2021-01-31T12:54:13.449813",
     "exception": false,
     "start_time": "2021-01-31T12:54:13.423744",
     "status": "completed"
    },
    "tags": []
   },
   "outputs": [],
   "source": [
    "''' train and test path '''\n",
    "train_path = '../input/covid19-xray-dataset-train-test-sets/xray_dataset_covid19/train'\n",
    "test_path = '../input/covid19-xray-dataset-train-test-sets/xray_dataset_covid19/test'"
   ]
  },
  {
   "cell_type": "code",
   "execution_count": 4,
   "metadata": {
    "execution": {
     "iopub.execute_input": "2021-01-31T12:54:13.498225Z",
     "iopub.status.busy": "2021-01-31T12:54:13.497584Z",
     "iopub.status.idle": "2021-01-31T12:54:13.708068Z",
     "shell.execute_reply": "2021-01-31T12:54:13.707476Z"
    },
    "papermill": {
     "duration": 0.238046,
     "end_time": "2021-01-31T12:54:13.708161",
     "exception": false,
     "start_time": "2021-01-31T12:54:13.470115",
     "status": "completed"
    },
    "tags": []
   },
   "outputs": [
    {
     "name": "stdout",
     "output_type": "stream",
     "text": [
      "Found 148 images belonging to 2 classes.\n",
      "Found 40 images belonging to 2 classes.\n"
     ]
    }
   ],
   "source": [
    "''' ImageDataGenerator '''\n",
    "\n",
    "''' data augmentation '''\n",
    "train_ds = ImageDataGenerator(rescale = 1./255, shear_range = 0.2, zoom_range = 0.2, horizontal_flip = True)\n",
    "test_ds = ImageDataGenerator(rescale = 1./255)\n",
    "\n",
    "train_ds = train_datagen.flow_from_directory(train_path, target_size = (200,200), batch_size = 10, class_mode = 'binary',\n",
    "                                         color_mode = 'grayscale')\n",
    "\n",
    "test+ds = test_datagen.flow_from_directory(test_path, target_size = (200,200), batch_size = 10, class_mode = 'binary',\n",
    "                                           color_mode = 'grayscale')"
   ]
  },
  {
   "cell_type": "code",
   "execution_count": 5,
   "metadata": {
    "execution": {
     "iopub.execute_input": "2021-01-31T12:54:13.759811Z",
     "iopub.status.busy": "2021-01-31T12:54:13.759175Z",
     "iopub.status.idle": "2021-01-31T12:54:16.560521Z",
     "shell.execute_reply": "2021-01-31T12:54:16.559379Z"
    },
    "papermill": {
     "duration": 2.831452,
     "end_time": "2021-01-31T12:54:16.560641",
     "exception": false,
     "start_time": "2021-01-31T12:54:13.729189",
     "status": "completed"
    },
    "tags": []
   },
   "outputs": [],
   "source": [
    "''' Model '''\n",
    "\n",
    "''' container '''\n",
    "model = Sequential()\n",
    "\n",
    "''' Convolutional layers '''\n",
    "model.add(Convolution2D(32, (3, 3), input_shape = (200, 200, 1), activation = 'relu'))\n",
    "model.add(MaxPooling2D(pool_size = (2, 2)))\n",
    "\n",
    "model.add(Convolution2D(32, (3, 3), activation = 'relu'))\n",
    "model.add(MaxPooling2D(pool_size = (2, 2)))\n",
    "\n",
    "model.add(Convolution2D(64, (3, 3), activation = 'relu'))\n",
    "model.add(MaxPooling2D(pool_size = (2, 2)))\n",
    "\n",
    "model.add(Convolution2D(64, (3, 3), activation = 'relu'))\n",
    "model.add(MaxPooling2D(pool_size = (2, 2)))\n",
    "\n",
    "model.add(Flatten())\n",
    "\n",
    "''' Hidden Layer '''\n",
    "model.add(Dense(128, activation = 'relu'))\n",
    "\n",
    "''' Classification Layer '''\n",
    "model.add(Dense(1, activation = 'sigmoid'))"
   ]
  },
  {
   "cell_type": "code",
   "execution_count": 6,
   "metadata": {
    "execution": {
     "iopub.execute_input": "2021-01-31T12:54:16.614235Z",
     "iopub.status.busy": "2021-01-31T12:54:16.613341Z",
     "iopub.status.idle": "2021-01-31T12:54:16.619448Z",
     "shell.execute_reply": "2021-01-31T12:54:16.619833Z"
    },
    "papermill": {
     "duration": 0.037731,
     "end_time": "2021-01-31T12:54:16.619942",
     "exception": false,
     "start_time": "2021-01-31T12:54:16.582211",
     "status": "completed"
    },
    "tags": []
   },
   "outputs": [],
   "source": [
    "''' Compile the model '''\n",
    "model.compile(optimizer = 'adam', loss = 'binary_crossentropy', metrics = ['accuracy'])"
   ]
  },
  {
   "cell_type": "code",
   "execution_count": 7,
   "metadata": {
    "execution": {
     "iopub.execute_input": "2021-01-31T12:54:16.666562Z",
     "iopub.status.busy": "2021-01-31T12:54:16.665928Z",
     "iopub.status.idle": "2021-01-31T12:55:19.119153Z",
     "shell.execute_reply": "2021-01-31T12:55:19.118365Z"
    },
    "papermill": {
     "duration": 62.47813,
     "end_time": "2021-01-31T12:55:19.119270",
     "exception": false,
     "start_time": "2021-01-31T12:54:16.641140",
     "status": "completed"
    },
    "tags": []
   },
   "outputs": [
    {
     "name": "stdout",
     "output_type": "stream",
     "text": [
      "Epoch 1/10\n",
      "15/15 [==============================] - 8s 530ms/step - loss: 0.6917 - accuracy: 0.5270 - val_loss: 0.6694 - val_accuracy: 0.5000\n",
      "Epoch 2/10\n",
      "15/15 [==============================] - 5s 349ms/step - loss: 0.6619 - accuracy: 0.5811 - val_loss: 0.6685 - val_accuracy: 0.5000\n",
      "Epoch 3/10\n",
      "15/15 [==============================] - 5s 367ms/step - loss: 0.4526 - accuracy: 0.7500 - val_loss: 0.1938 - val_accuracy: 0.9250\n",
      "Epoch 4/10\n",
      "15/15 [==============================] - 5s 339ms/step - loss: 0.3166 - accuracy: 0.8851 - val_loss: 0.1075 - val_accuracy: 0.9500\n",
      "Epoch 5/10\n",
      "15/15 [==============================] - 6s 373ms/step - loss: 0.2433 - accuracy: 0.8986 - val_loss: 0.1391 - val_accuracy: 0.9250\n",
      "Epoch 6/10\n",
      "15/15 [==============================] - 5s 337ms/step - loss: 0.2614 - accuracy: 0.8986 - val_loss: 0.1183 - val_accuracy: 0.9250\n",
      "Epoch 7/10\n",
      "15/15 [==============================] - 5s 351ms/step - loss: 0.1826 - accuracy: 0.9122 - val_loss: 0.0694 - val_accuracy: 1.0000\n",
      "Epoch 8/10\n",
      "15/15 [==============================] - 5s 342ms/step - loss: 0.2115 - accuracy: 0.9324 - val_loss: 0.1752 - val_accuracy: 0.9250\n",
      "Epoch 9/10\n",
      "15/15 [==============================] - 5s 350ms/step - loss: 0.2607 - accuracy: 0.9054 - val_loss: 0.3374 - val_accuracy: 0.8000\n",
      "Epoch 10/10\n",
      "15/15 [==============================] - 5s 341ms/step - loss: 0.2243 - accuracy: 0.9122 - val_loss: 0.1645 - val_accuracy: 0.9250\n"
     ]
    }
   ],
   "source": [
    "''' training '''\n",
    "history = model.fit(training_set, epochs = 10, validation_data= test_set)"
   ]
  },
  {
   "cell_type": "code",
   "execution_count": 8,
   "metadata": {
    "execution": {
     "iopub.execute_input": "2021-01-31T12:55:19.266280Z",
     "iopub.status.busy": "2021-01-31T12:55:19.265563Z",
     "iopub.status.idle": "2021-01-31T12:55:19.269347Z",
     "shell.execute_reply": "2021-01-31T12:55:19.269747Z"
    },
    "papermill": {
     "duration": 0.081259,
     "end_time": "2021-01-31T12:55:19.269851",
     "exception": false,
     "start_time": "2021-01-31T12:55:19.188592",
     "status": "completed"
    },
    "tags": []
   },
   "outputs": [
    {
     "data": {
      "text/plain": [
       "dict_keys(['loss', 'accuracy', 'val_loss', 'val_accuracy'])"
      ]
     },
     "execution_count": 8,
     "metadata": {},
     "output_type": "execute_result"
    }
   ],
   "source": [
    "history_dict = history.history\n",
    "history_dict.keys()"
   ]
  },
  {
   "cell_type": "code",
   "execution_count": 9,
   "metadata": {
    "execution": {
     "iopub.execute_input": "2021-01-31T12:55:19.420069Z",
     "iopub.status.busy": "2021-01-31T12:55:19.419207Z",
     "iopub.status.idle": "2021-01-31T12:55:19.724094Z",
     "shell.execute_reply": "2021-01-31T12:55:19.724527Z"
    },
    "papermill": {
     "duration": 0.385549,
     "end_time": "2021-01-31T12:55:19.724647",
     "exception": false,
     "start_time": "2021-01-31T12:55:19.339098",
     "status": "completed"
    },
    "tags": []
   },
   "outputs": [
    {
     "data": {
      "image/png": "[encoded data removed]",
      "text/plain": [
       "<Figure size 432x288 with 1 Axes>"
      ]
     },
     "metadata": {
      "needs_background": "light"
     },
     "output_type": "display_data"
    },
    {
     "data": {
      "image/png": "[encoded data removed]",
      "text/plain": [
       "<Figure size 432x288 with 1 Axes>"
      ]
     },
     "metadata": {
      "needs_background": "light"
     },
     "output_type": "display_data"
    }
   ],
   "source": [
    "''' training loss and validation loss graph '''\n",
    "train_loss = history_dict['loss']\n",
    "val_loss = history_dict['val_loss']\n",
    "plt.plot(train_loss, 'bo', label='Training loss')\n",
    "plt.plot(val_loss, 'b', label='Validation loss')\n",
    "plt.title('Training and validation loss using dropout')\n",
    "plt.xlabel('Epochs')\n",
    "plt.ylabel('Loss')\n",
    "plt.legend()\n",
    "plt.show()\n",
    "\n",
    "''' training accuracy and validation accuracy '''\n",
    "train_acc = history_dict['accuracy']\n",
    "val_acc = history_dict['val_accuracy']\n",
    "plt.plot(train_acc, 'bo', label='Training accuracy')\n",
    "plt.plot(val_acc, 'b', label='Validation accuracy')\n",
    "plt.title('Training and validation accuracy usinf dropout')\n",
    "plt.xlabel('Epochs')\n",
    "plt.ylabel('accuracy')\n",
    "plt.legend()\n",
    "plt.show()"
   ]
  },
  {
   "cell_type": "code",
   "execution_count": 10,
   "metadata": {
    "execution": {
     "iopub.execute_input": "2021-01-31T12:55:19.877717Z",
     "iopub.status.busy": "2021-01-31T12:55:19.876818Z",
     "iopub.status.idle": "2021-01-31T12:55:19.937994Z",
     "shell.execute_reply": "2021-01-31T12:55:19.938684Z"
    },
    "papermill": {
     "duration": 0.142869,
     "end_time": "2021-01-31T12:55:19.938815",
     "exception": false,
     "start_time": "2021-01-31T12:55:19.795946",
     "status": "completed"
    },
    "tags": []
   },
   "outputs": [],
   "source": [
    "''' Model1 '''\n",
    "\n",
    "''' container '''\n",
    "model1 = Sequential()\n",
    "\n",
    "''' Convolutional Layers '''\n",
    "model1.add(Convolution2D(32, (3, 3), input_shape = (200, 200, 1), activation = 'relu'))\n",
    "model1.add(MaxPooling2D(pool_size = (2, 2)))\n",
    "\n",
    "model1.add(Convolution2D(32, (3, 3), activation = 'relu'))\n",
    "model1.add(MaxPooling2D(pool_size = (2, 2)))\n",
    "\n",
    "model1.add(Convolution2D(32, (3, 3), activation = 'relu'))\n",
    "model1.add(MaxPooling2D(pool_size = (2, 2)))\n",
    "\n",
    "model1.add(Convolution2D(64, (3, 3), activation = 'relu'))\n",
    "model1.add(MaxPooling2D(pool_size = (2, 2)))\n",
    "\n",
    "model1.add(Flatten())\n",
    "\n",
    "''' Hidden Layer '''\n",
    "model1.add(Dense(128, activation = 'relu'))\n",
    "\n",
    "''' Classification Layer '''\n",
    "model1.add(Dense(1, activation = 'sigmoid'))"
   ]
  },
  {
   "cell_type": "code",
   "execution_count": 11,
   "metadata": {
    "execution": {
     "iopub.execute_input": "2021-01-31T12:55:20.091875Z",
     "iopub.status.busy": "2021-01-31T12:55:20.090909Z",
     "iopub.status.idle": "2021-01-31T12:55:20.097870Z",
     "shell.execute_reply": "2021-01-31T12:55:20.097472Z"
    },
    "papermill": {
     "duration": 0.086865,
     "end_time": "2021-01-31T12:55:20.097969",
     "exception": false,
     "start_time": "2021-01-31T12:55:20.011104",
     "status": "completed"
    },
    "tags": []
   },
   "outputs": [],
   "source": [
    "''' compile the model '''\n",
    "model1.compile(optimizer = 'adam', loss = 'binary_crossentropy', metrics = ['accuracy'])"
   ]
  },
  {
   "cell_type": "code",
   "execution_count": 12,
   "metadata": {
    "execution": {
     "iopub.execute_input": "2021-01-31T12:55:20.244194Z",
     "iopub.status.busy": "2021-01-31T12:55:20.243185Z",
     "iopub.status.idle": "2021-01-31T12:56:17.037347Z",
     "shell.execute_reply": "2021-01-31T12:56:17.038313Z"
    },
    "papermill": {
     "duration": 56.870329,
     "end_time": "2021-01-31T12:56:17.038470",
     "exception": false,
     "start_time": "2021-01-31T12:55:20.168141",
     "status": "completed"
    },
    "tags": []
   },
   "outputs": [
    {
     "name": "stdout",
     "output_type": "stream",
     "text": [
      "Epoch 1/10\n",
      "15/15 [==============================] - 6s 401ms/step - loss: 0.7144 - accuracy: 0.4459 - val_loss: 0.6767 - val_accuracy: 0.5250\n",
      "Epoch 2/10\n",
      "15/15 [==============================] - 5s 360ms/step - loss: 0.6665 - accuracy: 0.6284 - val_loss: 0.5682 - val_accuracy: 0.7500\n",
      "Epoch 3/10\n",
      "15/15 [==============================] - 5s 335ms/step - loss: 0.5820 - accuracy: 0.7365 - val_loss: 0.3481 - val_accuracy: 0.9250\n",
      "Epoch 4/10\n",
      "15/15 [==============================] - 5s 355ms/step - loss: 0.3669 - accuracy: 0.8243 - val_loss: 0.1192 - val_accuracy: 0.9750\n",
      "Epoch 5/10\n",
      "15/15 [==============================] - 5s 326ms/step - loss: 0.2881 - accuracy: 0.8919 - val_loss: 0.0907 - val_accuracy: 0.9750\n",
      "Epoch 6/10\n",
      "15/15 [==============================] - 5s 344ms/step - loss: 0.1901 - accuracy: 0.9459 - val_loss: 0.0723 - val_accuracy: 0.9750\n",
      "Epoch 7/10\n",
      "15/15 [==============================] - 6s 375ms/step - loss: 0.2549 - accuracy: 0.8919 - val_loss: 0.1378 - val_accuracy: 0.9750\n",
      "Epoch 8/10\n",
      "15/15 [==============================] - 5s 337ms/step - loss: 0.2385 - accuracy: 0.9324 - val_loss: 0.1362 - val_accuracy: 0.9250\n",
      "Epoch 9/10\n",
      "15/15 [==============================] - 5s 331ms/step - loss: 0.1897 - accuracy: 0.9257 - val_loss: 0.0774 - val_accuracy: 1.0000\n",
      "Epoch 10/10\n",
      "15/15 [==============================] - 5s 355ms/step - loss: 0.1480 - accuracy: 0.9527 - val_loss: 0.0468 - val_accuracy: 0.9750\n"
     ]
    }
   ],
   "source": [
    "''' training '''\n",
    "history1 = model1.fit(training_set, epochs = 10, validation_data= test_set)"
   ]
  },
  {
   "cell_type": "code",
   "execution_count": 13,
   "metadata": {
    "execution": {
     "iopub.execute_input": "2021-01-31T12:56:17.276796Z",
     "iopub.status.busy": "2021-01-31T12:56:17.276269Z",
     "iopub.status.idle": "2021-01-31T12:56:17.281566Z",
     "shell.execute_reply": "2021-01-31T12:56:17.282115Z"
    },
    "papermill": {
     "duration": 0.126923,
     "end_time": "2021-01-31T12:56:17.282225",
     "exception": false,
     "start_time": "2021-01-31T12:56:17.155302",
     "status": "completed"
    },
    "tags": []
   },
   "outputs": [
    {
     "data": {
      "text/plain": [
       "dict_keys(['loss', 'accuracy', 'val_loss', 'val_accuracy'])"
      ]
     },
     "execution_count": 13,
     "metadata": {},
     "output_type": "execute_result"
    }
   ],
   "source": [
    "hist_dict1 = history1.history\n",
    "hist_dict1.keys()"
   ]
  },
  {
   "cell_type": "code",
   "execution_count": 14,
   "metadata": {
    "execution": {
     "iopub.execute_input": "2021-01-31T12:56:17.531685Z",
     "iopub.status.busy": "2021-01-31T12:56:17.529959Z",
     "iopub.status.idle": "2021-01-31T12:56:17.801776Z",
     "shell.execute_reply": "2021-01-31T12:56:17.802247Z"
    },
    "papermill": {
     "duration": 0.403229,
     "end_time": "2021-01-31T12:56:17.802373",
     "exception": false,
     "start_time": "2021-01-31T12:56:17.399144",
     "status": "completed"
    },
    "tags": []
   },
   "outputs": [
    {
     "data": {
      "image/png": "[encoded data removed]",
      "text/plain": [
       "<Figure size 432x288 with 1 Axes>"
      ]
     },
     "metadata": {
      "needs_background": "light"
     },
     "output_type": "display_data"
    },
    {
     "data": {
      "image/png": "[encoded data removed]",
      "text/plain": [
       "<Figure size 432x288 with 1 Axes>"
      ]
     },
     "metadata": {
      "needs_background": "light"
     },
     "output_type": "display_data"
    }
   ],
   "source": [
    "''' training loss and validation loss graph '''\n",
    "train_loss = hist_dict1['loss']\n",
    "val_loss = hist_dict1['val_loss']\n",
    "plt.plot(train_loss, 'bo', label='Training loss')\n",
    "plt.plot(val_loss, 'b', label='Validation loss')\n",
    "plt.title('Training and validation loss -low')\n",
    "plt.xlabel('Epochs')\n",
    "plt.ylabel('Loss')\n",
    "plt.legend()\n",
    "plt.show()\n",
    "\n",
    "''' training accuracy and validation accuracy graph '''\n",
    "train_acc = hist_dict1['accuracy']\n",
    "val_acc = hist_dict1['val_accuracy']\n",
    "plt.plot(train_acc, 'bo', label='Training accuracy')\n",
    "plt.plot(val_acc, 'b', label='Validation accuracy')\n",
    "plt.title('Training and validation accuracy low_')\n",
    "plt.xlabel('Epochs')\n",
    "plt.ylabel('accuracy')\n",
    "plt.legend()\n",
    "plt.show()"
   ]
  },
  {
   "cell_type": "code",
   "execution_count": 15,
   "metadata": {
    "execution": {
     "iopub.execute_input": "2021-01-31T12:56:18.070189Z",
     "iopub.status.busy": "2021-01-31T12:56:18.069340Z",
     "iopub.status.idle": "2021-01-31T12:56:18.155943Z",
     "shell.execute_reply": "2021-01-31T12:56:18.155470Z"
    },
    "papermill": {
     "duration": 0.227297,
     "end_time": "2021-01-31T12:56:18.156070",
     "exception": false,
     "start_time": "2021-01-31T12:56:17.928773",
     "status": "completed"
    },
    "tags": []
   },
   "outputs": [],
   "source": [
    "''' Model2 '''\n",
    "\n",
    "''' container '''\n",
    "model2 = Sequential()\n",
    "\n",
    "''' Convolutional Layers '''\n",
    "model2.add(Convolution2D(32, (3, 3), input_shape = (200, 200, 1), activation = 'relu'))\n",
    "model2.add(MaxPooling2D(pool_size = (2, 2)))\n",
    "model2.add(Dropout(0.2))\n",
    "\n",
    "model2.add(Convolution2D(32, (3, 3), activation = 'relu'))\n",
    "model2.add(MaxPooling2D(pool_size = (2, 2)))\n",
    "\n",
    "model2.add(Convolution2D(64, (3, 3), activation = 'relu'))\n",
    "model2.add(MaxPooling2D(pool_size = (2, 2)))\n",
    "model2.add(Dropout(0.2))\n",
    "\n",
    "model2.add(Convolution2D(64, (3, 3), activation = 'relu'))\n",
    "model2.add(MaxPooling2D(pool_size = (2, 2)))\n",
    "\n",
    "model2.add(Flatten())\n",
    "\n",
    "''' Hidden Layer '''\n",
    "model2.add(Dense(128, activation = 'relu'))\n",
    "model2.add(Dropout(0.2))\n",
    "\n",
    "''' Classification Layer '''\n",
    "model2.add(Dense(1, activation = 'sigmoid'))"
   ]
  },
  {
   "cell_type": "code",
   "execution_count": 16,
   "metadata": {
    "execution": {
     "iopub.execute_input": "2021-01-31T12:56:18.404796Z",
     "iopub.status.busy": "2021-01-31T12:56:18.404278Z",
     "iopub.status.idle": "2021-01-31T12:56:18.410641Z",
     "shell.execute_reply": "2021-01-31T12:56:18.411240Z"
    },
    "papermill": {
     "duration": 0.135013,
     "end_time": "2021-01-31T12:56:18.411407",
     "exception": false,
     "start_time": "2021-01-31T12:56:18.276394",
     "status": "completed"
    },
    "tags": []
   },
   "outputs": [],
   "source": [
    "''' compile the model '''\n",
    "model2.compile(loss='binary_crossentropy',optimizer='Adam',metrics=['accuracy'])"
   ]
  },
  {
   "cell_type": "code",
   "execution_count": 17,
   "metadata": {
    "execution": {
     "iopub.execute_input": "2021-01-31T12:56:18.655069Z",
     "iopub.status.busy": "2021-01-31T12:56:18.654103Z",
     "iopub.status.idle": "2021-01-31T12:57:15.032301Z",
     "shell.execute_reply": "2021-01-31T12:57:15.031356Z"
    },
    "papermill": {
     "duration": 56.502545,
     "end_time": "2021-01-31T12:57:15.032437",
     "exception": false,
     "start_time": "2021-01-31T12:56:18.529892",
     "status": "completed"
    },
    "tags": []
   },
   "outputs": [
    {
     "name": "stdout",
     "output_type": "stream",
     "text": [
      "Epoch 1/10\n",
      "15/15 [==============================] - 5s 344ms/step - loss: 0.6988 - accuracy: 0.5000 - val_loss: 0.6762 - val_accuracy: 0.9500\n",
      "Epoch 2/10\n",
      "15/15 [==============================] - 6s 383ms/step - loss: 0.5715 - accuracy: 0.7365 - val_loss: 0.4981 - val_accuracy: 0.6500\n",
      "Epoch 3/10\n",
      "15/15 [==============================] - 5s 337ms/step - loss: 0.5099 - accuracy: 0.7703 - val_loss: 0.4566 - val_accuracy: 0.7250\n",
      "Epoch 4/10\n",
      "15/15 [==============================] - 5s 353ms/step - loss: 0.4164 - accuracy: 0.8378 - val_loss: 0.3444 - val_accuracy: 0.8750\n",
      "Epoch 5/10\n",
      "15/15 [==============================] - 5s 331ms/step - loss: 0.3035 - accuracy: 0.8784 - val_loss: 0.2072 - val_accuracy: 0.9250\n",
      "Epoch 6/10\n",
      "15/15 [==============================] - 5s 363ms/step - loss: 0.2464 - accuracy: 0.8716 - val_loss: 0.1667 - val_accuracy: 0.9750\n",
      "Epoch 7/10\n",
      "15/15 [==============================] - 5s 326ms/step - loss: 0.2216 - accuracy: 0.9189 - val_loss: 0.1542 - val_accuracy: 0.9500\n",
      "Epoch 8/10\n",
      "15/15 [==============================] - 6s 385ms/step - loss: 0.2649 - accuracy: 0.8919 - val_loss: 0.2833 - val_accuracy: 0.9250\n",
      "Epoch 9/10\n",
      "15/15 [==============================] - 5s 321ms/step - loss: 0.2232 - accuracy: 0.9122 - val_loss: 0.1122 - val_accuracy: 1.0000\n",
      "Epoch 10/10\n",
      "15/15 [==============================] - 5s 348ms/step - loss: 0.2522 - accuracy: 0.9189 - val_loss: 0.1144 - val_accuracy: 1.0000\n"
     ]
    }
   ],
   "source": [
    "''' training '''\n",
    "history2 = model2.fit(training_set, epochs = 10, validation_data= test_set)"
   ]
  },
  {
   "cell_type": "code",
   "execution_count": 18,
   "metadata": {
    "execution": {
     "iopub.execute_input": "2021-01-31T12:57:15.372992Z",
     "iopub.status.busy": "2021-01-31T12:57:15.372234Z",
     "iopub.status.idle": "2021-01-31T12:57:15.375396Z",
     "shell.execute_reply": "2021-01-31T12:57:15.375773Z"
    },
    "papermill": {
     "duration": 0.175919,
     "end_time": "2021-01-31T12:57:15.375886",
     "exception": false,
     "start_time": "2021-01-31T12:57:15.199967",
     "status": "completed"
    },
    "tags": []
   },
   "outputs": [
    {
     "data": {
      "text/plain": [
       "dict_keys(['loss', 'accuracy', 'val_loss', 'val_accuracy'])"
      ]
     },
     "execution_count": 18,
     "metadata": {},
     "output_type": "execute_result"
    }
   ],
   "source": [
    "hist_dict2 = history2.history\n",
    "hist_dict2.keys()"
   ]
  },
  {
   "cell_type": "code",
   "execution_count": 19,
   "metadata": {
    "execution": {
     "iopub.execute_input": "2021-01-31T12:57:15.722033Z",
     "iopub.status.busy": "2021-01-31T12:57:15.721157Z",
     "iopub.status.idle": "2021-01-31T12:57:15.991968Z",
     "shell.execute_reply": "2021-01-31T12:57:15.992403Z"
    },
    "papermill": {
     "duration": 0.451109,
     "end_time": "2021-01-31T12:57:15.992523",
     "exception": false,
     "start_time": "2021-01-31T12:57:15.541414",
     "status": "completed"
    },
    "tags": []
   },
   "outputs": [
    {
     "data": {
      "image/png": "[encoded data removed]",
      "text/plain": [
       "<Figure size 432x288 with 1 Axes>"
      ]
     },
     "metadata": {
      "needs_background": "light"
     },
     "output_type": "display_data"
    },
    {
     "data": {
      "image/png": "[encoded data removed]",
      "text/plain": [
       "<Figure size 432x288 with 1 Axes>"
      ]
     },
     "metadata": {
      "needs_background": "light"
     },
     "output_type": "display_data"
    }
   ],
   "source": [
    "''' training loss and validation loss graph '''\n",
    "train_loss = hist_dict2['loss']\n",
    "val_loss = hist_dict2['val_loss']\n",
    "plt.plot(train_loss, 'bo', label='Training loss')\n",
    "plt.plot(val_loss, 'b', label='Validation loss')\n",
    "plt.title('Training and validation loss using dropout')\n",
    "plt.xlabel('Epochs')\n",
    "plt.ylabel('Loss')\n",
    "plt.legend()\n",
    "plt.show()\n",
    "\n",
    "''' training accuracy and validation accuracy graph '''\n",
    "train_acc = hist_dict2['accuracy']\n",
    "val_acc = hist_dict2['val_accuracy']\n",
    "plt.plot(train_acc, 'bo', label='Training accuracy')\n",
    "plt.plot(val_acc, 'b', label='Validation accuracy')\n",
    "plt.title('Training and validation accuracy usinf dropout')\n",
    "plt.xlabel('Epochs')\n",
    "plt.ylabel('accuracy')\n",
    "plt.legend()\n",
    "plt.show()"
   ]
  },
  {
   "cell_type": "code",
   "execution_count": 20,
   "metadata": {
    "execution": {
     "iopub.execute_input": "2021-01-31T12:57:16.356693Z",
     "iopub.status.busy": "2021-01-31T12:57:16.355776Z",
     "iopub.status.idle": "2021-01-31T12:57:16.413608Z",
     "shell.execute_reply": "2021-01-31T12:57:16.412900Z"
    },
    "papermill": {
     "duration": 0.24419,
     "end_time": "2021-01-31T12:57:16.413715",
     "exception": false,
     "start_time": "2021-01-31T12:57:16.169525",
     "status": "completed"
    },
    "tags": []
   },
   "outputs": [],
   "source": [
    "''' Model3 '''\n",
    "\n",
    "''' container '''\n",
    "model3 = Sequential()\n",
    "\n",
    "''' Convolutional Layers '''\n",
    "model3.add(Convolution2D(32, (3, 3),kernel_regularizer=regularizers.l1(0.001),input_shape = (200, 200, 1), activation = 'relu'))\n",
    "model3.add(MaxPooling2D(pool_size = (2, 2)))\n",
    "\n",
    "model3.add(Convolution2D(32, (3, 3),kernel_regularizer=regularizers.l1(0.001), activation = 'relu'))\n",
    "model3.add(MaxPooling2D(pool_size = (2, 2)))\n",
    "\n",
    "model3.add(Convolution2D(64, (3, 3),kernel_regularizer=regularizers.l1(0.001), activation = 'relu'))\n",
    "model3.add(MaxPooling2D(pool_size = (2, 2)))\n",
    "\n",
    "model3.add(Convolution2D(64, (3, 3),kernel_regularizer=regularizers.l1(0.001), activation = 'relu'))\n",
    "model3.add(MaxPooling2D(pool_size = (2, 2)))\n",
    "\n",
    "model3.add(Flatten())\n",
    "\n",
    "''' Hidden Layer '''\n",
    "model3.add(Dense(128, activation = 'relu'))\n",
    "\n",
    "''' Classification Layer '''\n",
    "model3.add(Dense(1, activation = 'sigmoid'))"
   ]
  },
  {
   "cell_type": "code",
   "execution_count": 21,
   "metadata": {
    "execution": {
     "iopub.execute_input": "2021-01-31T12:57:16.758230Z",
     "iopub.status.busy": "2021-01-31T12:57:16.756797Z",
     "iopub.status.idle": "2021-01-31T12:57:16.764240Z",
     "shell.execute_reply": "2021-01-31T12:57:16.763767Z"
    },
    "papermill": {
     "duration": 0.184442,
     "end_time": "2021-01-31T12:57:16.764332",
     "exception": false,
     "start_time": "2021-01-31T12:57:16.579890",
     "status": "completed"
    },
    "tags": []
   },
   "outputs": [],
   "source": [
    "''' Compile the model '''\n",
    "model3.compile(optimizer = 'adam', loss = 'binary_crossentropy', metrics = ['accuracy'])"
   ]
  },
  {
   "cell_type": "code",
   "execution_count": 22,
   "metadata": {
    "execution": {
     "iopub.execute_input": "2021-01-31T12:57:17.105747Z",
     "iopub.status.busy": "2021-01-31T12:57:17.104690Z",
     "iopub.status.idle": "2021-01-31T12:58:13.244794Z",
     "shell.execute_reply": "2021-01-31T12:58:13.244341Z"
    },
    "papermill": {
     "duration": 56.313087,
     "end_time": "2021-01-31T12:58:13.244898",
     "exception": false,
     "start_time": "2021-01-31T12:57:16.931811",
     "status": "completed"
    },
    "tags": []
   },
   "outputs": [
    {
     "name": "stdout",
     "output_type": "stream",
     "text": [
      "Epoch 1/10\n",
      "15/15 [==============================] - 6s 367ms/step - loss: 2.9670 - accuracy: 0.4730 - val_loss: 2.5656 - val_accuracy: 0.9750\n",
      "Epoch 2/10\n",
      "15/15 [==============================] - 5s 303ms/step - loss: 2.2828 - accuracy: 0.7230 - val_loss: 1.9680 - val_accuracy: 0.5000\n",
      "Epoch 3/10\n",
      "15/15 [==============================] - 5s 352ms/step - loss: 1.7201 - accuracy: 0.7432 - val_loss: 1.3434 - val_accuracy: 0.9500\n",
      "Epoch 4/10\n",
      "15/15 [==============================] - 5s 366ms/step - loss: 1.1474 - accuracy: 0.7905 - val_loss: 0.7374 - val_accuracy: 0.9750\n",
      "Epoch 5/10\n",
      "15/15 [==============================] - 5s 340ms/step - loss: 0.8252 - accuracy: 0.8784 - val_loss: 0.6201 - val_accuracy: 0.9500\n",
      "Epoch 6/10\n",
      "15/15 [==============================] - 5s 336ms/step - loss: 0.7869 - accuracy: 0.8378 - val_loss: 0.6496 - val_accuracy: 0.8250\n",
      "Epoch 7/10\n",
      "15/15 [==============================] - 5s 352ms/step - loss: 0.6641 - accuracy: 0.8649 - val_loss: 0.5279 - val_accuracy: 0.9000\n",
      "Epoch 8/10\n",
      "15/15 [==============================] - 5s 335ms/step - loss: 0.5287 - accuracy: 0.8581 - val_loss: 0.4697 - val_accuracy: 0.9000\n",
      "Epoch 9/10\n",
      "15/15 [==============================] - 5s 358ms/step - loss: 0.4261 - accuracy: 0.9324 - val_loss: 0.3494 - val_accuracy: 0.9500\n",
      "Epoch 10/10\n",
      "15/15 [==============================] - 6s 370ms/step - loss: 0.4624 - accuracy: 0.9189 - val_loss: 0.3600 - val_accuracy: 0.9250\n"
     ]
    }
   ],
   "source": [
    "''' training '''\n",
    "history3 = model3.fit(training_set, epochs = 10, validation_data= test_set)"
   ]
  },
  {
   "cell_type": "code",
   "execution_count": 23,
   "metadata": {
    "execution": {
     "iopub.execute_input": "2021-01-31T12:58:13.679832Z",
     "iopub.status.busy": "2021-01-31T12:58:13.678961Z",
     "iopub.status.idle": "2021-01-31T12:58:13.681703Z",
     "shell.execute_reply": "2021-01-31T12:58:13.682137Z"
    },
    "papermill": {
     "duration": 0.221514,
     "end_time": "2021-01-31T12:58:13.682245",
     "exception": false,
     "start_time": "2021-01-31T12:58:13.460731",
     "status": "completed"
    },
    "tags": []
   },
   "outputs": [
    {
     "data": {
      "text/plain": [
       "dict_keys(['loss', 'accuracy', 'val_loss', 'val_accuracy'])"
      ]
     },
     "execution_count": 23,
     "metadata": {},
     "output_type": "execute_result"
    }
   ],
   "source": [
    "hist_dict3 = history3.history\n",
    "hist_dict3.keys()"
   ]
  },
  {
   "cell_type": "code",
   "execution_count": 24,
   "metadata": {
    "execution": {
     "iopub.execute_input": "2021-01-31T12:58:14.128174Z",
     "iopub.status.busy": "2021-01-31T12:58:14.125309Z",
     "iopub.status.idle": "2021-01-31T12:58:14.419701Z",
     "shell.execute_reply": "2021-01-31T12:58:14.420179Z"
    },
    "papermill": {
     "duration": 0.524765,
     "end_time": "2021-01-31T12:58:14.420351",
     "exception": false,
     "start_time": "2021-01-31T12:58:13.895586",
     "status": "completed"
    },
    "tags": []
   },
   "outputs": [
    {
     "data": {
      "image/png": "[encoded data removed]",
      "text/plain": [
       "<Figure size 432x288 with 1 Axes>"
      ]
     },
     "metadata": {
      "needs_background": "light"
     },
     "output_type": "display_data"
    },
    {
     "data": {
      "image/png": "[encoded data removed]",
      "text/plain": [
       "<Figure size 432x288 with 1 Axes>"
      ]
     },
     "metadata": {
      "needs_background": "light"
     },
     "output_type": "display_data"
    }
   ],
   "source": [
    "''' training loss and validation loss graph '''\n",
    "train_loss = hist_dict3['loss']\n",
    "val_loss = hist_dict3['val_loss']\n",
    "plt.plot(l1_loss_values, 'bo', label='Training loss')\n",
    "plt.plot(l1_val_loss_values, 'b', label='Validation loss')\n",
    "plt.title('Training and validation loss using l1_')\n",
    "plt.xlabel('Epochs')\n",
    "plt.ylabel('Loss')\n",
    "plt.legend()\n",
    "plt.show()\n",
    "\n",
    "''' training accuracy and validation accuracy graph '''\n",
    "train_acc = hist_dict3['accuracy']\n",
    "val_acc = hist_dict3['val_accuracy']\n",
    "plt.plot(l1_acc_values, 'bo', label='Training accuracy')\n",
    "plt.plot(l1_val_acc_values, 'b', label='Validation accuracy')\n",
    "plt.title('Training and validation accuracy usinf l1_')\n",
    "plt.xlabel('Epochs')\n",
    "plt.ylabel('accuracy')\n",
    "plt.legend()\n",
    "plt.show()"
   ]
  },
  {
   "cell_type": "code",
   "execution_count": 25,
   "metadata": {
    "execution": {
     "iopub.execute_input": "2021-01-31T12:58:14.872545Z",
     "iopub.status.busy": "2021-01-31T12:58:14.871767Z",
     "iopub.status.idle": "2021-01-31T12:58:14.932335Z",
     "shell.execute_reply": "2021-01-31T12:58:14.931363Z"
    },
    "papermill": {
     "duration": 0.290676,
     "end_time": "2021-01-31T12:58:14.932437",
     "exception": false,
     "start_time": "2021-01-31T12:58:14.641761",
     "status": "completed"
    },
    "tags": []
   },
   "outputs": [],
   "source": [
    "''' Model4''' \n",
    "\n",
    "''' container '''\n",
    "model4 = Sequential()\n",
    "\n",
    "''' Convolutional Layers '''\n",
    "model4.add(Convolution2D(32, (3, 3),kernel_regularizer=regularizers.l2(0.001), input_shape = (200, 200, 1), activation = 'relu'))\n",
    "model4.add(MaxPooling2D(pool_size = (2, 2)))\n",
    "\n",
    "model4.add(Convolution2D(32, (3, 3), kernel_regularizer=regularizers.l2(0.001),activation = 'relu'))\n",
    "model4.add(MaxPooling2D(pool_size = (2, 2)))\n",
    "\n",
    "model4.add(Convolution2D(64, (3, 3), kernel_regularizer=regularizers.l2(0.001),activation = 'relu'))\n",
    "model4.add(MaxPooling2D(pool_size = (2, 2)))\n",
    "\n",
    "model4.add(Convolution2D(64, (3, 3), kernel_regularizer=regularizers.l2(0.001),activation = 'relu'))\n",
    "model4.add(MaxPooling2D(pool_size = (2, 2)))\n",
    "\n",
    "model4.add(Flatten())\n",
    "\n",
    "''' Hidden Layer '''\n",
    "model4.add(Dense(128, activation = 'relu'))\n",
    "\n",
    "''' Classification Layer '''\n",
    "model4.add(Dense(1, activation = 'sigmoid'))"
   ]
  },
  {
   "cell_type": "code",
   "execution_count": 26,
   "metadata": {
    "execution": {
     "iopub.execute_input": "2021-01-31T12:58:15.377665Z",
     "iopub.status.busy": "2021-01-31T12:58:15.376844Z",
     "iopub.status.idle": "2021-01-31T12:58:15.382289Z",
     "shell.execute_reply": "2021-01-31T12:58:15.382790Z"
    },
    "papermill": {
     "duration": 0.233669,
     "end_time": "2021-01-31T12:58:15.382897",
     "exception": false,
     "start_time": "2021-01-31T12:58:15.149228",
     "status": "completed"
    },
    "tags": []
   },
   "outputs": [],
   "source": [
    "''' compile the model '''\n",
    "model4.compile(optimizer = 'adam', loss = 'binary_crossentropy', metrics = ['accuracy'])"
   ]
  },
  {
   "cell_type": "code",
   "execution_count": 27,
   "metadata": {
    "execution": {
     "iopub.execute_input": "2021-01-31T12:58:15.822938Z",
     "iopub.status.busy": "2021-01-31T12:58:15.821821Z",
     "iopub.status.idle": "2021-01-31T12:59:11.925780Z",
     "shell.execute_reply": "2021-01-31T12:59:11.924873Z"
    },
    "papermill": {
     "duration": 56.325376,
     "end_time": "2021-01-31T12:59:11.925921",
     "exception": false,
     "start_time": "2021-01-31T12:58:15.600545",
     "status": "completed"
    },
    "tags": []
   },
   "outputs": [
    {
     "name": "stdout",
     "output_type": "stream",
     "text": [
      "Epoch 1/10\n",
      "15/15 [==============================] - 5s 362ms/step - loss: 0.8462 - accuracy: 0.4392 - val_loss: 0.7909 - val_accuracy: 0.5000\n",
      "Epoch 2/10\n",
      "15/15 [==============================] - 5s 330ms/step - loss: 0.7779 - accuracy: 0.5270 - val_loss: 0.7605 - val_accuracy: 0.5000\n",
      "Epoch 3/10\n",
      "15/15 [==============================] - 5s 312ms/step - loss: 0.7481 - accuracy: 0.5000 - val_loss: 0.7049 - val_accuracy: 0.5000\n",
      "Epoch 4/10\n",
      "15/15 [==============================] - 5s 352ms/step - loss: 0.6265 - accuracy: 0.7365 - val_loss: 0.2771 - val_accuracy: 0.9500\n",
      "Epoch 5/10\n",
      "15/15 [==============================] - 6s 377ms/step - loss: 0.4406 - accuracy: 0.8243 - val_loss: 0.1157 - val_accuracy: 0.9750\n",
      "Epoch 6/10\n",
      "15/15 [==============================] - 5s 345ms/step - loss: 0.4004 - accuracy: 0.8581 - val_loss: 0.1834 - val_accuracy: 0.9500\n",
      "Epoch 7/10\n",
      "15/15 [==============================] - 5s 336ms/step - loss: 0.3491 - accuracy: 0.8514 - val_loss: 0.1981 - val_accuracy: 0.9500\n",
      "Epoch 8/10\n",
      "15/15 [==============================] - 5s 353ms/step - loss: 0.3093 - accuracy: 0.9189 - val_loss: 0.1846 - val_accuracy: 0.9500\n",
      "Epoch 9/10\n",
      "15/15 [==============================] - 5s 333ms/step - loss: 0.3207 - accuracy: 0.8986 - val_loss: 0.1732 - val_accuracy: 0.9500\n",
      "Epoch 10/10\n",
      "15/15 [==============================] - 5s 348ms/step - loss: 0.3235 - accuracy: 0.8649 - val_loss: 0.2329 - val_accuracy: 0.9500\n"
     ]
    }
   ],
   "source": [
    "''' training '''\n",
    "history4 = model4.fit(training_set, epochs = 10, validation_data= test_set)"
   ]
  },
  {
   "cell_type": "code",
   "execution_count": 28,
   "metadata": {
    "execution": {
     "iopub.execute_input": "2021-01-31T12:59:12.506743Z",
     "iopub.status.busy": "2021-01-31T12:59:12.506025Z",
     "iopub.status.idle": "2021-01-31T12:59:12.509423Z",
     "shell.execute_reply": "2021-01-31T12:59:12.509822Z"
    },
    "papermill": {
     "duration": 0.279372,
     "end_time": "2021-01-31T12:59:12.509928",
     "exception": false,
     "start_time": "2021-01-31T12:59:12.230556",
     "status": "completed"
    },
    "tags": []
   },
   "outputs": [
    {
     "data": {
      "text/plain": [
       "dict_keys(['loss', 'accuracy', 'val_loss', 'val_accuracy'])"
      ]
     },
     "execution_count": 28,
     "metadata": {},
     "output_type": "execute_result"
    }
   ],
   "source": [
    "hist_dict4 = history4.history\n",
    "hist_dict4.keys()"
   ]
  },
  {
   "cell_type": "code",
   "execution_count": 29,
   "metadata": {
    "execution": {
     "iopub.execute_input": "2021-01-31T12:59:13.056070Z",
     "iopub.status.busy": "2021-01-31T12:59:13.055213Z",
     "iopub.status.idle": "2021-01-31T12:59:13.475663Z",
     "shell.execute_reply": "2021-01-31T12:59:13.476184Z"
    },
    "papermill": {
     "duration": 0.700899,
     "end_time": "2021-01-31T12:59:13.476329",
     "exception": false,
     "start_time": "2021-01-31T12:59:12.775430",
     "status": "completed"
    },
    "tags": []
   },
   "outputs": [
    {
     "data": {
      "image/png": "[encoded data removed]",
      "text/plain": [
       "<Figure size 432x288 with 1 Axes>"
      ]
     },
     "metadata": {
      "needs_background": "light"
     },
     "output_type": "display_data"
    },
    {
     "data": {
      "image/png": "[encoded data removed]",
      "text/plain": [
       "<Figure size 432x288 with 1 Axes>"
      ]
     },
     "metadata": {
      "needs_background": "light"
     },
     "output_type": "display_data"
    }
   ],
   "source": [
    "''' training loss and validation loss graph '''\n",
    "train_los = hist_dict4['loss']\n",
    "val_loss = hist_dict4['val_loss']\n",
    "plt.plot(train_loss, 'bo', label='Training loss')\n",
    "plt.plot(val_loss, 'b', label='Validation loss')\n",
    "plt.title('Training and validation loss using l2_')\n",
    "plt.xlabel('Epochs')\n",
    "plt.ylabel('Loss')\n",
    "plt.legend()\n",
    "plt.show()\n",
    "\n",
    "''' training accuracy and validation accuracy graph '''\n",
    "train_acc = hist_dict4['accuracy']\n",
    "test_acc = hist_dict4['val_accuracy']\n",
    "plt.plot(train_acc, 'bo', label='Training accuracy')\n",
    "plt.plot(val_acc, 'b', label='Validation accuracy')\n",
    "plt.title('Training and validation accuracy usinf l2_')\n",
    "plt.xlabel('Epochs')\n",
    "plt.ylabel('accuracy')\n",
    "plt.legend()\n",
    "plt.show()"
   ]
  },
  {
   "cell_type": "code",
   "execution_count": 30,
   "metadata": {
    "execution": {
     "iopub.execute_input": "2021-01-31T12:59:14.019111Z",
     "iopub.status.busy": "2021-01-31T12:59:14.018533Z",
     "iopub.status.idle": "2021-01-31T12:59:14.078107Z",
     "shell.execute_reply": "2021-01-31T12:59:14.077410Z"
    },
    "papermill": {
     "duration": 0.33677,
     "end_time": "2021-01-31T12:59:14.078204",
     "exception": false,
     "start_time": "2021-01-31T12:59:13.741434",
     "status": "completed"
    },
    "tags": []
   },
   "outputs": [],
   "source": [
    "''' Model 5'''\n",
    "\n",
    "''' container '''\n",
    "model5 = Sequential()\n",
    "\n",
    "''' Convolutional Layers '''\n",
    "model5.add(Convolution2D(32, (3, 3),kernel_regularizer=regularizers.l1_l2(0.001), input_shape = (200, 200, 1), activation = 'relu'))\n",
    "model5.add(MaxPooling2D(pool_size = (2, 2)))\n",
    "\n",
    "model5.add(Convolution2D(32, (3, 3),kernel_regularizer=regularizers.l1_l2(0.001), activation = 'relu'))\n",
    "model5.add(MaxPooling2D(pool_size = (2, 2)))\n",
    "\n",
    "model5.add(Convolution2D(64, (3, 3),kernel_regularizer=regularizers.l1_l2(0.001), activation = 'relu'))\n",
    "model5.add(MaxPooling2D(pool_size = (2, 2)))\n",
    "\n",
    "model5.add(Convolution2D(64, (3, 3),kernel_regularizer=regularizers.l1_l2(0.001), activation = 'relu'))\n",
    "model5.add(MaxPooling2D(pool_size = (2, 2)))\n",
    "\n",
    "model5.add(Flatten())\n",
    "\n",
    "''' Hidden Layer '''\n",
    "model5.add(Dense(128, activation = 'relu'))\n",
    "\n",
    "''' Classification Layer '''\n",
    "model5.add(Dense(1, activation = 'sigmoid'))"
   ]
  },
  {
   "cell_type": "code",
   "execution_count": 31,
   "metadata": {
    "execution": {
     "iopub.execute_input": "2021-01-31T12:59:14.622251Z",
     "iopub.status.busy": "2021-01-31T12:59:14.621103Z",
     "iopub.status.idle": "2021-01-31T12:59:14.627159Z",
     "shell.execute_reply": "2021-01-31T12:59:14.626628Z"
    },
    "papermill": {
     "duration": 0.286207,
     "end_time": "2021-01-31T12:59:14.627271",
     "exception": false,
     "start_time": "2021-01-31T12:59:14.341064",
     "status": "completed"
    },
    "tags": []
   },
   "outputs": [],
   "source": [
    "''' Compile the model '''\n",
    "model5.compile(optimizer = 'adam', loss = 'binary_crossentropy', metrics = ['accuracy'])"
   ]
  },
  {
   "cell_type": "code",
   "execution_count": 32,
   "metadata": {
    "execution": {
     "iopub.execute_input": "2021-01-31T12:59:15.401186Z",
     "iopub.status.busy": "2021-01-31T12:59:15.400299Z",
     "iopub.status.idle": "2021-01-31T13:00:12.316594Z",
     "shell.execute_reply": "2021-01-31T13:00:12.315832Z"
    },
    "papermill": {
     "duration": 57.370406,
     "end_time": "2021-01-31T13:00:12.316778",
     "exception": false,
     "start_time": "2021-01-31T12:59:14.946372",
     "status": "completed"
    },
    "tags": []
   },
   "outputs": [
    {
     "name": "stdout",
     "output_type": "stream",
     "text": [
      "Epoch 1/10\n",
      "15/15 [==============================] - 5s 359ms/step - loss: 3.9866 - accuracy: 0.5270 - val_loss: 3.2523 - val_accuracy: 0.5000\n",
      "Epoch 2/10\n",
      "15/15 [==============================] - 5s 350ms/step - loss: 2.7541 - accuracy: 0.6081 - val_loss: 2.2370 - val_accuracy: 0.8000\n",
      "Epoch 3/10\n",
      "15/15 [==============================] - 5s 341ms/step - loss: 1.8516 - accuracy: 0.7770 - val_loss: 1.4021 - val_accuracy: 0.7250\n",
      "Epoch 4/10\n",
      "15/15 [==============================] - 6s 367ms/step - loss: 1.1441 - accuracy: 0.8176 - val_loss: 0.7566 - val_accuracy: 0.9750\n",
      "Epoch 5/10\n",
      "15/15 [==============================] - 5s 333ms/step - loss: 0.6973 - accuracy: 0.9189 - val_loss: 0.4886 - val_accuracy: 0.9500\n",
      "Epoch 6/10\n",
      "15/15 [==============================] - 6s 382ms/step - loss: 0.5597 - accuracy: 0.8851 - val_loss: 0.5414 - val_accuracy: 0.9000\n",
      "Epoch 7/10\n",
      "15/15 [==============================] - 5s 343ms/step - loss: 0.4641 - accuracy: 0.9122 - val_loss: 0.3293 - val_accuracy: 0.9500\n",
      "Epoch 8/10\n",
      "15/15 [==============================] - 5s 336ms/step - loss: 0.3846 - accuracy: 0.9189 - val_loss: 0.2818 - val_accuracy: 0.9750\n",
      "Epoch 9/10\n",
      "15/15 [==============================] - 5s 349ms/step - loss: 0.3991 - accuracy: 0.9122 - val_loss: 0.3450 - val_accuracy: 0.9250\n",
      "Epoch 10/10\n",
      "15/15 [==============================] - 5s 340ms/step - loss: 0.3848 - accuracy: 0.8919 - val_loss: 0.2754 - val_accuracy: 0.9750\n"
     ]
    }
   ],
   "source": [
    "''' history '''\n",
    "history5 = model5.fit(training_set, epochs = 10, validation_data= test_set)"
   ]
  },
  {
   "cell_type": "code",
   "execution_count": 33,
   "metadata": {
    "execution": {
     "iopub.execute_input": "2021-01-31T13:00:12.955682Z",
     "iopub.status.busy": "2021-01-31T13:00:12.955141Z",
     "iopub.status.idle": "2021-01-31T13:00:12.960921Z",
     "shell.execute_reply": "2021-01-31T13:00:12.960509Z"
    },
    "papermill": {
     "duration": 0.325339,
     "end_time": "2021-01-31T13:00:12.961011",
     "exception": false,
     "start_time": "2021-01-31T13:00:12.635672",
     "status": "completed"
    },
    "tags": []
   },
   "outputs": [
    {
     "data": {
      "text/plain": [
       "dict_keys(['loss', 'accuracy', 'val_loss', 'val_accuracy'])"
      ]
     },
     "execution_count": 33,
     "metadata": {},
     "output_type": "execute_result"
    }
   ],
   "source": [
    "hist_dict5 = history5.history\n",
    "hist_dict5.keys()"
   ]
  },
  {
   "cell_type": "code",
   "execution_count": 34,
   "metadata": {
    "execution": {
     "iopub.execute_input": "2021-01-31T13:00:13.599567Z",
     "iopub.status.busy": "2021-01-31T13:00:13.598214Z",
     "iopub.status.idle": "2021-01-31T13:00:13.876180Z",
     "shell.execute_reply": "2021-01-31T13:00:13.876711Z"
    },
    "papermill": {
     "duration": 0.603255,
     "end_time": "2021-01-31T13:00:13.876875",
     "exception": false,
     "start_time": "2021-01-31T13:00:13.273620",
     "status": "completed"
    },
    "tags": []
   },
   "outputs": [
    {
     "data": {
      "image/png": "[encoded data removed]",
      "text/plain": [
       "<Figure size 432x288 with 1 Axes>"
      ]
     },
     "metadata": {
      "needs_background": "light"
     },
     "output_type": "display_data"
    },
    {
     "data": {
      "image/png": "[encoded data removed]",
      "text/plain": [
       "<Figure size 432x288 with 1 Axes>"
      ]
     },
     "metadata": {
      "needs_background": "light"
     },
     "output_type": "display_data"
    }
   ],
   "source": [
    "''' traininga loss and validation loss graph '''\n",
    "train_loss = hist_dict5['loss']\n",
    "val_loss = hist_dict5['val_loss']\n",
    "plt.plot(train_loss, 'bo', label='Training loss')\n",
    "plt.plot(val_loss, 'b', label='Validation loss')\n",
    "plt.title('Training and validation loss using l1l2_')\n",
    "plt.xlabel('Epochs')\n",
    "plt.ylabel('Loss')\n",
    "plt.legend()\n",
    "plt.show()\n",
    "\n",
    "''' traininga accuracy and validation accuracy graph '''\n",
    "train_acc = history_dict5['accuracy']\n",
    "val_acc = history_dict5['val_accuracy']\n",
    "plt.plot(train_acc, 'bo', label='Training accuracy')\n",
    "plt.plot(val_acc, 'b', label='Validation accuracy')\n",
    "plt.title('Training and validation accuracy usinf l1l2_')\n",
    "plt.xlabel('Epochs')\n",
    "plt.ylabel('accuracy')\n",
    "plt.legend()\n",
    "plt.show()"
   ]
  },
  {
   "cell_type": "code",
   "execution_count": null,
   "metadata": {
    "papermill": {
     "duration": 0.322505,
     "end_time": "2021-01-31T13:00:16.488953",
     "exception": false,
     "start_time": "2021-01-31T13:00:16.166448",
     "status": "completed"
    },
    "tags": []
   },
   "outputs": [],
   "source": []
  }
 ],
 "metadata": {
  "kernelspec": {
   "display_name": "Python 3",
   "language": "python",
   "name": "python3"
  },
  "language_info": {
   "codemirror_mode": {
    "name": "ipython",
    "version": 3
   },
   "file_extension": ".py",
   "mimetype": "text/x-python",
   "name": "python",
   "nbconvert_exporter": "python",
   "pygments_lexer": "ipython3",
   "version": "3.8.5"
  },
  "papermill": {
   "duration": 374.079705,
   "end_time": "2021-01-31T13:00:18.458096",
   "environment_variables": {},
   "exception": null,
   "input_path": "__notebook__.ipynb",
   "output_path": "__notebook__.ipynb",
   "parameters": {},
   "start_time": "2021-01-31T12:54:04.378391",
   "version": "2.1.0"
  }
 },
 "nbformat": 4,
 "nbformat_minor": 4
}
